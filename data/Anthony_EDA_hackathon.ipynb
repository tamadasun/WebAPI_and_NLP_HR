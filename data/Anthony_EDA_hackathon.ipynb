{
 "cells": [
  {
   "cell_type": "code",
   "execution_count": 6,
   "id": "cb1d5644-2f3a-4c93-8186-b8dec3d0ff1e",
   "metadata": {
    "tags": []
   },
   "outputs": [],
   "source": [
    "\n",
    "import pandas as pd\n",
    "import numpy as np\n",
    "\n",
    "# Import CountVectorizer and TFIDFVectorizer from feature_extraction.text.\n",
    "from sklearn.feature_extraction.text import CountVectorizer, TfidfVectorizer\n",
    "from sklearn.model_selection import train_test_split, GridSearchCV\n",
    "from sklearn.pipeline import Pipeline\n",
    "from sklearn.naive_bayes import MultinomialNB\n",
    "\n",
    "\n",
    "from nltk.corpus import stopwords\n",
    "from nltk.stem import PorterStemmer\n",
    "import re"
   ]
  },
  {
   "cell_type": "code",
   "execution_count": 7,
   "id": "64902e61-56b2-4f20-a5dd-79e71c394e9c",
   "metadata": {
    "tags": []
   },
   "outputs": [],
   "source": [
    "df = pd.read_csv('./data/drug_reviews_cleaned.csv')"
   ]
  },
  {
   "cell_type": "code",
   "execution_count": 8,
   "id": "0b448a42-a31b-4f68-b4da-b932c670faf7",
   "metadata": {
    "tags": []
   },
   "outputs": [
    {
     "data": {
      "text/html": [
       "<div>\n",
       "<style scoped>\n",
       "    .dataframe tbody tr th:only-of-type {\n",
       "        vertical-align: middle;\n",
       "    }\n",
       "\n",
       "    .dataframe tbody tr th {\n",
       "        vertical-align: top;\n",
       "    }\n",
       "\n",
       "    .dataframe thead th {\n",
       "        text-align: right;\n",
       "    }\n",
       "</style>\n",
       "<table border=\"1\" class=\"dataframe\">\n",
       "  <thead>\n",
       "    <tr style=\"text-align: right;\">\n",
       "      <th></th>\n",
       "      <th>User_ID</th>\n",
       "      <th>drugName</th>\n",
       "      <th>condition</th>\n",
       "      <th>review</th>\n",
       "      <th>rating</th>\n",
       "      <th>date</th>\n",
       "      <th>usefulCount</th>\n",
       "      <th>ratings_simplified</th>\n",
       "    </tr>\n",
       "  </thead>\n",
       "  <tbody>\n",
       "    <tr>\n",
       "      <th>0</th>\n",
       "      <td>164952</td>\n",
       "      <td>Phentermine / topiramate</td>\n",
       "      <td>Weight Loss</td>\n",
       "      <td>\"I have been on the Qysmia for 3 weeks now.  I...</td>\n",
       "      <td>8.0</td>\n",
       "      <td>December 25, 2015</td>\n",
       "      <td>38</td>\n",
       "      <td>3</td>\n",
       "    </tr>\n",
       "    <tr>\n",
       "      <th>1</th>\n",
       "      <td>145900</td>\n",
       "      <td>Qsymia</td>\n",
       "      <td>Weight Loss</td>\n",
       "      <td>\"My Dr agreed to over see putting me on Qsymia...</td>\n",
       "      <td>9.0</td>\n",
       "      <td>February 24, 2013</td>\n",
       "      <td>46</td>\n",
       "      <td>4</td>\n",
       "    </tr>\n",
       "    <tr>\n",
       "      <th>2</th>\n",
       "      <td>52117</td>\n",
       "      <td>Adipex-P</td>\n",
       "      <td>Weight Loss</td>\n",
       "      <td>\"I just started Adipex-P 37.5mg on March 6th, ...</td>\n",
       "      <td>8.0</td>\n",
       "      <td>March 10, 2011</td>\n",
       "      <td>7</td>\n",
       "      <td>3</td>\n",
       "    </tr>\n",
       "    <tr>\n",
       "      <th>3</th>\n",
       "      <td>145785</td>\n",
       "      <td>Qsymia</td>\n",
       "      <td>Weight Loss</td>\n",
       "      <td>\"Began taking Qsymia 3.75 in June 2013. Its on...</td>\n",
       "      <td>10.0</td>\n",
       "      <td>May 26, 2014</td>\n",
       "      <td>61</td>\n",
       "      <td>4</td>\n",
       "    </tr>\n",
       "    <tr>\n",
       "      <th>4</th>\n",
       "      <td>145840</td>\n",
       "      <td>Qsymia</td>\n",
       "      <td>Weight Loss</td>\n",
       "      <td>\"Made me jittery and could not sleep. Lost wei...</td>\n",
       "      <td>1.0</td>\n",
       "      <td>August 21, 2013</td>\n",
       "      <td>59</td>\n",
       "      <td>1</td>\n",
       "    </tr>\n",
       "  </tbody>\n",
       "</table>\n",
       "</div>"
      ],
      "text/plain": [
       "   User_ID                  drugName    condition  \\\n",
       "0   164952  Phentermine / topiramate  Weight Loss   \n",
       "1   145900                    Qsymia  Weight Loss   \n",
       "2    52117                  Adipex-P  Weight Loss   \n",
       "3   145785                    Qsymia  Weight Loss   \n",
       "4   145840                    Qsymia  Weight Loss   \n",
       "\n",
       "                                              review  rating  \\\n",
       "0  \"I have been on the Qysmia for 3 weeks now.  I...     8.0   \n",
       "1  \"My Dr agreed to over see putting me on Qsymia...     9.0   \n",
       "2  \"I just started Adipex-P 37.5mg on March 6th, ...     8.0   \n",
       "3  \"Began taking Qsymia 3.75 in June 2013. Its on...    10.0   \n",
       "4  \"Made me jittery and could not sleep. Lost wei...     1.0   \n",
       "\n",
       "                date  usefulCount  ratings_simplified  \n",
       "0  December 25, 2015           38                   3  \n",
       "1  February 24, 2013           46                   4  \n",
       "2     March 10, 2011            7                   3  \n",
       "3       May 26, 2014           61                   4  \n",
       "4    August 21, 2013           59                   1  "
      ]
     },
     "execution_count": 8,
     "metadata": {},
     "output_type": "execute_result"
    }
   ],
   "source": [
    "df.head()"
   ]
  },
  {
   "cell_type": "code",
   "execution_count": 9,
   "id": "152af076-48f0-4de3-86ca-12e6a04a51ef",
   "metadata": {
    "tags": []
   },
   "outputs": [
    {
     "data": {
      "text/plain": [
       "User_ID               0\n",
       "drugName              0\n",
       "condition             0\n",
       "review                0\n",
       "rating                0\n",
       "date                  0\n",
       "usefulCount           0\n",
       "ratings_simplified    0\n",
       "dtype: int64"
      ]
     },
     "execution_count": 9,
     "metadata": {},
     "output_type": "execute_result"
    }
   ],
   "source": [
    "df.isnull().sum()"
   ]
  },
  {
   "cell_type": "code",
   "execution_count": 10,
   "id": "dcedf134-7a3d-4e8a-a214-fdc1e8794eef",
   "metadata": {
    "tags": []
   },
   "outputs": [
    {
     "data": {
      "text/plain": [
       "User_ID                 int64\n",
       "drugName               object\n",
       "condition              object\n",
       "review                 object\n",
       "rating                float64\n",
       "date                   object\n",
       "usefulCount             int64\n",
       "ratings_simplified      int64\n",
       "dtype: object"
      ]
     },
     "execution_count": 10,
     "metadata": {},
     "output_type": "execute_result"
    }
   ],
   "source": [
    "df.dtypes"
   ]
  },
  {
   "cell_type": "code",
   "execution_count": 11,
   "id": "2a12e551-e1e7-483c-a841-75602b230393",
   "metadata": {
    "tags": []
   },
   "outputs": [
    {
     "data": {
      "text/html": [
       "<div>\n",
       "<style scoped>\n",
       "    .dataframe tbody tr th:only-of-type {\n",
       "        vertical-align: middle;\n",
       "    }\n",
       "\n",
       "    .dataframe tbody tr th {\n",
       "        vertical-align: top;\n",
       "    }\n",
       "\n",
       "    .dataframe thead th {\n",
       "        text-align: right;\n",
       "    }\n",
       "</style>\n",
       "<table border=\"1\" class=\"dataframe\">\n",
       "  <thead>\n",
       "    <tr style=\"text-align: right;\">\n",
       "      <th></th>\n",
       "      <th>User_ID</th>\n",
       "      <th>rating</th>\n",
       "      <th>usefulCount</th>\n",
       "      <th>ratings_simplified</th>\n",
       "    </tr>\n",
       "  </thead>\n",
       "  <tbody>\n",
       "    <tr>\n",
       "      <th>count</th>\n",
       "      <td>3609.000000</td>\n",
       "      <td>3609.000000</td>\n",
       "      <td>3609.000000</td>\n",
       "      <td>3609.000000</td>\n",
       "    </tr>\n",
       "    <tr>\n",
       "      <th>mean</th>\n",
       "      <td>96869.776392</td>\n",
       "      <td>8.051261</td>\n",
       "      <td>38.751455</td>\n",
       "      <td>3.321696</td>\n",
       "    </tr>\n",
       "    <tr>\n",
       "      <th>std</th>\n",
       "      <td>52132.118548</td>\n",
       "      <td>2.760864</td>\n",
       "      <td>45.854997</td>\n",
       "      <td>1.040679</td>\n",
       "    </tr>\n",
       "    <tr>\n",
       "      <th>min</th>\n",
       "      <td>4248.000000</td>\n",
       "      <td>1.000000</td>\n",
       "      <td>0.000000</td>\n",
       "      <td>1.000000</td>\n",
       "    </tr>\n",
       "    <tr>\n",
       "      <th>25%</th>\n",
       "      <td>54425.000000</td>\n",
       "      <td>7.000000</td>\n",
       "      <td>12.000000</td>\n",
       "      <td>3.000000</td>\n",
       "    </tr>\n",
       "    <tr>\n",
       "      <th>50%</th>\n",
       "      <td>127494.000000</td>\n",
       "      <td>9.000000</td>\n",
       "      <td>24.000000</td>\n",
       "      <td>4.000000</td>\n",
       "    </tr>\n",
       "    <tr>\n",
       "      <th>75%</th>\n",
       "      <td>138761.000000</td>\n",
       "      <td>10.000000</td>\n",
       "      <td>50.000000</td>\n",
       "      <td>4.000000</td>\n",
       "    </tr>\n",
       "    <tr>\n",
       "      <th>max</th>\n",
       "      <td>219296.000000</td>\n",
       "      <td>10.000000</td>\n",
       "      <td>796.000000</td>\n",
       "      <td>4.000000</td>\n",
       "    </tr>\n",
       "  </tbody>\n",
       "</table>\n",
       "</div>"
      ],
      "text/plain": [
       "             User_ID       rating  usefulCount  ratings_simplified\n",
       "count    3609.000000  3609.000000  3609.000000         3609.000000\n",
       "mean    96869.776392     8.051261    38.751455            3.321696\n",
       "std     52132.118548     2.760864    45.854997            1.040679\n",
       "min      4248.000000     1.000000     0.000000            1.000000\n",
       "25%     54425.000000     7.000000    12.000000            3.000000\n",
       "50%    127494.000000     9.000000    24.000000            4.000000\n",
       "75%    138761.000000    10.000000    50.000000            4.000000\n",
       "max    219296.000000    10.000000   796.000000            4.000000"
      ]
     },
     "execution_count": 11,
     "metadata": {},
     "output_type": "execute_result"
    }
   ],
   "source": [
    "df.describe()"
   ]
  },
  {
   "cell_type": "code",
   "execution_count": 12,
   "id": "46c738c6-2b56-484a-b1b0-60acb425c5b5",
   "metadata": {
    "tags": []
   },
   "outputs": [
    {
     "data": {
      "text/plain": [
       "0"
      ]
     },
     "execution_count": 12,
     "metadata": {},
     "output_type": "execute_result"
    }
   ],
   "source": [
    "df.duplicated().sum()"
   ]
  },
  {
   "cell_type": "code",
   "execution_count": 13,
   "id": "c0c25099-2245-4bde-96a9-886ea3865166",
   "metadata": {
    "tags": []
   },
   "outputs": [
    {
     "data": {
      "text/plain": [
       "User_ID                0\n",
       "drugName               0\n",
       "condition              0\n",
       "review                 0\n",
       "rating                 0\n",
       "date                   0\n",
       "usefulCount           39\n",
       "ratings_simplified     0\n",
       "dtype: int64"
      ]
     },
     "execution_count": 13,
     "metadata": {},
     "output_type": "execute_result"
    }
   ],
   "source": [
    "df.eq(0).sum()"
   ]
  },
  {
   "cell_type": "code",
   "execution_count": 14,
   "id": "1d5483b3-9111-47d5-8839-cad8870d832b",
   "metadata": {},
   "outputs": [
    {
     "name": "stdout",
     "output_type": "stream",
     "text": [
      "<class 'pandas.core.frame.DataFrame'>\n",
      "RangeIndex: 3609 entries, 0 to 3608\n",
      "Data columns (total 8 columns):\n",
      " #   Column              Non-Null Count  Dtype  \n",
      "---  ------              --------------  -----  \n",
      " 0   User_ID             3609 non-null   int64  \n",
      " 1   drugName            3609 non-null   object \n",
      " 2   condition           3609 non-null   object \n",
      " 3   review              3609 non-null   object \n",
      " 4   rating              3609 non-null   float64\n",
      " 5   date                3609 non-null   object \n",
      " 6   usefulCount         3609 non-null   int64  \n",
      " 7   ratings_simplified  3609 non-null   int64  \n",
      "dtypes: float64(1), int64(3), object(4)\n",
      "memory usage: 225.7+ KB\n"
     ]
    }
   ],
   "source": [
    "df.info()"
   ]
  },
  {
   "cell_type": "code",
   "execution_count": 15,
   "id": "24656da3-824d-4c46-b185-0b68211e38d2",
   "metadata": {},
   "outputs": [
    {
     "data": {
      "text/plain": [
       "(3609, 8)"
      ]
     },
     "execution_count": 15,
     "metadata": {},
     "output_type": "execute_result"
    }
   ],
   "source": [
    "df.shape"
   ]
  },
  {
   "cell_type": "code",
   "execution_count": 17,
   "id": "b32288e3-6cb8-4db4-8eec-3b03561bd4bd",
   "metadata": {
    "tags": []
   },
   "outputs": [
    {
     "data": {
      "text/plain": [
       "0    \"I have been on the Qysmia for 3 weeks now.  I...\n",
       "1    \"My Dr agreed to over see putting me on Qsymia...\n",
       "2    \"I just started Adipex-P 37.5mg on March 6th, ...\n",
       "3    \"Began taking Qsymia 3.75 in June 2013. Its on...\n",
       "4    \"Made me jittery and could not sleep. Lost wei...\n",
       "5    \"I am a 28 year old female and my highest weig...\n",
       "6    \"I have been on Contrave for 3 weeks. I am 5&q...\n",
       "7    \"I was signed up to have the gastric sleeve pr...\n",
       "8    \"Let me start by saying I am 59 years old. Unt...\n",
       "9    \"I started 5/14/15 and after schpeel from my d...\n",
       "Name: review, dtype: object"
      ]
     },
     "execution_count": 17,
     "metadata": {},
     "output_type": "execute_result"
    }
   ],
   "source": [
    "df['review'].head(10)"
   ]
  },
  {
   "cell_type": "markdown",
   "id": "62a7ab8d-ef7b-40ce-8631-59d476c6f6ed",
   "metadata": {},
   "source": [
    "## Cleaning"
   ]
  },
  {
   "cell_type": "code",
   "execution_count": 16,
   "id": "4f583afa-15af-47a7-95e2-26db26ae9da4",
   "metadata": {
    "tags": []
   },
   "outputs": [],
   "source": [
    "df['date'] = pd.to_datetime(df['date'])"
   ]
  },
  {
   "cell_type": "markdown",
   "id": "b95938a5-77b4-4db7-a13f-13b658cb6956",
   "metadata": {},
   "source": [
    "## text processing"
   ]
  },
  {
   "cell_type": "code",
   "execution_count": null,
   "id": "242e18ab-b557-46a1-b20c-e3c1ad568a96",
   "metadata": {
    "tags": []
   },
   "outputs": [],
   "source": [
    "# stop_words = set(stopwords.words('english'))\n",
    "# ps = PorterStemmer()"
   ]
  },
  {
   "cell_type": "code",
   "execution_count": null,
   "id": "f8b96f70-c169-48c9-8491-2bb0a20b6139",
   "metadata": {
    "tags": []
   },
   "outputs": [],
   "source": [
    "# # Instantiate a CountVectorizer.\n",
    "# cvec = CountVectorizer()"
   ]
  },
  {
   "cell_type": "markdown",
   "id": "58880e77-a8e9-4a49-8b26-b4514253b917",
   "metadata": {},
   "source": [
    "## modeling"
   ]
  },
  {
   "cell_type": "code",
   "execution_count": 18,
   "id": "b548d8d3-b01a-42a5-b9b6-4fa0ded769a3",
   "metadata": {
    "tags": []
   },
   "outputs": [],
   "source": [
    "X = df['review']\n",
    "y = df['ratings_simplified']"
   ]
  },
  {
   "cell_type": "code",
   "execution_count": 19,
   "id": "2ebee7ab-50f1-401c-8999-f9ae644532bc",
   "metadata": {
    "tags": []
   },
   "outputs": [
    {
     "data": {
      "text/plain": [
       "ratings_simplified\n",
       "4    0.638681\n",
       "3    0.159601\n",
       "1    0.115267\n",
       "2    0.086451\n",
       "Name: proportion, dtype: float64"
      ]
     },
     "execution_count": 19,
     "metadata": {},
     "output_type": "execute_result"
    }
   ],
   "source": [
    "# Check what we need to check in a classification problem.\n",
    "y.value_counts(normalize = True)"
   ]
  },
  {
   "cell_type": "code",
   "execution_count": 20,
   "id": "9e06e691-4f9d-43c7-8883-1deab9104db4",
   "metadata": {
    "tags": []
   },
   "outputs": [],
   "source": [
    "#Split the data into the training and testing sets.\n",
    "X_train, X_test, y_train, y_test = train_test_split(X,\n",
    "                                                    y,\n",
    "                                                    test_size=0.25,\n",
    "                                                    stratify=y,\n",
    "                                                    random_state=123)"
   ]
  },
  {
   "cell_type": "code",
   "execution_count": 21,
   "id": "774112eb-56a7-40a0-a547-bc3f473ae5d8",
   "metadata": {
    "tags": []
   },
   "outputs": [
    {
     "name": "stdout",
     "output_type": "stream",
     "text": [
      "Training\n",
      "ratings_simplified\n",
      "4    0.638581\n",
      "3    0.159645\n",
      "1    0.115299\n",
      "2    0.086475\n",
      "Name: proportion, dtype: float64\n",
      "Testing\n",
      "ratings_simplified\n",
      "4    0.638981\n",
      "3    0.159468\n",
      "1    0.115172\n",
      "2    0.086379\n",
      "Name: proportion, dtype: float64\n"
     ]
    }
   ],
   "source": [
    "\n",
    "\n",
    "print('Training')\n",
    "print(y_train.value_counts(normalize = True))\n",
    "print('Testing')\n",
    "print(y_test.value_counts(normalize = True))"
   ]
  },
  {
   "cell_type": "code",
   "execution_count": 22,
   "id": "2f82c8fa-135a-4e72-9053-740cc5a549fb",
   "metadata": {},
   "outputs": [
    {
     "data": {
      "text/plain": [
       "'\"I just started Adipex-P 37.5mg on March 6th, 2011. I am in the military and am a single mom of two. I work and go to school full time so its hard for me to work out everyday even though I&#039;m supposed to. I have never really had trouble losing weight until I started working night shift in May. I would only eat one meal a day but since it was late I gained the weight. I am 5&#039;5 and weighed 184lbs before I was put on this pill. The first day I took it was right after the doctors appointment. By 5pm and I had only eaten one piece of ham. I bought a salad after I took the pill and tried to eat it when I got home at 6 and couldn&#039;t because I had no urge to want to eat. It&#039;s Wednesday now and I&#039;ve lost 4lbs already.\"'"
      ]
     },
     "execution_count": 22,
     "metadata": {},
     "output_type": "execute_result"
    }
   ],
   "source": [
    "X[2]"
   ]
  },
  {
   "cell_type": "markdown",
   "id": "efe76845-32ae-432c-ab50-8c6bf3e4ca78",
   "metadata": {},
   "source": [
    "## Pipeline"
   ]
  },
  {
   "cell_type": "code",
   "execution_count": 23,
   "id": "36e8b6ce-42d2-4e1a-9401-7a448f04b156",
   "metadata": {
    "tags": []
   },
   "outputs": [],
   "source": [
    "pipe = Pipeline([\n",
    "    ('cvec', CountVectorizer()),\n",
    "    ('nb', MultinomialNB()),\n",
    "    # ('svm', SVC(gamma = 'auto'))\n",
    "    # ('svm', SVC(gamma = 'auto'))\n",
    "  \n",
    "])"
   ]
  },
  {
   "cell_type": "code",
   "execution_count": 24,
   "id": "d5a3d980-35d8-49d0-a0cd-258ef4402364",
   "metadata": {
    "tags": []
   },
   "outputs": [],
   "source": [
    "\n",
    "pipe_params = {\n",
    "    'cvec__max_features': [500, 1000, 2000, 3000, 4000, 5000], \n",
    "    'cvec__min_df': [2, 3,],\n",
    "    'cvec__max_df': [0.9, 0.95],\n",
    "    'cvec__ngram_range': [(1,1), (1,2)],\n",
    "    # 'svm__C': [0.1, 1, 10],\n",
    "    # 'svm__c': [.1, 1, 10],\n",
    "    # 'svm__kernel': ['linear', 'rbf']\n",
    "}"
   ]
  },
  {
   "cell_type": "code",
   "execution_count": 25,
   "id": "b4c2314c-ce37-4226-aecf-6147dc7980ca",
   "metadata": {
    "tags": []
   },
   "outputs": [],
   "source": [
    "gs = GridSearchCV(pipe, \n",
    "                  param_grid=pipe_params, \n",
    "                  cv=5) "
   ]
  },
  {
   "cell_type": "code",
   "execution_count": 26,
   "id": "ef854304-ce7d-4533-9719-ef8994eb9b81",
   "metadata": {
    "tags": []
   },
   "outputs": [
    {
     "data": {
      "text/html": [
       "<style>#sk-container-id-1 {color: black;}#sk-container-id-1 pre{padding: 0;}#sk-container-id-1 div.sk-toggleable {background-color: white;}#sk-container-id-1 label.sk-toggleable__label {cursor: pointer;display: block;width: 100%;margin-bottom: 0;padding: 0.3em;box-sizing: border-box;text-align: center;}#sk-container-id-1 label.sk-toggleable__label-arrow:before {content: \"▸\";float: left;margin-right: 0.25em;color: #696969;}#sk-container-id-1 label.sk-toggleable__label-arrow:hover:before {color: black;}#sk-container-id-1 div.sk-estimator:hover label.sk-toggleable__label-arrow:before {color: black;}#sk-container-id-1 div.sk-toggleable__content {max-height: 0;max-width: 0;overflow: hidden;text-align: left;background-color: #f0f8ff;}#sk-container-id-1 div.sk-toggleable__content pre {margin: 0.2em;color: black;border-radius: 0.25em;background-color: #f0f8ff;}#sk-container-id-1 input.sk-toggleable__control:checked~div.sk-toggleable__content {max-height: 200px;max-width: 100%;overflow: auto;}#sk-container-id-1 input.sk-toggleable__control:checked~label.sk-toggleable__label-arrow:before {content: \"▾\";}#sk-container-id-1 div.sk-estimator input.sk-toggleable__control:checked~label.sk-toggleable__label {background-color: #d4ebff;}#sk-container-id-1 div.sk-label input.sk-toggleable__control:checked~label.sk-toggleable__label {background-color: #d4ebff;}#sk-container-id-1 input.sk-hidden--visually {border: 0;clip: rect(1px 1px 1px 1px);clip: rect(1px, 1px, 1px, 1px);height: 1px;margin: -1px;overflow: hidden;padding: 0;position: absolute;width: 1px;}#sk-container-id-1 div.sk-estimator {font-family: monospace;background-color: #f0f8ff;border: 1px dotted black;border-radius: 0.25em;box-sizing: border-box;margin-bottom: 0.5em;}#sk-container-id-1 div.sk-estimator:hover {background-color: #d4ebff;}#sk-container-id-1 div.sk-parallel-item::after {content: \"\";width: 100%;border-bottom: 1px solid gray;flex-grow: 1;}#sk-container-id-1 div.sk-label:hover label.sk-toggleable__label {background-color: #d4ebff;}#sk-container-id-1 div.sk-serial::before {content: \"\";position: absolute;border-left: 1px solid gray;box-sizing: border-box;top: 0;bottom: 0;left: 50%;z-index: 0;}#sk-container-id-1 div.sk-serial {display: flex;flex-direction: column;align-items: center;background-color: white;padding-right: 0.2em;padding-left: 0.2em;position: relative;}#sk-container-id-1 div.sk-item {position: relative;z-index: 1;}#sk-container-id-1 div.sk-parallel {display: flex;align-items: stretch;justify-content: center;background-color: white;position: relative;}#sk-container-id-1 div.sk-item::before, #sk-container-id-1 div.sk-parallel-item::before {content: \"\";position: absolute;border-left: 1px solid gray;box-sizing: border-box;top: 0;bottom: 0;left: 50%;z-index: -1;}#sk-container-id-1 div.sk-parallel-item {display: flex;flex-direction: column;z-index: 1;position: relative;background-color: white;}#sk-container-id-1 div.sk-parallel-item:first-child::after {align-self: flex-end;width: 50%;}#sk-container-id-1 div.sk-parallel-item:last-child::after {align-self: flex-start;width: 50%;}#sk-container-id-1 div.sk-parallel-item:only-child::after {width: 0;}#sk-container-id-1 div.sk-dashed-wrapped {border: 1px dashed gray;margin: 0 0.4em 0.5em 0.4em;box-sizing: border-box;padding-bottom: 0.4em;background-color: white;}#sk-container-id-1 div.sk-label label {font-family: monospace;font-weight: bold;display: inline-block;line-height: 1.2em;}#sk-container-id-1 div.sk-label-container {text-align: center;}#sk-container-id-1 div.sk-container {/* jupyter's `normalize.less` sets `[hidden] { display: none; }` but bootstrap.min.css set `[hidden] { display: none !important; }` so we also need the `!important` here to be able to override the default hidden behavior on the sphinx rendered scikit-learn.org. See: https://github.com/scikit-learn/scikit-learn/issues/21755 */display: inline-block !important;position: relative;}#sk-container-id-1 div.sk-text-repr-fallback {display: none;}</style><div id=\"sk-container-id-1\" class=\"sk-top-container\"><div class=\"sk-text-repr-fallback\"><pre>GridSearchCV(cv=5,\n",
       "             estimator=Pipeline(steps=[(&#x27;cvec&#x27;, CountVectorizer()),\n",
       "                                       (&#x27;nb&#x27;, MultinomialNB())]),\n",
       "             param_grid={&#x27;cvec__max_df&#x27;: [0.9, 0.95],\n",
       "                         &#x27;cvec__max_features&#x27;: [500, 1000, 2000, 3000, 4000,\n",
       "                                                5000],\n",
       "                         &#x27;cvec__min_df&#x27;: [2, 3],\n",
       "                         &#x27;cvec__ngram_range&#x27;: [(1, 1), (1, 2)]})</pre><b>In a Jupyter environment, please rerun this cell to show the HTML representation or trust the notebook. <br />On GitHub, the HTML representation is unable to render, please try loading this page with nbviewer.org.</b></div><div class=\"sk-container\" hidden><div class=\"sk-item sk-dashed-wrapped\"><div class=\"sk-label-container\"><div class=\"sk-label sk-toggleable\"><input class=\"sk-toggleable__control sk-hidden--visually\" id=\"sk-estimator-id-1\" type=\"checkbox\" ><label for=\"sk-estimator-id-1\" class=\"sk-toggleable__label sk-toggleable__label-arrow\">GridSearchCV</label><div class=\"sk-toggleable__content\"><pre>GridSearchCV(cv=5,\n",
       "             estimator=Pipeline(steps=[(&#x27;cvec&#x27;, CountVectorizer()),\n",
       "                                       (&#x27;nb&#x27;, MultinomialNB())]),\n",
       "             param_grid={&#x27;cvec__max_df&#x27;: [0.9, 0.95],\n",
       "                         &#x27;cvec__max_features&#x27;: [500, 1000, 2000, 3000, 4000,\n",
       "                                                5000],\n",
       "                         &#x27;cvec__min_df&#x27;: [2, 3],\n",
       "                         &#x27;cvec__ngram_range&#x27;: [(1, 1), (1, 2)]})</pre></div></div></div><div class=\"sk-parallel\"><div class=\"sk-parallel-item\"><div class=\"sk-item\"><div class=\"sk-label-container\"><div class=\"sk-label sk-toggleable\"><input class=\"sk-toggleable__control sk-hidden--visually\" id=\"sk-estimator-id-2\" type=\"checkbox\" ><label for=\"sk-estimator-id-2\" class=\"sk-toggleable__label sk-toggleable__label-arrow\">estimator: Pipeline</label><div class=\"sk-toggleable__content\"><pre>Pipeline(steps=[(&#x27;cvec&#x27;, CountVectorizer()), (&#x27;nb&#x27;, MultinomialNB())])</pre></div></div></div><div class=\"sk-serial\"><div class=\"sk-item\"><div class=\"sk-serial\"><div class=\"sk-item\"><div class=\"sk-estimator sk-toggleable\"><input class=\"sk-toggleable__control sk-hidden--visually\" id=\"sk-estimator-id-3\" type=\"checkbox\" ><label for=\"sk-estimator-id-3\" class=\"sk-toggleable__label sk-toggleable__label-arrow\">CountVectorizer</label><div class=\"sk-toggleable__content\"><pre>CountVectorizer()</pre></div></div></div><div class=\"sk-item\"><div class=\"sk-estimator sk-toggleable\"><input class=\"sk-toggleable__control sk-hidden--visually\" id=\"sk-estimator-id-4\" type=\"checkbox\" ><label for=\"sk-estimator-id-4\" class=\"sk-toggleable__label sk-toggleable__label-arrow\">MultinomialNB</label><div class=\"sk-toggleable__content\"><pre>MultinomialNB()</pre></div></div></div></div></div></div></div></div></div></div></div></div>"
      ],
      "text/plain": [
       "GridSearchCV(cv=5,\n",
       "             estimator=Pipeline(steps=[('cvec', CountVectorizer()),\n",
       "                                       ('nb', MultinomialNB())]),\n",
       "             param_grid={'cvec__max_df': [0.9, 0.95],\n",
       "                         'cvec__max_features': [500, 1000, 2000, 3000, 4000,\n",
       "                                                5000],\n",
       "                         'cvec__min_df': [2, 3],\n",
       "                         'cvec__ngram_range': [(1, 1), (1, 2)]})"
      ]
     },
     "execution_count": 26,
     "metadata": {},
     "output_type": "execute_result"
    }
   ],
   "source": [
    "gs.fit(X_train, y_train)"
   ]
  },
  {
   "cell_type": "code",
   "execution_count": 27,
   "id": "5824f92f-a6f3-4ecc-83de-ea1a70105973",
   "metadata": {
    "tags": []
   },
   "outputs": [
    {
     "data": {
      "text/plain": [
       "0.7546152744337056"
      ]
     },
     "execution_count": 27,
     "metadata": {},
     "output_type": "execute_result"
    }
   ],
   "source": [
    "#Best Score\n",
    "gs.best_score_"
   ]
  },
  {
   "cell_type": "code",
   "execution_count": 28,
   "id": "9f58174c-e862-4d01-bfbf-e8a7d8071401",
   "metadata": {
    "tags": []
   },
   "outputs": [
    {
     "data": {
      "text/plain": [
       "0.9061345158906134"
      ]
     },
     "execution_count": 28,
     "metadata": {},
     "output_type": "execute_result"
    }
   ],
   "source": [
    "#Train set score\n",
    "gs.score(X_train, y_train)"
   ]
  },
  {
   "cell_type": "code",
   "execution_count": 29,
   "id": "3aaa2669-09ea-41f9-a6f6-186d17f03369",
   "metadata": {
    "tags": []
   },
   "outputs": [
    {
     "data": {
      "text/plain": [
       "0.7541528239202658"
      ]
     },
     "execution_count": 29,
     "metadata": {},
     "output_type": "execute_result"
    }
   ],
   "source": [
    "#Test set score\n",
    "gs.score(X_test, y_test)"
   ]
  },
  {
   "cell_type": "code",
   "execution_count": null,
   "id": "9e40b9d8-b851-45fe-9bc8-5608e28e6d46",
   "metadata": {},
   "outputs": [],
   "source": []
  },
  {
   "cell_type": "markdown",
   "id": "ef84b776-3fb2-47df-8b1d-2c059a4dbf8d",
   "metadata": {},
   "source": [
    "## TF IDF Vectorizer"
   ]
  },
  {
   "cell_type": "code",
   "execution_count": 155,
   "id": "44116dd4-19f6-456c-8dce-bde49b3d37f3",
   "metadata": {
    "tags": []
   },
   "outputs": [],
   "source": [
    "pipe_tvec = Pipeline([\n",
    "    ('tvec', TfidfVectorizer()),\n",
    "    ('nb', MultinomialNB())\n",
    "])"
   ]
  },
  {
   "cell_type": "code",
   "execution_count": 156,
   "id": "a1f7ed34-29f3-4973-93ec-a9cc19b57cea",
   "metadata": {
    "tags": []
   },
   "outputs": [],
   "source": [
    "pipe_tvec_params = {\n",
    "    'tvec__max_features': [500, 1000, 2000, 3000, 4000, 5000],\n",
    "    'tvec__stop_words': [None, 'english'],\n",
    "    'tvec__ngram_range': [(1,1), (1,2)],\n",
    "    'nb__a': [.1, 10] #supports niave bayes process\n",
    "}"
   ]
  },
  {
   "cell_type": "code",
   "execution_count": 157,
   "id": "eb23cce7-bd8f-4176-8a88-75eb8b7a8b66",
   "metadata": {
    "tags": []
   },
   "outputs": [],
   "source": [
    "# gs_tvec = GridSearchCV(pipe_tvec,\n",
    "#                        param_grid=pipe_tvec_params,\n",
    "#                        cv = 5, \n",
    "#                        pipe_params_nb)\n",
    "\n",
    "gs_tvec = GridSearchCV(pipe_tvec, \n",
    "                       param_grid={'tvec__max_features': [2000, 3000, 4000, 5000], \n",
    "                      'tvec__min_df': [2, 3]},\n",
    "                       cv=5,\n",
    "                       scoring='accuracy')\n",
    "\n",
    "#gs_tvec = GridSearchCV(pipe_tvec, param_grid={'tvec__max_features': [2000, 3000, 4000, 5000], 'tvec__min_df': [2, 3]}, cv=5, scoring='accuracy')\n",
    "\n"
   ]
  },
  {
   "cell_type": "code",
   "execution_count": 159,
   "id": "5cd527bc-d460-49a5-8fa2-f887c35fa8b7",
   "metadata": {
    "tags": []
   },
   "outputs": [],
   "source": [
    "#gs_tvec.best_score_"
   ]
  },
  {
   "cell_type": "code",
   "execution_count": 160,
   "id": "75f266e6-ea5f-45b6-92eb-e6678f22d28a",
   "metadata": {
    "tags": []
   },
   "outputs": [],
   "source": [
    "#Train set score\n",
    "#gs_tvec.score(X_train, y_train)"
   ]
  },
  {
   "cell_type": "code",
   "execution_count": 42,
   "id": "18fc7550-e34a-428e-a994-9fcf7eda11f1",
   "metadata": {
    "tags": []
   },
   "outputs": [
    {
     "data": {
      "text/plain": [
       "0.6500553709856035"
      ]
     },
     "execution_count": 42,
     "metadata": {},
     "output_type": "execute_result"
    }
   ],
   "source": [
    "#Test set score\n",
    "gs_tvec.score(X_test, y_test)"
   ]
  },
  {
   "cell_type": "markdown",
   "id": "a6491f52-2994-4a17-8f03-9a712edb887d",
   "metadata": {},
   "source": [
    "## SVM "
   ]
  },
  {
   "cell_type": "code",
   "execution_count": 94,
   "id": "c39b2f3d-4aff-495e-bc5e-4a1bddf14a61",
   "metadata": {
    "tags": []
   },
   "outputs": [],
   "source": [
    "from sklearn.svm import SVC\n",
    "from sklearn.metrics import confusion_matrix\n",
    "from sklearn.metrics import roc_auc_score\n",
    "from sklearn.preprocessing import label_binarize\n",
    "import matplotlib.pyplot as plt\n",
    "from sklearn.metrics import roc_curve, auc\n",
    "from sklearn.multiclass import OneVsRestClassifier"
   ]
  },
  {
   "cell_type": "code",
   "execution_count": 69,
   "id": "767ea8df-d419-45a2-9ba6-f2e39ec6a5c4",
   "metadata": {
    "tags": []
   },
   "outputs": [],
   "source": [
    "\n",
    "\n",
    "# pipe = Pipeline([\n",
    "#     ('cvec', CountVectorizer()),\n",
    "#     # ('nb', MultinomialNB()),\n",
    "#     ('svm', SVC(gamma='auto'))\n",
    "#     # ('rf', RandomForestClassifier())\n",
    "#     # ('lr', LogisticRegression())\n",
    "#     # ('gb', GradientBoostingClassifier())\n",
    "# ])\n",
    "\n",
    "pipe_svm = Pipeline([\n",
    "    ('cvec', CountVectorizer()),  # You can also try TfidfVectorizer here\n",
    "    ('svm', SVC())\n",
    "])"
   ]
  },
  {
   "cell_type": "code",
   "execution_count": 142,
   "id": "17925ffc-bca0-4e35-bfb0-211c58af3f47",
   "metadata": {
    "tags": []
   },
   "outputs": [],
   "source": [
    "# pipe_params_svm = {\n",
    "#     'cvec__max_features': [500, 1000, 2000, 3000, 4000, 5000], \n",
    "#     'cvec__min_df': [2, 3],\n",
    "#     'cvec__max_df': [0.9, 0.95],\n",
    "#     'cvec__stop_words' [none]\n",
    "#     'cvec__ngram_range': [(1, 1), (1, 2)],\n",
    "#     'svm__C': [0.1, 1, 10],  # You can adjust the values based on your data\n",
    "#     'svm__kernel': ['linear', 'rbf']\n",
    "# }\n",
    "\n",
    "pipe_params_svm = {\n",
    "    'cvec__max_df': [0.9],\n",
    "    'cvec__max_features': [5000],\n",
    "    'cvec__min_df': [2],\n",
    "    'cvec__ngram_range': [(1, 2)],  # Corrected to use a tuple\n",
    "    'cvec__stop_words': [None],\n",
    "    'svm__C': [10],\n",
    "    'svm__kernel': ['rbf'],\n",
    "    'svm__gamma': ['scale'],\n",
    "    'svm__probability': [True]\n",
    "}\n",
    "\n"
   ]
  },
  {
   "cell_type": "code",
   "execution_count": 143,
   "id": "e1899f0f-7297-4277-81f3-0f2c7f323161",
   "metadata": {
    "tags": []
   },
   "outputs": [],
   "source": [
    "gs_svm = GridSearchCV(pipe_svm, \n",
    "                      param_grid=pipe_params_svm, \n",
    "                      cv=5)"
   ]
  },
  {
   "cell_type": "code",
   "execution_count": 144,
   "id": "15b2f1bb-8b0f-4e59-9d67-f5fcd1af6ed5",
   "metadata": {
    "tags": []
   },
   "outputs": [
    {
     "data": {
      "text/html": [
       "<style>#sk-container-id-10 {color: black;}#sk-container-id-10 pre{padding: 0;}#sk-container-id-10 div.sk-toggleable {background-color: white;}#sk-container-id-10 label.sk-toggleable__label {cursor: pointer;display: block;width: 100%;margin-bottom: 0;padding: 0.3em;box-sizing: border-box;text-align: center;}#sk-container-id-10 label.sk-toggleable__label-arrow:before {content: \"▸\";float: left;margin-right: 0.25em;color: #696969;}#sk-container-id-10 label.sk-toggleable__label-arrow:hover:before {color: black;}#sk-container-id-10 div.sk-estimator:hover label.sk-toggleable__label-arrow:before {color: black;}#sk-container-id-10 div.sk-toggleable__content {max-height: 0;max-width: 0;overflow: hidden;text-align: left;background-color: #f0f8ff;}#sk-container-id-10 div.sk-toggleable__content pre {margin: 0.2em;color: black;border-radius: 0.25em;background-color: #f0f8ff;}#sk-container-id-10 input.sk-toggleable__control:checked~div.sk-toggleable__content {max-height: 200px;max-width: 100%;overflow: auto;}#sk-container-id-10 input.sk-toggleable__control:checked~label.sk-toggleable__label-arrow:before {content: \"▾\";}#sk-container-id-10 div.sk-estimator input.sk-toggleable__control:checked~label.sk-toggleable__label {background-color: #d4ebff;}#sk-container-id-10 div.sk-label input.sk-toggleable__control:checked~label.sk-toggleable__label {background-color: #d4ebff;}#sk-container-id-10 input.sk-hidden--visually {border: 0;clip: rect(1px 1px 1px 1px);clip: rect(1px, 1px, 1px, 1px);height: 1px;margin: -1px;overflow: hidden;padding: 0;position: absolute;width: 1px;}#sk-container-id-10 div.sk-estimator {font-family: monospace;background-color: #f0f8ff;border: 1px dotted black;border-radius: 0.25em;box-sizing: border-box;margin-bottom: 0.5em;}#sk-container-id-10 div.sk-estimator:hover {background-color: #d4ebff;}#sk-container-id-10 div.sk-parallel-item::after {content: \"\";width: 100%;border-bottom: 1px solid gray;flex-grow: 1;}#sk-container-id-10 div.sk-label:hover label.sk-toggleable__label {background-color: #d4ebff;}#sk-container-id-10 div.sk-serial::before {content: \"\";position: absolute;border-left: 1px solid gray;box-sizing: border-box;top: 0;bottom: 0;left: 50%;z-index: 0;}#sk-container-id-10 div.sk-serial {display: flex;flex-direction: column;align-items: center;background-color: white;padding-right: 0.2em;padding-left: 0.2em;position: relative;}#sk-container-id-10 div.sk-item {position: relative;z-index: 1;}#sk-container-id-10 div.sk-parallel {display: flex;align-items: stretch;justify-content: center;background-color: white;position: relative;}#sk-container-id-10 div.sk-item::before, #sk-container-id-10 div.sk-parallel-item::before {content: \"\";position: absolute;border-left: 1px solid gray;box-sizing: border-box;top: 0;bottom: 0;left: 50%;z-index: -1;}#sk-container-id-10 div.sk-parallel-item {display: flex;flex-direction: column;z-index: 1;position: relative;background-color: white;}#sk-container-id-10 div.sk-parallel-item:first-child::after {align-self: flex-end;width: 50%;}#sk-container-id-10 div.sk-parallel-item:last-child::after {align-self: flex-start;width: 50%;}#sk-container-id-10 div.sk-parallel-item:only-child::after {width: 0;}#sk-container-id-10 div.sk-dashed-wrapped {border: 1px dashed gray;margin: 0 0.4em 0.5em 0.4em;box-sizing: border-box;padding-bottom: 0.4em;background-color: white;}#sk-container-id-10 div.sk-label label {font-family: monospace;font-weight: bold;display: inline-block;line-height: 1.2em;}#sk-container-id-10 div.sk-label-container {text-align: center;}#sk-container-id-10 div.sk-container {/* jupyter's `normalize.less` sets `[hidden] { display: none; }` but bootstrap.min.css set `[hidden] { display: none !important; }` so we also need the `!important` here to be able to override the default hidden behavior on the sphinx rendered scikit-learn.org. See: https://github.com/scikit-learn/scikit-learn/issues/21755 */display: inline-block !important;position: relative;}#sk-container-id-10 div.sk-text-repr-fallback {display: none;}</style><div id=\"sk-container-id-10\" class=\"sk-top-container\"><div class=\"sk-text-repr-fallback\"><pre>GridSearchCV(cv=5,\n",
       "             estimator=Pipeline(steps=[(&#x27;cvec&#x27;, CountVectorizer()),\n",
       "                                       (&#x27;svm&#x27;, SVC())]),\n",
       "             param_grid={&#x27;cvec__max_df&#x27;: [0.9], &#x27;cvec__max_features&#x27;: [5000],\n",
       "                         &#x27;cvec__min_df&#x27;: [2], &#x27;cvec__ngram_range&#x27;: [(1, 2)],\n",
       "                         &#x27;cvec__stop_words&#x27;: [None], &#x27;svm__C&#x27;: [10],\n",
       "                         &#x27;svm__gamma&#x27;: [&#x27;scale&#x27;], &#x27;svm__kernel&#x27;: [&#x27;rbf&#x27;],\n",
       "                         &#x27;svm__probability&#x27;: [True]})</pre><b>In a Jupyter environment, please rerun this cell to show the HTML representation or trust the notebook. <br />On GitHub, the HTML representation is unable to render, please try loading this page with nbviewer.org.</b></div><div class=\"sk-container\" hidden><div class=\"sk-item sk-dashed-wrapped\"><div class=\"sk-label-container\"><div class=\"sk-label sk-toggleable\"><input class=\"sk-toggleable__control sk-hidden--visually\" id=\"sk-estimator-id-37\" type=\"checkbox\" ><label for=\"sk-estimator-id-37\" class=\"sk-toggleable__label sk-toggleable__label-arrow\">GridSearchCV</label><div class=\"sk-toggleable__content\"><pre>GridSearchCV(cv=5,\n",
       "             estimator=Pipeline(steps=[(&#x27;cvec&#x27;, CountVectorizer()),\n",
       "                                       (&#x27;svm&#x27;, SVC())]),\n",
       "             param_grid={&#x27;cvec__max_df&#x27;: [0.9], &#x27;cvec__max_features&#x27;: [5000],\n",
       "                         &#x27;cvec__min_df&#x27;: [2], &#x27;cvec__ngram_range&#x27;: [(1, 2)],\n",
       "                         &#x27;cvec__stop_words&#x27;: [None], &#x27;svm__C&#x27;: [10],\n",
       "                         &#x27;svm__gamma&#x27;: [&#x27;scale&#x27;], &#x27;svm__kernel&#x27;: [&#x27;rbf&#x27;],\n",
       "                         &#x27;svm__probability&#x27;: [True]})</pre></div></div></div><div class=\"sk-parallel\"><div class=\"sk-parallel-item\"><div class=\"sk-item\"><div class=\"sk-label-container\"><div class=\"sk-label sk-toggleable\"><input class=\"sk-toggleable__control sk-hidden--visually\" id=\"sk-estimator-id-38\" type=\"checkbox\" ><label for=\"sk-estimator-id-38\" class=\"sk-toggleable__label sk-toggleable__label-arrow\">estimator: Pipeline</label><div class=\"sk-toggleable__content\"><pre>Pipeline(steps=[(&#x27;cvec&#x27;, CountVectorizer()), (&#x27;svm&#x27;, SVC())])</pre></div></div></div><div class=\"sk-serial\"><div class=\"sk-item\"><div class=\"sk-serial\"><div class=\"sk-item\"><div class=\"sk-estimator sk-toggleable\"><input class=\"sk-toggleable__control sk-hidden--visually\" id=\"sk-estimator-id-39\" type=\"checkbox\" ><label for=\"sk-estimator-id-39\" class=\"sk-toggleable__label sk-toggleable__label-arrow\">CountVectorizer</label><div class=\"sk-toggleable__content\"><pre>CountVectorizer()</pre></div></div></div><div class=\"sk-item\"><div class=\"sk-estimator sk-toggleable\"><input class=\"sk-toggleable__control sk-hidden--visually\" id=\"sk-estimator-id-40\" type=\"checkbox\" ><label for=\"sk-estimator-id-40\" class=\"sk-toggleable__label sk-toggleable__label-arrow\">SVC</label><div class=\"sk-toggleable__content\"><pre>SVC()</pre></div></div></div></div></div></div></div></div></div></div></div></div>"
      ],
      "text/plain": [
       "GridSearchCV(cv=5,\n",
       "             estimator=Pipeline(steps=[('cvec', CountVectorizer()),\n",
       "                                       ('svm', SVC())]),\n",
       "             param_grid={'cvec__max_df': [0.9], 'cvec__max_features': [5000],\n",
       "                         'cvec__min_df': [2], 'cvec__ngram_range': [(1, 2)],\n",
       "                         'cvec__stop_words': [None], 'svm__C': [10],\n",
       "                         'svm__gamma': ['scale'], 'svm__kernel': ['rbf'],\n",
       "                         'svm__probability': [True]})"
      ]
     },
     "execution_count": 144,
     "metadata": {},
     "output_type": "execute_result"
    }
   ],
   "source": [
    "# Fit GridSearch to training data\n",
    "gs_svm.fit(X_train, y_train)"
   ]
  },
  {
   "cell_type": "code",
   "execution_count": 145,
   "id": "f35e8050-d269-4fea-a1c2-0458b66c5ff4",
   "metadata": {
    "tags": []
   },
   "outputs": [
    {
     "data": {
      "text/plain": [
       "0.7934240950542593"
      ]
     },
     "execution_count": 145,
     "metadata": {},
     "output_type": "execute_result"
    }
   ],
   "source": [
    "gs_svm.best_score_"
   ]
  },
  {
   "cell_type": "code",
   "execution_count": 146,
   "id": "0d3f6675-1159-4f4b-8f30-1d51418b31b1",
   "metadata": {
    "tags": []
   },
   "outputs": [
    {
     "data": {
      "text/plain": [
       "0.9977827050997783"
      ]
     },
     "execution_count": 146,
     "metadata": {},
     "output_type": "execute_result"
    }
   ],
   "source": [
    "gs_svm.score(X_train, y_train)"
   ]
  },
  {
   "cell_type": "code",
   "execution_count": 161,
   "id": "76f2b117-fa93-4022-85e2-5c05821c9a24",
   "metadata": {
    "tags": []
   },
   "outputs": [
    {
     "data": {
      "text/plain": [
       "0.8150609080841639"
      ]
     },
     "execution_count": 161,
     "metadata": {},
     "output_type": "execute_result"
    }
   ],
   "source": [
    "gs_svm.score(X_test, y_test)"
   ]
  },
  {
   "cell_type": "code",
   "execution_count": 162,
   "id": "a9e4cfbd-d101-4ce3-865a-f0c34376419a",
   "metadata": {
    "tags": []
   },
   "outputs": [
    {
     "data": {
      "text/plain": [
       "array([[ 72,   7,   1,  24],\n",
       "       [  5,  45,   4,  24],\n",
       "       [  4,   2,  58,  80],\n",
       "       [  6,   2,   8, 561]])"
      ]
     },
     "execution_count": 162,
     "metadata": {},
     "output_type": "execute_result"
    }
   ],
   "source": [
    "# Get predictions\n",
    "preds = gs_svm.predict(X_test)\n",
    "# Save confusion matrix values\n",
    "conf_matrix= confusion_matrix(y_test, preds)\n",
    "conf_matrix"
   ]
  },
  {
   "cell_type": "code",
   "execution_count": 166,
   "id": "68bba5fd-72aa-48aa-a1c9-247d00503d6c",
   "metadata": {
    "tags": []
   },
   "outputs": [
    {
     "name": "stdout",
     "output_type": "stream",
     "text": [
      "Confusion Matrix (Percentages):\n",
      "[[69.23076923  6.73076923  0.96153846 23.07692308]\n",
      " [ 6.41025641 57.69230769  5.12820513 30.76923077]\n",
      " [ 2.77777778  1.38888889 40.27777778 55.55555556]\n",
      " [ 1.03986135  0.34662045  1.3864818  97.2270364 ]]\n"
     ]
    }
   ],
   "source": [
    "\n",
    "\n",
    "# Calculate confusion matrix percentages\n",
    "conf_matrix_percent = conf_matrix / conf_matrix.sum(axis=1).reshape(-1, 1) * 100\n",
    "\n",
    "# Display the confusion matrix percentages\n",
    "print(\"Confusion Matrix (Percentages):\")\n",
    "print(conf_matrix_percent)"
   ]
  },
  {
   "cell_type": "code",
   "execution_count": 168,
   "id": "40298bde-3692-4803-b039-cb2346c4002d",
   "metadata": {
    "tags": []
   },
   "outputs": [
    {
     "data": {
      "image/png": "[encoded data removed]",
      "text/plain": [
       "<Figure size 640x480 with 2 Axes>"
      ]
     },
     "metadata": {},
     "output_type": "display_data"
    }
   ],
   "source": [
    "from sklearn.metrics import confusion_matrix, ConfusionMatrixDisplay\n",
    "\n",
    "# Get predictions\n",
    "preds = gs_svm.predict(X_test)\n",
    "\n",
    "# Create confusion matrix\n",
    "conf_matrix = confusion_matrix(y_test, preds)\n",
    "\n",
    "# Display the confusion matrix\n",
    "disp = ConfusionMatrixDisplay(confusion_matrix=conf_matrix,\n",
    "                              display_labels=np.unique(y_test))\n",
    "disp.plot(cmap=plt.cm.Blues, values_format='.2f')\n",
    "plt.title('Confusion Matrix')\n",
    "plt.show()\n"
   ]
  },
  {
   "cell_type": "code",
   "execution_count": 170,
   "id": "091d8d8f-561d-4384-b1e6-ed70f168a86f",
   "metadata": {
    "tags": []
   },
   "outputs": [],
   "source": [
    "X_pred = pd.Series(\"\")"
   ]
  },
  {
   "cell_type": "code",
   "execution_count": null,
   "id": "8efd51e8-0a6a-4fc3-8bd3-2928b8775c99",
   "metadata": {},
   "outputs": [],
   "source": [
    "gs_svm()"
   ]
  },
  {
   "cell_type": "code",
   "execution_count": 169,
   "id": "85a5a724-19a4-4fb4-900d-b0e4990e403c",
   "metadata": {
    "tags": []
   },
   "outputs": [
    {
     "data": {
      "image/png": "[encoded data removed]",
      "text/plain": [
       "<Figure size 640x480 with 2 Axes>"
      ]
     },
     "metadata": {},
     "output_type": "display_data"
    }
   ],
   "source": [
    "from sklearn.metrics import confusion_matrix, ConfusionMatrixDisplay\n",
    "\n",
    "# Get predictions\n",
    "preds = gs_svm.predict(X_test)\n",
    "\n",
    "# Create confusion matrix\n",
    "conf_matrix = confusion_matrix(y_test, preds)\n",
    "\n",
    "# Convert the counts to percentages\n",
    "conf_matrix_percentage = conf_matrix / conf_matrix.sum(axis=1)[:, np.newaxis] * 100\n",
    "\n",
    "# Display the confusion matrix with percentages\n",
    "disp = ConfusionMatrixDisplay(confusion_matrix=conf_matrix_percentage,\n",
    "                              display_labels=np.unique(y_test))\n",
    "disp.plot(cmap=plt.cm.Blues, values_format='.2f')\n",
    "plt.title('Confusion Matrix (Percentages)')\n",
    "plt.show()\n"
   ]
  },
  {
   "cell_type": "code",
   "execution_count": 138,
   "id": "4165cc79-8daa-4bf9-b117-59e401752446",
   "metadata": {
    "tags": []
   },
   "outputs": [
    {
     "data": {
      "image/png": "[encoded data removed]",
      "text/plain": [
       "<Figure size 1000x600 with 1 Axes>"
      ]
     },
     "metadata": {},
     "output_type": "display_data"
    }
   ],
   "source": [
    "y_train_bin = label_binarize(y_train, classes=np.unique(y_train))\n",
    "\n",
    "# Compute ROC curve and ROC area for each class\n",
    "fpr = dict()\n",
    "tpr = dict()\n",
    "roc_auc = dict()\n",
    "for i in range(len(np.unique(y_train))):\n",
    "    fpr[i], tpr[i], _ = roc_curve(y_train_bin[:, i], gs_svm.predict_proba(X_train)[:, i])\n",
    "    roc_auc[i] = auc(fpr[i], tpr[i])\n",
    "\n",
    "# Plot ROC curve\n",
    "plt.figure(figsize=(10, 6))\n",
    "for i in range(len(np.unique(y_train))):\n",
    "    plt.plot(fpr[i], tpr[i], label=f'Class {i} (AUC = {roc_auc[i]:.2f})')\n",
    "\n",
    "plt.plot([0, 1], [0, 1], 'k--', lw=2)\n",
    "plt.xlabel('False Positive Rate')\n",
    "plt.ylabel('True Positive Rate')\n",
    "plt.title('ROC Curve for SVM')\n",
    "plt.legend(loc=\"lower right\")\n",
    "plt.show()"
   ]
  },
  {
   "cell_type": "markdown",
   "id": "331d05d3-de97-4fec-86c0-82d010d5c64f",
   "metadata": {},
   "source": [
    "## Random Forest"
   ]
  },
  {
   "cell_type": "code",
   "execution_count": 57,
   "id": "08b42119-2e17-4e2f-8a6c-d65666b059d8",
   "metadata": {
    "tags": []
   },
   "outputs": [],
   "source": [
    "from sklearn.ensemble import RandomForestClassifier"
   ]
  },
  {
   "cell_type": "code",
   "execution_count": 58,
   "id": "c9bbb73d-2dc2-427d-822a-a082245c954f",
   "metadata": {
    "tags": []
   },
   "outputs": [],
   "source": [
    "pipe_rf = Pipeline([\n",
    "    ('cvec', CountVectorizer()),  # You can also try TfidfVectorizer here\n",
    "    ('rf', RandomForestClassifier())\n",
    "])"
   ]
  },
  {
   "cell_type": "code",
   "execution_count": 65,
   "id": "941695bb-4ed2-4e4b-8120-71ac23e39066",
   "metadata": {
    "tags": []
   },
   "outputs": [],
   "source": [
    "pipe_params_rf = {\n",
    "    'cvec__max_features': [500, 1000, 2000, 3000, 4000, 5000], \n",
    "    'cvec__min_df': [2, 3],\n",
    "    'cvec__max_df': [0.9, 0.95],\n",
    "    'cvec__ngram_range': [(1, 1), (1, 2)],\n",
    "    'rf__n_estimators': [50, 100, 200],  # You can adjust the values based on your data\n",
    "    'rf__max_depth': [None, 10, 20],\n",
    "    'rf__min_samples_split': [2, 5, 10],\n",
    "    'rf__min_samples_leaf': [1, 2, 4],\n",
    "    'rf__n_jobs': [-1]\n",
    "}"
   ]
  },
  {
   "cell_type": "code",
   "execution_count": 66,
   "id": "7f96b1c7-6493-469d-b053-27e9189057bb",
   "metadata": {
    "tags": []
   },
   "outputs": [],
   "source": [
    "gs_rf = GridSearchCV(pipe_rf, \n",
    "                     param_grid=pipe_params_rf, \n",
    "                     cv=5)"
   ]
  },
  {
   "cell_type": "code",
   "execution_count": 68,
   "id": "0af99695-fc43-4bd2-bbe3-a46ab8d154e8",
   "metadata": {
    "tags": []
   },
   "outputs": [],
   "source": [
    "#gs_rf.fit(X_train, y_train)"
   ]
  },
  {
   "cell_type": "code",
   "execution_count": null,
   "id": "c3703bc2-2a16-4c51-b437-f2c0cd7b124e",
   "metadata": {
    "tags": []
   },
   "outputs": [],
   "source": [
    "gs_rf.best_score_"
   ]
  },
  {
   "cell_type": "code",
   "execution_count": null,
   "id": "4b412128-aa63-4368-a779-4962d9b76884",
   "metadata": {},
   "outputs": [],
   "source": [
    "gs_rf.score(X_train, y_train)"
   ]
  },
  {
   "cell_type": "code",
   "execution_count": null,
   "id": "5d00fafa-7ae9-40ae-92c5-951d114cefdc",
   "metadata": {},
   "outputs": [],
   "source": [
    "gs_rf.score(X_test, y_test)"
   ]
  },
  {
   "cell_type": "code",
   "execution_count": null,
   "id": "9d4a73fa-cf01-4b9c-9eb2-73c076c773e5",
   "metadata": {
    "tags": []
   },
   "outputs": [],
   "source": []
  },
  {
   "cell_type": "code",
   "execution_count": null,
   "id": "3f07a7f8-5f21-4fab-b3cd-c39b3418d949",
   "metadata": {},
   "outputs": [],
   "source": []
  }
 ],
 "metadata": {
  "kernelspec": {
   "display_name": "Python 3 (ipykernel)",
   "language": "python",
   "name": "python3"
  },
  "language_info": {
   "codemirror_mode": {
    "name": "ipython",
    "version": 3
   },
   "file_extension": ".py",
   "mimetype": "text/x-python",
   "name": "python",
   "nbconvert_exporter": "python",
   "pygments_lexer": "ipython3",
   "version": "3.11.5"
  }
 },
 "nbformat": 4,
 "nbformat_minor": 5
}
