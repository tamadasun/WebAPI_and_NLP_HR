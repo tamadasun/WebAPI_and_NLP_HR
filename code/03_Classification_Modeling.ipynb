{
 "cells": [
  {
   "cell_type": "markdown",
   "id": "d0f692dd-0d75-406b-abb5-5ff51e8ca0c3",
   "metadata": {},
   "source": [
    "# From Data to Careers: A Subreddit Journey through r/datascience and r/jobs\n"
   ]
  },
  {
   "cell_type": "markdown",
   "id": "8750850a-47e9-4716-b2d2-647d82540256",
   "metadata": {},
   "source": [
    "---\n",
    "\n",
    "## Part 3: Classification Modeling"
   ]
  },
  {
   "cell_type": "markdown",
   "id": "92b536e2-8860-41b8-be63-785871193594",
   "metadata": {},
   "source": [
    "---\n",
    "\n",
    "#### Introduction"
   ]
  },
  {
   "cell_type": "markdown",
   "id": "298da2fc-49d8-4693-9db4-b739af430624",
   "metadata": {},
   "source": [
    "The final phase focuses on creating and comparing classification models to understand which model was best in discerning the origin of a post. The goal is to develop a robust and accurate classification system using a combination of logistic regression, Naive Bayes, and KNN. These models will not only provide insights into the distinctive characteristics of each subreddit but also serve as a valuable tool for those navigating the realms of data science and job-seeking. \n"
   ]
  },
  {
   "cell_type": "markdown",
   "id": "28fd8c1c-07f5-4921-86c3-80c7fd890118",
   "metadata": {},
   "source": [
    "---\n",
    "\n",
    "#### Deliverables"
   ]
  },
  {
   "cell_type": "markdown",
   "id": "d9e2c8e4-f3ba-4b9a-8c74-3cb8cd007511",
   "metadata": {},
   "source": [
    "- Identify and explain the baseline score for the classification models.\n",
    "- Provide an explanation of how the chosen model works.\n",
    "- Select and use metrics that are relevant to the problem objective.\n",
    "- Ensure proper splitting and/or sampling of data for validation/training purposes.\n",
    "- Test and evaluate a variety of models, including at least two classification models (KNN, Naive Bayes, logistic regression)\n",
    "- Evaluate the performance successes and downfalls of the model."
   ]
  },
  {
   "cell_type": "markdown",
   "id": "3f3e17b1-9908-49b0-8ed5-e9477cecec0d",
   "metadata": {},
   "source": [
    "---\n",
    "\n",
    "#### Imports"
   ]
  },
  {
   "cell_type": "code",
   "execution_count": 193,
   "id": "9ed5180a-72e6-4808-bbaf-60caf96dcec4",
   "metadata": {
    "tags": []
   },
   "outputs": [],
   "source": [
    "import pandas as pd\n",
    "import matplotlib.pyplot as plt\n",
    "import numpy as np\n",
    "import seaborn as sns\n",
    "\n",
    "# sklearn imports\n",
    "from sklearn.feature_extraction.text import CountVectorizer, TfidfVectorizer\n",
    "from sklearn.model_selection import train_test_split, GridSearchCV\n",
    "from sklearn.pipeline import Pipeline\n",
    "from sklearn.naive_bayes import MultinomialNB\n",
    "from sklearn.metrics import accuracy_score, classification_report, confusion_matrix\n",
    "from sklearn.linear_model import LogisticRegression\n",
    "from sklearn.neighbors import KNeighborsClassifier\n",
    "from sklearn.preprocessing import StandardScaler\n",
    "\n",
    "#nltk imports\n",
    "from nltk.corpus import stopwords\n",
    "from nltk.tokenize import word_tokenize\n",
    "\n",
    "#function imports\n",
    "from text_preprocessing import remove_specific_text, verify_cvec_conversion, verify_tvec_conversion"
   ]
  },
  {
   "cell_type": "markdown",
   "id": "224210c4-416d-40ab-8db6-9b530bd93700",
   "metadata": {},
   "source": [
    "---\n",
    "\n",
    "#### Load Data"
   ]
  },
  {
   "cell_type": "code",
   "execution_count": 194,
   "id": "f151572a-3b67-449b-998d-191427e07a3f",
   "metadata": {
    "tags": []
   },
   "outputs": [],
   "source": [
    "df_datascience = pd.read_csv('../data/rdatascience.csv')\n",
    "df_jobs = pd.read_csv('../data/rjobs.csv')"
   ]
  },
  {
   "cell_type": "markdown",
   "id": "107d5982-59b3-45a7-8102-9e4f835e2d48",
   "metadata": {},
   "source": [
    "---\n",
    "\n",
    "#### Data Preparation"
   ]
  },
  {
   "cell_type": "code",
   "execution_count": 195,
   "id": "6a367e04-2b1d-4e6a-9c38-954eb7cac7e7",
   "metadata": {
    "tags": []
   },
   "outputs": [],
   "source": [
    "# Custom stop words\n",
    "custom_stop_words = ['ve', 'don', 'amp']"
   ]
  },
  {
   "cell_type": "code",
   "execution_count": 196,
   "id": "48c0c327-5d86-49e4-b05d-47949421ec66",
   "metadata": {
    "tags": []
   },
   "outputs": [],
   "source": [
    "#Combine custom stop words with NLTK stop words\n",
    "stop_words = set(stopwords.words('english')).union(custom_stop_words)"
   ]
  },
  {
   "cell_type": "code",
   "execution_count": 197,
   "id": "d821054c-a80e-45c8-8b43-b62fa7ffb633",
   "metadata": {
    "tags": []
   },
   "outputs": [],
   "source": [
    "# #Combine data and create labels (0 for r/datascience, 1 for r/jobs)\n",
    "\n",
    "df_datascience['label'] = 0\n",
    "df_jobs['label'] = 1\n",
    "df_combined = pd.concat([df_datascience, df_jobs], ignore_index=True)\n"
   ]
  },
  {
   "cell_type": "code",
   "execution_count": 198,
   "id": "bf7f3946-9188-4444-9948-62a571c73c0d",
   "metadata": {
    "tags": []
   },
   "outputs": [
    {
     "data": {
      "text/html": [
       "<div>\n",
       "<style scoped>\n",
       "    .dataframe tbody tr th:only-of-type {\n",
       "        vertical-align: middle;\n",
       "    }\n",
       "\n",
       "    .dataframe tbody tr th {\n",
       "        vertical-align: top;\n",
       "    }\n",
       "\n",
       "    .dataframe thead th {\n",
       "        text-align: right;\n",
       "    }\n",
       "</style>\n",
       "<table border=\"1\" class=\"dataframe\">\n",
       "  <thead>\n",
       "    <tr style=\"text-align: right;\">\n",
       "      <th></th>\n",
       "      <th>approved_at_utc</th>\n",
       "      <th>subreddit</th>\n",
       "      <th>selftext</th>\n",
       "      <th>author_fullname</th>\n",
       "      <th>saved</th>\n",
       "      <th>mod_reason_title</th>\n",
       "      <th>gilded</th>\n",
       "      <th>clicked</th>\n",
       "      <th>title</th>\n",
       "      <th>link_flair_richtext</th>\n",
       "      <th>...</th>\n",
       "      <th>preview</th>\n",
       "      <th>author_cakeday</th>\n",
       "      <th>url_overridden_by_dest</th>\n",
       "      <th>crosspost_parent_list</th>\n",
       "      <th>crosspost_parent</th>\n",
       "      <th>is_gallery</th>\n",
       "      <th>gallery_data</th>\n",
       "      <th>selftext_length</th>\n",
       "      <th>selftext_word_count</th>\n",
       "      <th>label</th>\n",
       "    </tr>\n",
       "  </thead>\n",
       "  <tbody>\n",
       "    <tr>\n",
       "      <th>0</th>\n",
       "      <td>NaN</td>\n",
       "      <td>datascience</td>\n",
       "      <td>Hi I wanted to get some takes from actual sta...</td>\n",
       "      <td>t2_4ffvev5v</td>\n",
       "      <td>False</td>\n",
       "      <td>NaN</td>\n",
       "      <td>0</td>\n",
       "      <td>False</td>\n",
       "      <td>Interested in statistics not sure how to proceed</td>\n",
       "      <td>[]</td>\n",
       "      <td>...</td>\n",
       "      <td>NaN</td>\n",
       "      <td>NaN</td>\n",
       "      <td>NaN</td>\n",
       "      <td>NaN</td>\n",
       "      <td>NaN</td>\n",
       "      <td>NaN</td>\n",
       "      <td>NaN</td>\n",
       "      <td>720</td>\n",
       "      <td>139</td>\n",
       "      <td>0</td>\n",
       "    </tr>\n",
       "    <tr>\n",
       "      <th>1</th>\n",
       "      <td>NaN</td>\n",
       "      <td>datascience</td>\n",
       "      <td>I'm a statistician looking for work after a la...</td>\n",
       "      <td>t2_6cjiszgb</td>\n",
       "      <td>False</td>\n",
       "      <td>NaN</td>\n",
       "      <td>0</td>\n",
       "      <td>False</td>\n",
       "      <td>Create Github repository?</td>\n",
       "      <td>[]</td>\n",
       "      <td>...</td>\n",
       "      <td>NaN</td>\n",
       "      <td>NaN</td>\n",
       "      <td>NaN</td>\n",
       "      <td>NaN</td>\n",
       "      <td>NaN</td>\n",
       "      <td>NaN</td>\n",
       "      <td>NaN</td>\n",
       "      <td>344</td>\n",
       "      <td>54</td>\n",
       "      <td>0</td>\n",
       "    </tr>\n",
       "    <tr>\n",
       "      <th>2</th>\n",
       "      <td>NaN</td>\n",
       "      <td>datascience</td>\n",
       "      <td>My upcoming course is focused on programming a...</td>\n",
       "      <td>t2_3puwn</td>\n",
       "      <td>False</td>\n",
       "      <td>NaN</td>\n",
       "      <td>0</td>\n",
       "      <td>False</td>\n",
       "      <td>Linear Algebra and Multivariate Calculus</td>\n",
       "      <td>[]</td>\n",
       "      <td>...</td>\n",
       "      <td>NaN</td>\n",
       "      <td>NaN</td>\n",
       "      <td>NaN</td>\n",
       "      <td>NaN</td>\n",
       "      <td>NaN</td>\n",
       "      <td>NaN</td>\n",
       "      <td>NaN</td>\n",
       "      <td>733</td>\n",
       "      <td>122</td>\n",
       "      <td>0</td>\n",
       "    </tr>\n",
       "    <tr>\n",
       "      <th>3</th>\n",
       "      <td>NaN</td>\n",
       "      <td>datascience</td>\n",
       "      <td>Our company has 1000 ish headcount with 3 dist...</td>\n",
       "      <td>t2_16kgog</td>\n",
       "      <td>False</td>\n",
       "      <td>NaN</td>\n",
       "      <td>0</td>\n",
       "      <td>False</td>\n",
       "      <td>DS org, decentralized or centralized?</td>\n",
       "      <td>[]</td>\n",
       "      <td>...</td>\n",
       "      <td>NaN</td>\n",
       "      <td>NaN</td>\n",
       "      <td>NaN</td>\n",
       "      <td>NaN</td>\n",
       "      <td>NaN</td>\n",
       "      <td>NaN</td>\n",
       "      <td>NaN</td>\n",
       "      <td>332</td>\n",
       "      <td>58</td>\n",
       "      <td>0</td>\n",
       "    </tr>\n",
       "    <tr>\n",
       "      <th>4</th>\n",
       "      <td>NaN</td>\n",
       "      <td>datascience</td>\n",
       "      <td>Hi all, I'd like to rehash my understanding of...</td>\n",
       "      <td>t2_xfx8ms4</td>\n",
       "      <td>False</td>\n",
       "      <td>NaN</td>\n",
       "      <td>0</td>\n",
       "      <td>False</td>\n",
       "      <td>Probability reference book for data science pr...</td>\n",
       "      <td>[]</td>\n",
       "      <td>...</td>\n",
       "      <td>NaN</td>\n",
       "      <td>NaN</td>\n",
       "      <td>NaN</td>\n",
       "      <td>NaN</td>\n",
       "      <td>NaN</td>\n",
       "      <td>NaN</td>\n",
       "      <td>NaN</td>\n",
       "      <td>773</td>\n",
       "      <td>124</td>\n",
       "      <td>0</td>\n",
       "    </tr>\n",
       "  </tbody>\n",
       "</table>\n",
       "<p>5 rows × 119 columns</p>\n",
       "</div>"
      ],
      "text/plain": [
       "   approved_at_utc    subreddit  \\\n",
       "0              NaN  datascience   \n",
       "1              NaN  datascience   \n",
       "2              NaN  datascience   \n",
       "3              NaN  datascience   \n",
       "4              NaN  datascience   \n",
       "\n",
       "                                            selftext author_fullname  saved  \\\n",
       "0   Hi I wanted to get some takes from actual sta...     t2_4ffvev5v  False   \n",
       "1  I'm a statistician looking for work after a la...     t2_6cjiszgb  False   \n",
       "2  My upcoming course is focused on programming a...        t2_3puwn  False   \n",
       "3  Our company has 1000 ish headcount with 3 dist...       t2_16kgog  False   \n",
       "4  Hi all, I'd like to rehash my understanding of...      t2_xfx8ms4  False   \n",
       "\n",
       "   mod_reason_title  gilded  clicked  \\\n",
       "0               NaN       0    False   \n",
       "1               NaN       0    False   \n",
       "2               NaN       0    False   \n",
       "3               NaN       0    False   \n",
       "4               NaN       0    False   \n",
       "\n",
       "                                               title link_flair_richtext  ...  \\\n",
       "0   Interested in statistics not sure how to proceed                  []  ...   \n",
       "1                          Create Github repository?                  []  ...   \n",
       "2           Linear Algebra and Multivariate Calculus                  []  ...   \n",
       "3              DS org, decentralized or centralized?                  []  ...   \n",
       "4  Probability reference book for data science pr...                  []  ...   \n",
       "\n",
       "  preview  author_cakeday  url_overridden_by_dest crosspost_parent_list  \\\n",
       "0     NaN             NaN                     NaN                   NaN   \n",
       "1     NaN             NaN                     NaN                   NaN   \n",
       "2     NaN             NaN                     NaN                   NaN   \n",
       "3     NaN             NaN                     NaN                   NaN   \n",
       "4     NaN             NaN                     NaN                   NaN   \n",
       "\n",
       "   crosspost_parent  is_gallery  gallery_data  selftext_length  \\\n",
       "0               NaN         NaN           NaN              720   \n",
       "1               NaN         NaN           NaN              344   \n",
       "2               NaN         NaN           NaN              733   \n",
       "3               NaN         NaN           NaN              332   \n",
       "4               NaN         NaN           NaN              773   \n",
       "\n",
       "  selftext_word_count  label  \n",
       "0                 139      0  \n",
       "1                  54      0  \n",
       "2                 122      0  \n",
       "3                  58      0  \n",
       "4                 124      0  \n",
       "\n",
       "[5 rows x 119 columns]"
      ]
     },
     "execution_count": 198,
     "metadata": {},
     "output_type": "execute_result"
    }
   ],
   "source": [
    "df_combined.head()"
   ]
  },
  {
   "cell_type": "code",
   "execution_count": 199,
   "id": "a13e637d-fcde-48d9-b3dd-422f380fe34e",
   "metadata": {
    "tags": []
   },
   "outputs": [
    {
     "data": {
      "text/plain": [
       "(1637, 119)"
      ]
     },
     "execution_count": 199,
     "metadata": {},
     "output_type": "execute_result"
    }
   ],
   "source": [
    "df_combined.shape"
   ]
  },
  {
   "cell_type": "markdown",
   "id": "a735fc6b-2613-4147-9b04-a5ea7479afe7",
   "metadata": {},
   "source": [
    "---\n",
    "\n",
    "## Model Selection/Training/Evaluation"
   ]
  },
  {
   "cell_type": "markdown",
   "id": "15961d7d-0e50-4572-b622-6d21e07e4079",
   "metadata": {},
   "source": [
    "#### Model Selection"
   ]
  },
  {
   "cell_type": "markdown",
   "id": "b248267d-9f19-4ff4-bb15-b8280695fad3",
   "metadata": {},
   "source": [
    "I am considering three models: Multinomial Naive Bayes, Logistic Regression, and K-Nearest Neighbors (KNN) for classification modeling. Each model has its own characteristics, and the follow section will evaluate their performance to choose the best one.\n",
    "\n",
    "- Multinomial Naive Bayes: The reason this model is being considered is because it a good choice for classifying job-related text data.\n",
    "- Logistic Regression: The reason this model is being considered is because lr is used for binary classification problem, which is suitable for the task of classifying posts into two categories.\n",
    "- K-Nearest Neighbors: The reason this model is being considered is because KNN can capture similarities between posts that might be indicative of the category."
   ]
  },
  {
   "cell_type": "code",
   "execution_count": 200,
   "id": "00cdcdb9-49fc-4b30-b740-48f94574ea0b",
   "metadata": {
    "tags": []
   },
   "outputs": [],
   "source": [
    "# #split the data in training and testing sets\n",
    "\n",
    "X_train, X_test, y_train, y_test = train_test_split(df_combined['selftext'], \n",
    "                                                    df_combined['label'], \n",
    "                                                    test_size=0.2, \n",
    "                                                    random_state=42)\n"
   ]
  },
  {
   "cell_type": "code",
   "execution_count": 201,
   "id": "fa2faafc-f2a8-4556-aaaf-3aec8e341f63",
   "metadata": {
    "tags": []
   },
   "outputs": [
    {
     "name": "stdout",
     "output_type": "stream",
     "text": [
      "\n",
      "Shape of Count Matrix: (1309, 10462)\n"
     ]
    },
    {
     "data": {
      "text/plain": [
       "(1309, 10462)"
      ]
     },
     "execution_count": 201,
     "metadata": {},
     "output_type": "execute_result"
    }
   ],
   "source": [
    "# Verify CountVectorizer conversion\n",
    "verify_cvec_conversion(X_train)"
   ]
  },
  {
   "cell_type": "code",
   "execution_count": 202,
   "id": "4279bc3e-2fd4-4d10-9b1e-54635032f299",
   "metadata": {
    "tags": []
   },
   "outputs": [
    {
     "name": "stdout",
     "output_type": "stream",
     "text": [
      "\n",
      "Shape of TF-IDF Matrix: (1309, 10462)\n"
     ]
    },
    {
     "data": {
      "text/plain": [
       "(1309, 10462)"
      ]
     },
     "execution_count": 202,
     "metadata": {},
     "output_type": "execute_result"
    }
   ],
   "source": [
    "# Verify TfidfVectorizer conversion\n",
    "verify_tvec_conversion(X_train)"
   ]
  },
  {
   "cell_type": "code",
   "execution_count": 203,
   "id": "cc23ebcd-7c06-4965-8cb4-0555200c402b",
   "metadata": {
    "tags": []
   },
   "outputs": [],
   "source": [
    "# Function to remove specific text\n",
    "X_train_preprocessed = X_train.apply(remove_specific_text)\n",
    "X_test_preprocessed = X_test.apply(remove_specific_text)"
   ]
  },
  {
   "cell_type": "markdown",
   "id": "9d1c7fcd-ae32-4285-9f17-4fcd3ae28627",
   "metadata": {},
   "source": [
    "**Baseline Score**"
   ]
  },
  {
   "cell_type": "code",
   "execution_count": 204,
   "id": "e38c5c3d-f423-4c1b-b0ea-a38fb470fdc5",
   "metadata": {},
   "outputs": [
    {
     "name": "stdout",
     "output_type": "stream",
     "text": [
      "Baseline Train Score:\n",
      " label\n",
      "1    0.580596\n",
      "0    0.419404\n",
      "Name: proportion, dtype: float64\n",
      "Baseline Test Score:\n",
      " label\n",
      "1    0.509146\n",
      "0    0.490854\n",
      "Name: proportion, dtype: float64\n"
     ]
    }
   ],
   "source": [
    "#Baseline score\n",
    "print(f\"Baseline Train Score:\\n {y_train.value_counts(normalize=True)}\")\n",
    "print(f\"Baseline Test Score:\\n {y_test.value_counts(normalize=True)}\")"
   ]
  },
  {
   "cell_type": "code",
   "execution_count": 205,
   "id": "804d95b9-7f35-4859-bff9-761a8603a4f5",
   "metadata": {},
   "outputs": [
    {
     "name": "stdout",
     "output_type": "stream",
     "text": [
      "Baseline Train Score: 58.06%\n"
     ]
    }
   ],
   "source": [
    "baseline_train = y_train.value_counts(normalize=True).max()\n",
    "print(f\"Baseline Train Score: {baseline_train:.2%}\")"
   ]
  },
  {
   "cell_type": "markdown",
   "id": "067a3e90-32e4-404a-a2b6-f96ea061d8ce",
   "metadata": {},
   "source": [
    "**Interpretation:**\n",
    "\n",
    "Class 1 represents the majority class with a proportion of approximately 58.06%, while Class 0 represents the minority class with a proportion of approximately 41.94%. When evaluating the selected classificaton model, their accuracy should be significantly higher than the baseline to justify their effectiveness."
   ]
  },
  {
   "cell_type": "markdown",
   "id": "7b7e3fe8-a2b8-4cf3-a268-f6038a58a1a3",
   "metadata": {},
   "source": [
    "---\n",
    "\n",
    "#### Model Training Multinomial Naive Bayes"
   ]
  },
  {
   "cell_type": "code",
   "execution_count": 206,
   "id": "50796d7c-1dd5-4b14-9006-6d45ee6a6763",
   "metadata": {
    "tags": []
   },
   "outputs": [],
   "source": [
    "#pipeline up with two stages: \n",
    "#cvec = transformer, nb = estimator\n",
    "nb_pipe = Pipeline([\n",
    "    ('cvec', CountVectorizer(stop_words=list(stop_words))),\n",
    "    ('nb', MultinomialNB())\n",
    "])"
   ]
  },
  {
   "cell_type": "code",
   "execution_count": 207,
   "id": "b6a95978-b260-4c69-9e9d-93d1277d30a4",
   "metadata": {
    "tags": []
   },
   "outputs": [],
   "source": [
    "#Define Parameter grids for GridSearchCV\n",
    "param_grid_nb = {\n",
    "    'cvec__max_features': [500, 1000, 2000, 3000, 4000],\n",
    "    'cvec__min_df': [1, 2, 3],\n",
    "    'cvec__max_df': [0.9, 0.95],\n",
    "    'cvec__ngram_range': [(1, 1), (1, 2)],\n",
    "    'nb__alpha': [0.1, 0.5, 1.0]\n",
    "}"
   ]
  },
  {
   "cell_type": "code",
   "execution_count": 208,
   "id": "b39dbc46-f893-4c57-9da2-68e2f7ba8c65",
   "metadata": {
    "tags": []
   },
   "outputs": [],
   "source": [
    "#explore different combination of the parameters to find which one works best\n",
    "grid_search_nb = GridSearchCV(nb_pipe, param_grid=param_grid_nb, cv=5, n_jobs=-1)"
   ]
  },
  {
   "cell_type": "code",
   "execution_count": 209,
   "id": "d6117690-5012-42fc-b54d-68802d8119d4",
   "metadata": {
    "tags": []
   },
   "outputs": [
    {
     "data": {
      "text/html": [
       "<style>#sk-container-id-16 {color: black;}#sk-container-id-16 pre{padding: 0;}#sk-container-id-16 div.sk-toggleable {background-color: white;}#sk-container-id-16 label.sk-toggleable__label {cursor: pointer;display: block;width: 100%;margin-bottom: 0;padding: 0.3em;box-sizing: border-box;text-align: center;}#sk-container-id-16 label.sk-toggleable__label-arrow:before {content: \"▸\";float: left;margin-right: 0.25em;color: #696969;}#sk-container-id-16 label.sk-toggleable__label-arrow:hover:before {color: black;}#sk-container-id-16 div.sk-estimator:hover label.sk-toggleable__label-arrow:before {color: black;}#sk-container-id-16 div.sk-toggleable__content {max-height: 0;max-width: 0;overflow: hidden;text-align: left;background-color: #f0f8ff;}#sk-container-id-16 div.sk-toggleable__content pre {margin: 0.2em;color: black;border-radius: 0.25em;background-color: #f0f8ff;}#sk-container-id-16 input.sk-toggleable__control:checked~div.sk-toggleable__content {max-height: 200px;max-width: 100%;overflow: auto;}#sk-container-id-16 input.sk-toggleable__control:checked~label.sk-toggleable__label-arrow:before {content: \"▾\";}#sk-container-id-16 div.sk-estimator input.sk-toggleable__control:checked~label.sk-toggleable__label {background-color: #d4ebff;}#sk-container-id-16 div.sk-label input.sk-toggleable__control:checked~label.sk-toggleable__label {background-color: #d4ebff;}#sk-container-id-16 input.sk-hidden--visually {border: 0;clip: rect(1px 1px 1px 1px);clip: rect(1px, 1px, 1px, 1px);height: 1px;margin: -1px;overflow: hidden;padding: 0;position: absolute;width: 1px;}#sk-container-id-16 div.sk-estimator {font-family: monospace;background-color: #f0f8ff;border: 1px dotted black;border-radius: 0.25em;box-sizing: border-box;margin-bottom: 0.5em;}#sk-container-id-16 div.sk-estimator:hover {background-color: #d4ebff;}#sk-container-id-16 div.sk-parallel-item::after {content: \"\";width: 100%;border-bottom: 1px solid gray;flex-grow: 1;}#sk-container-id-16 div.sk-label:hover label.sk-toggleable__label {background-color: #d4ebff;}#sk-container-id-16 div.sk-serial::before {content: \"\";position: absolute;border-left: 1px solid gray;box-sizing: border-box;top: 0;bottom: 0;left: 50%;z-index: 0;}#sk-container-id-16 div.sk-serial {display: flex;flex-direction: column;align-items: center;background-color: white;padding-right: 0.2em;padding-left: 0.2em;position: relative;}#sk-container-id-16 div.sk-item {position: relative;z-index: 1;}#sk-container-id-16 div.sk-parallel {display: flex;align-items: stretch;justify-content: center;background-color: white;position: relative;}#sk-container-id-16 div.sk-item::before, #sk-container-id-16 div.sk-parallel-item::before {content: \"\";position: absolute;border-left: 1px solid gray;box-sizing: border-box;top: 0;bottom: 0;left: 50%;z-index: -1;}#sk-container-id-16 div.sk-parallel-item {display: flex;flex-direction: column;z-index: 1;position: relative;background-color: white;}#sk-container-id-16 div.sk-parallel-item:first-child::after {align-self: flex-end;width: 50%;}#sk-container-id-16 div.sk-parallel-item:last-child::after {align-self: flex-start;width: 50%;}#sk-container-id-16 div.sk-parallel-item:only-child::after {width: 0;}#sk-container-id-16 div.sk-dashed-wrapped {border: 1px dashed gray;margin: 0 0.4em 0.5em 0.4em;box-sizing: border-box;padding-bottom: 0.4em;background-color: white;}#sk-container-id-16 div.sk-label label {font-family: monospace;font-weight: bold;display: inline-block;line-height: 1.2em;}#sk-container-id-16 div.sk-label-container {text-align: center;}#sk-container-id-16 div.sk-container {/* jupyter's `normalize.less` sets `[hidden] { display: none; }` but bootstrap.min.css set `[hidden] { display: none !important; }` so we also need the `!important` here to be able to override the default hidden behavior on the sphinx rendered scikit-learn.org. See: https://github.com/scikit-learn/scikit-learn/issues/21755 */display: inline-block !important;position: relative;}#sk-container-id-16 div.sk-text-repr-fallback {display: none;}</style><div id=\"sk-container-id-16\" class=\"sk-top-container\"><div class=\"sk-text-repr-fallback\"><pre>GridSearchCV(cv=5,\n",
       "             estimator=Pipeline(steps=[(&#x27;cvec&#x27;,\n",
       "                                        CountVectorizer(stop_words=[&#x27;both&#x27;,\n",
       "                                                                    &#x27;been&#x27;,\n",
       "                                                                    &#x27;few&#x27;,\n",
       "                                                                    &#x27;doesn&#x27;,\n",
       "                                                                    &#x27;your&#x27;,\n",
       "                                                                    &#x27;amp&#x27;, &#x27;m&#x27;,\n",
       "                                                                    &#x27;because&#x27;,\n",
       "                                                                    &#x27;didn&#x27;,\n",
       "                                                                    &#x27;but&#x27;,\n",
       "                                                                    &#x27;there&#x27;,\n",
       "                                                                    &quot;shan&#x27;t&quot;,\n",
       "                                                                    &#x27;more&#x27;,\n",
       "                                                                    &#x27;she&#x27;,\n",
       "                                                                    &#x27;couldn&#x27;,\n",
       "                                                                    &#x27;ourselves&#x27;,\n",
       "                                                                    &#x27;then&#x27;,\n",
       "                                                                    &quot;needn&#x27;t&quot;,\n",
       "                                                                    &#x27;than&#x27;,\n",
       "                                                                    &quot;doesn&#x27;t&quot;,\n",
       "                                                                    &#x27;its&#x27;, &#x27;ma&#x27;,\n",
       "                                                                    &#x27;their&#x27;,\n",
       "                                                                    &#x27;these&#x27;,\n",
       "                                                                    &#x27;nor&#x27;,\n",
       "                                                                    &quot;it&#x27;s&quot;,\n",
       "                                                                    &quot;that&#x27;ll&quot;,\n",
       "                                                                    &#x27;below&#x27;,\n",
       "                                                                    &quot;isn&#x27;t&quot;,\n",
       "                                                                    &quot;mustn&#x27;t&quot;, ...])),\n",
       "                                       (&#x27;nb&#x27;, MultinomialNB())]),\n",
       "             n_jobs=-1,\n",
       "             param_grid={&#x27;cvec__max_df&#x27;: [0.9, 0.95],\n",
       "                         &#x27;cvec__max_features&#x27;: [500, 1000, 2000, 3000, 4000],\n",
       "                         &#x27;cvec__min_df&#x27;: [1, 2, 3],\n",
       "                         &#x27;cvec__ngram_range&#x27;: [(1, 1), (1, 2)],\n",
       "                         &#x27;nb__alpha&#x27;: [0.1, 0.5, 1.0]})</pre><b>In a Jupyter environment, please rerun this cell to show the HTML representation or trust the notebook. <br />On GitHub, the HTML representation is unable to render, please try loading this page with nbviewer.org.</b></div><div class=\"sk-container\" hidden><div class=\"sk-item sk-dashed-wrapped\"><div class=\"sk-label-container\"><div class=\"sk-label sk-toggleable\"><input class=\"sk-toggleable__control sk-hidden--visually\" id=\"sk-estimator-id-59\" type=\"checkbox\" ><label for=\"sk-estimator-id-59\" class=\"sk-toggleable__label sk-toggleable__label-arrow\">GridSearchCV</label><div class=\"sk-toggleable__content\"><pre>GridSearchCV(cv=5,\n",
       "             estimator=Pipeline(steps=[(&#x27;cvec&#x27;,\n",
       "                                        CountVectorizer(stop_words=[&#x27;both&#x27;,\n",
       "                                                                    &#x27;been&#x27;,\n",
       "                                                                    &#x27;few&#x27;,\n",
       "                                                                    &#x27;doesn&#x27;,\n",
       "                                                                    &#x27;your&#x27;,\n",
       "                                                                    &#x27;amp&#x27;, &#x27;m&#x27;,\n",
       "                                                                    &#x27;because&#x27;,\n",
       "                                                                    &#x27;didn&#x27;,\n",
       "                                                                    &#x27;but&#x27;,\n",
       "                                                                    &#x27;there&#x27;,\n",
       "                                                                    &quot;shan&#x27;t&quot;,\n",
       "                                                                    &#x27;more&#x27;,\n",
       "                                                                    &#x27;she&#x27;,\n",
       "                                                                    &#x27;couldn&#x27;,\n",
       "                                                                    &#x27;ourselves&#x27;,\n",
       "                                                                    &#x27;then&#x27;,\n",
       "                                                                    &quot;needn&#x27;t&quot;,\n",
       "                                                                    &#x27;than&#x27;,\n",
       "                                                                    &quot;doesn&#x27;t&quot;,\n",
       "                                                                    &#x27;its&#x27;, &#x27;ma&#x27;,\n",
       "                                                                    &#x27;their&#x27;,\n",
       "                                                                    &#x27;these&#x27;,\n",
       "                                                                    &#x27;nor&#x27;,\n",
       "                                                                    &quot;it&#x27;s&quot;,\n",
       "                                                                    &quot;that&#x27;ll&quot;,\n",
       "                                                                    &#x27;below&#x27;,\n",
       "                                                                    &quot;isn&#x27;t&quot;,\n",
       "                                                                    &quot;mustn&#x27;t&quot;, ...])),\n",
       "                                       (&#x27;nb&#x27;, MultinomialNB())]),\n",
       "             n_jobs=-1,\n",
       "             param_grid={&#x27;cvec__max_df&#x27;: [0.9, 0.95],\n",
       "                         &#x27;cvec__max_features&#x27;: [500, 1000, 2000, 3000, 4000],\n",
       "                         &#x27;cvec__min_df&#x27;: [1, 2, 3],\n",
       "                         &#x27;cvec__ngram_range&#x27;: [(1, 1), (1, 2)],\n",
       "                         &#x27;nb__alpha&#x27;: [0.1, 0.5, 1.0]})</pre></div></div></div><div class=\"sk-parallel\"><div class=\"sk-parallel-item\"><div class=\"sk-item\"><div class=\"sk-label-container\"><div class=\"sk-label sk-toggleable\"><input class=\"sk-toggleable__control sk-hidden--visually\" id=\"sk-estimator-id-60\" type=\"checkbox\" ><label for=\"sk-estimator-id-60\" class=\"sk-toggleable__label sk-toggleable__label-arrow\">estimator: Pipeline</label><div class=\"sk-toggleable__content\"><pre>Pipeline(steps=[(&#x27;cvec&#x27;,\n",
       "                 CountVectorizer(stop_words=[&#x27;both&#x27;, &#x27;been&#x27;, &#x27;few&#x27;, &#x27;doesn&#x27;,\n",
       "                                             &#x27;your&#x27;, &#x27;amp&#x27;, &#x27;m&#x27;, &#x27;because&#x27;,\n",
       "                                             &#x27;didn&#x27;, &#x27;but&#x27;, &#x27;there&#x27;, &quot;shan&#x27;t&quot;,\n",
       "                                             &#x27;more&#x27;, &#x27;she&#x27;, &#x27;couldn&#x27;,\n",
       "                                             &#x27;ourselves&#x27;, &#x27;then&#x27;, &quot;needn&#x27;t&quot;,\n",
       "                                             &#x27;than&#x27;, &quot;doesn&#x27;t&quot;, &#x27;its&#x27;, &#x27;ma&#x27;,\n",
       "                                             &#x27;their&#x27;, &#x27;these&#x27;, &#x27;nor&#x27;, &quot;it&#x27;s&quot;,\n",
       "                                             &quot;that&#x27;ll&quot;, &#x27;below&#x27;, &quot;isn&#x27;t&quot;,\n",
       "                                             &quot;mustn&#x27;t&quot;, ...])),\n",
       "                (&#x27;nb&#x27;, MultinomialNB())])</pre></div></div></div><div class=\"sk-serial\"><div class=\"sk-item\"><div class=\"sk-serial\"><div class=\"sk-item\"><div class=\"sk-estimator sk-toggleable\"><input class=\"sk-toggleable__control sk-hidden--visually\" id=\"sk-estimator-id-61\" type=\"checkbox\" ><label for=\"sk-estimator-id-61\" class=\"sk-toggleable__label sk-toggleable__label-arrow\">CountVectorizer</label><div class=\"sk-toggleable__content\"><pre>CountVectorizer(stop_words=[&#x27;both&#x27;, &#x27;been&#x27;, &#x27;few&#x27;, &#x27;doesn&#x27;, &#x27;your&#x27;, &#x27;amp&#x27;, &#x27;m&#x27;,\n",
       "                            &#x27;because&#x27;, &#x27;didn&#x27;, &#x27;but&#x27;, &#x27;there&#x27;, &quot;shan&#x27;t&quot;, &#x27;more&#x27;,\n",
       "                            &#x27;she&#x27;, &#x27;couldn&#x27;, &#x27;ourselves&#x27;, &#x27;then&#x27;, &quot;needn&#x27;t&quot;,\n",
       "                            &#x27;than&#x27;, &quot;doesn&#x27;t&quot;, &#x27;its&#x27;, &#x27;ma&#x27;, &#x27;their&#x27;, &#x27;these&#x27;,\n",
       "                            &#x27;nor&#x27;, &quot;it&#x27;s&quot;, &quot;that&#x27;ll&quot;, &#x27;below&#x27;, &quot;isn&#x27;t&quot;,\n",
       "                            &quot;mustn&#x27;t&quot;, ...])</pre></div></div></div><div class=\"sk-item\"><div class=\"sk-estimator sk-toggleable\"><input class=\"sk-toggleable__control sk-hidden--visually\" id=\"sk-estimator-id-62\" type=\"checkbox\" ><label for=\"sk-estimator-id-62\" class=\"sk-toggleable__label sk-toggleable__label-arrow\">MultinomialNB</label><div class=\"sk-toggleable__content\"><pre>MultinomialNB()</pre></div></div></div></div></div></div></div></div></div></div></div></div>"
      ],
      "text/plain": [
       "GridSearchCV(cv=5,\n",
       "             estimator=Pipeline(steps=[('cvec',\n",
       "                                        CountVectorizer(stop_words=['both',\n",
       "                                                                    'been',\n",
       "                                                                    'few',\n",
       "                                                                    'doesn',\n",
       "                                                                    'your',\n",
       "                                                                    'amp', 'm',\n",
       "                                                                    'because',\n",
       "                                                                    'didn',\n",
       "                                                                    'but',\n",
       "                                                                    'there',\n",
       "                                                                    \"shan't\",\n",
       "                                                                    'more',\n",
       "                                                                    'she',\n",
       "                                                                    'couldn',\n",
       "                                                                    'ourselves',\n",
       "                                                                    'then',\n",
       "                                                                    \"needn't\",\n",
       "                                                                    'than',\n",
       "                                                                    \"doesn't\",\n",
       "                                                                    'its', 'ma',\n",
       "                                                                    'their',\n",
       "                                                                    'these',\n",
       "                                                                    'nor',\n",
       "                                                                    \"it's\",\n",
       "                                                                    \"that'll\",\n",
       "                                                                    'below',\n",
       "                                                                    \"isn't\",\n",
       "                                                                    \"mustn't\", ...])),\n",
       "                                       ('nb', MultinomialNB())]),\n",
       "             n_jobs=-1,\n",
       "             param_grid={'cvec__max_df': [0.9, 0.95],\n",
       "                         'cvec__max_features': [500, 1000, 2000, 3000, 4000],\n",
       "                         'cvec__min_df': [1, 2, 3],\n",
       "                         'cvec__ngram_range': [(1, 1), (1, 2)],\n",
       "                         'nb__alpha': [0.1, 0.5, 1.0]})"
      ]
     },
     "execution_count": 209,
     "metadata": {},
     "output_type": "execute_result"
    }
   ],
   "source": [
    "#fit the model with GridSearchCV\n",
    "grid_search_nb.fit(X_train_preprocessed, y_train)"
   ]
  },
  {
   "cell_type": "markdown",
   "id": "99d01ef6-391e-43f9-9110-a2da0adbf552",
   "metadata": {},
   "source": [
    "\n",
    "#### Model Evaluation MNB"
   ]
  },
  {
   "cell_type": "markdown",
   "id": "ea89ac26-a185-4f0e-bced-b8fac7627f5c",
   "metadata": {},
   "source": [
    "I will use accuracy, confusion matrix, and classification report as evaluation metrics, same will apply for the other models."
   ]
  },
  {
   "cell_type": "code",
   "execution_count": 210,
   "id": "588c3241-0e33-4b37-a27f-85802849d7e9",
   "metadata": {
    "tags": []
   },
   "outputs": [
    {
     "name": "stdout",
     "output_type": "stream",
     "text": [
      "Best parameters for Multinomial Naive Bayes: {'cvec__max_df': 0.9, 'cvec__max_features': 2000, 'cvec__min_df': 3, 'cvec__ngram_range': (1, 2), 'nb__alpha': 0.1}\n"
     ]
    }
   ],
   "source": [
    "#Print best parameters\n",
    "print(\"Best parameters for Multinomial Naive Bayes:\", grid_search_nb.best_params_)"
   ]
  },
  {
   "cell_type": "code",
   "execution_count": 211,
   "id": "50b6b1d4-87ca-44d3-8799-6d0b3f789ccf",
   "metadata": {
    "tags": []
   },
   "outputs": [
    {
     "name": "stdout",
     "output_type": "stream",
     "text": [
      "Best Cross-Validation Score: 91.91%\n"
     ]
    }
   ],
   "source": [
    "#Print best scores\n",
    "best_cv_score_nb = grid_search_nb.best_score_\n",
    "print(f\"Best Cross-Validation Score: {best_cv_score_nb:.2%}\")"
   ]
  },
  {
   "cell_type": "code",
   "execution_count": 212,
   "id": "85e858ef-7ec3-428a-974f-56a7044098e8",
   "metadata": {
    "tags": []
   },
   "outputs": [
    {
     "name": "stdout",
     "output_type": "stream",
     "text": [
      "Training Accuracy: 93.58%\n"
     ]
    }
   ],
   "source": [
    "# Score model on training set.\n",
    "train_accuracy_nb = grid_search_nb.score(X_train_preprocessed, y_train)\n",
    "print(f\"Training Accuracy: {train_accuracy_nb:.2%}\")"
   ]
  },
  {
   "cell_type": "code",
   "execution_count": 213,
   "id": "138018bb-dfb3-4ce4-aa3b-9ca9b4e2f519",
   "metadata": {
    "tags": []
   },
   "outputs": [
    {
     "name": "stdout",
     "output_type": "stream",
     "text": [
      "Testing Accuracy: 90.85%\n"
     ]
    }
   ],
   "source": [
    "# Score model on testing set.\n",
    "test_accuracy_nb = grid_search_nb.score(X_test_preprocessed, y_test)\n",
    "print(f\"Testing Accuracy: {test_accuracy_nb:.2%}\")"
   ]
  },
  {
   "cell_type": "code",
   "execution_count": 214,
   "id": "3636fe7c-98cf-4f29-b8c0-c34f70c04a9c",
   "metadata": {
    "tags": []
   },
   "outputs": [
    {
     "data": {
      "text/html": [
       "<style>#sk-container-id-17 {color: black;}#sk-container-id-17 pre{padding: 0;}#sk-container-id-17 div.sk-toggleable {background-color: white;}#sk-container-id-17 label.sk-toggleable__label {cursor: pointer;display: block;width: 100%;margin-bottom: 0;padding: 0.3em;box-sizing: border-box;text-align: center;}#sk-container-id-17 label.sk-toggleable__label-arrow:before {content: \"▸\";float: left;margin-right: 0.25em;color: #696969;}#sk-container-id-17 label.sk-toggleable__label-arrow:hover:before {color: black;}#sk-container-id-17 div.sk-estimator:hover label.sk-toggleable__label-arrow:before {color: black;}#sk-container-id-17 div.sk-toggleable__content {max-height: 0;max-width: 0;overflow: hidden;text-align: left;background-color: #f0f8ff;}#sk-container-id-17 div.sk-toggleable__content pre {margin: 0.2em;color: black;border-radius: 0.25em;background-color: #f0f8ff;}#sk-container-id-17 input.sk-toggleable__control:checked~div.sk-toggleable__content {max-height: 200px;max-width: 100%;overflow: auto;}#sk-container-id-17 input.sk-toggleable__control:checked~label.sk-toggleable__label-arrow:before {content: \"▾\";}#sk-container-id-17 div.sk-estimator input.sk-toggleable__control:checked~label.sk-toggleable__label {background-color: #d4ebff;}#sk-container-id-17 div.sk-label input.sk-toggleable__control:checked~label.sk-toggleable__label {background-color: #d4ebff;}#sk-container-id-17 input.sk-hidden--visually {border: 0;clip: rect(1px 1px 1px 1px);clip: rect(1px, 1px, 1px, 1px);height: 1px;margin: -1px;overflow: hidden;padding: 0;position: absolute;width: 1px;}#sk-container-id-17 div.sk-estimator {font-family: monospace;background-color: #f0f8ff;border: 1px dotted black;border-radius: 0.25em;box-sizing: border-box;margin-bottom: 0.5em;}#sk-container-id-17 div.sk-estimator:hover {background-color: #d4ebff;}#sk-container-id-17 div.sk-parallel-item::after {content: \"\";width: 100%;border-bottom: 1px solid gray;flex-grow: 1;}#sk-container-id-17 div.sk-label:hover label.sk-toggleable__label {background-color: #d4ebff;}#sk-container-id-17 div.sk-serial::before {content: \"\";position: absolute;border-left: 1px solid gray;box-sizing: border-box;top: 0;bottom: 0;left: 50%;z-index: 0;}#sk-container-id-17 div.sk-serial {display: flex;flex-direction: column;align-items: center;background-color: white;padding-right: 0.2em;padding-left: 0.2em;position: relative;}#sk-container-id-17 div.sk-item {position: relative;z-index: 1;}#sk-container-id-17 div.sk-parallel {display: flex;align-items: stretch;justify-content: center;background-color: white;position: relative;}#sk-container-id-17 div.sk-item::before, #sk-container-id-17 div.sk-parallel-item::before {content: \"\";position: absolute;border-left: 1px solid gray;box-sizing: border-box;top: 0;bottom: 0;left: 50%;z-index: -1;}#sk-container-id-17 div.sk-parallel-item {display: flex;flex-direction: column;z-index: 1;position: relative;background-color: white;}#sk-container-id-17 div.sk-parallel-item:first-child::after {align-self: flex-end;width: 50%;}#sk-container-id-17 div.sk-parallel-item:last-child::after {align-self: flex-start;width: 50%;}#sk-container-id-17 div.sk-parallel-item:only-child::after {width: 0;}#sk-container-id-17 div.sk-dashed-wrapped {border: 1px dashed gray;margin: 0 0.4em 0.5em 0.4em;box-sizing: border-box;padding-bottom: 0.4em;background-color: white;}#sk-container-id-17 div.sk-label label {font-family: monospace;font-weight: bold;display: inline-block;line-height: 1.2em;}#sk-container-id-17 div.sk-label-container {text-align: center;}#sk-container-id-17 div.sk-container {/* jupyter's `normalize.less` sets `[hidden] { display: none; }` but bootstrap.min.css set `[hidden] { display: none !important; }` so we also need the `!important` here to be able to override the default hidden behavior on the sphinx rendered scikit-learn.org. See: https://github.com/scikit-learn/scikit-learn/issues/21755 */display: inline-block !important;position: relative;}#sk-container-id-17 div.sk-text-repr-fallback {display: none;}</style><div id=\"sk-container-id-17\" class=\"sk-top-container\"><div class=\"sk-text-repr-fallback\"><pre>Pipeline(steps=[(&#x27;cvec&#x27;,\n",
       "                 CountVectorizer(max_df=0.9, max_features=2000, min_df=3,\n",
       "                                 ngram_range=(1, 2),\n",
       "                                 stop_words=[&#x27;both&#x27;, &#x27;been&#x27;, &#x27;few&#x27;, &#x27;doesn&#x27;,\n",
       "                                             &#x27;your&#x27;, &#x27;amp&#x27;, &#x27;m&#x27;, &#x27;because&#x27;,\n",
       "                                             &#x27;didn&#x27;, &#x27;but&#x27;, &#x27;there&#x27;, &quot;shan&#x27;t&quot;,\n",
       "                                             &#x27;more&#x27;, &#x27;she&#x27;, &#x27;couldn&#x27;,\n",
       "                                             &#x27;ourselves&#x27;, &#x27;then&#x27;, &quot;needn&#x27;t&quot;,\n",
       "                                             &#x27;than&#x27;, &quot;doesn&#x27;t&quot;, &#x27;its&#x27;, &#x27;ma&#x27;,\n",
       "                                             &#x27;their&#x27;, &#x27;these&#x27;, &#x27;nor&#x27;, &quot;it&#x27;s&quot;,\n",
       "                                             &quot;that&#x27;ll&quot;, &#x27;below&#x27;, &quot;isn&#x27;t&quot;,\n",
       "                                             &quot;mustn&#x27;t&quot;, ...])),\n",
       "                (&#x27;nb&#x27;, MultinomialNB(alpha=0.1))])</pre><b>In a Jupyter environment, please rerun this cell to show the HTML representation or trust the notebook. <br />On GitHub, the HTML representation is unable to render, please try loading this page with nbviewer.org.</b></div><div class=\"sk-container\" hidden><div class=\"sk-item sk-dashed-wrapped\"><div class=\"sk-label-container\"><div class=\"sk-label sk-toggleable\"><input class=\"sk-toggleable__control sk-hidden--visually\" id=\"sk-estimator-id-63\" type=\"checkbox\" ><label for=\"sk-estimator-id-63\" class=\"sk-toggleable__label sk-toggleable__label-arrow\">Pipeline</label><div class=\"sk-toggleable__content\"><pre>Pipeline(steps=[(&#x27;cvec&#x27;,\n",
       "                 CountVectorizer(max_df=0.9, max_features=2000, min_df=3,\n",
       "                                 ngram_range=(1, 2),\n",
       "                                 stop_words=[&#x27;both&#x27;, &#x27;been&#x27;, &#x27;few&#x27;, &#x27;doesn&#x27;,\n",
       "                                             &#x27;your&#x27;, &#x27;amp&#x27;, &#x27;m&#x27;, &#x27;because&#x27;,\n",
       "                                             &#x27;didn&#x27;, &#x27;but&#x27;, &#x27;there&#x27;, &quot;shan&#x27;t&quot;,\n",
       "                                             &#x27;more&#x27;, &#x27;she&#x27;, &#x27;couldn&#x27;,\n",
       "                                             &#x27;ourselves&#x27;, &#x27;then&#x27;, &quot;needn&#x27;t&quot;,\n",
       "                                             &#x27;than&#x27;, &quot;doesn&#x27;t&quot;, &#x27;its&#x27;, &#x27;ma&#x27;,\n",
       "                                             &#x27;their&#x27;, &#x27;these&#x27;, &#x27;nor&#x27;, &quot;it&#x27;s&quot;,\n",
       "                                             &quot;that&#x27;ll&quot;, &#x27;below&#x27;, &quot;isn&#x27;t&quot;,\n",
       "                                             &quot;mustn&#x27;t&quot;, ...])),\n",
       "                (&#x27;nb&#x27;, MultinomialNB(alpha=0.1))])</pre></div></div></div><div class=\"sk-serial\"><div class=\"sk-item\"><div class=\"sk-estimator sk-toggleable\"><input class=\"sk-toggleable__control sk-hidden--visually\" id=\"sk-estimator-id-64\" type=\"checkbox\" ><label for=\"sk-estimator-id-64\" class=\"sk-toggleable__label sk-toggleable__label-arrow\">CountVectorizer</label><div class=\"sk-toggleable__content\"><pre>CountVectorizer(max_df=0.9, max_features=2000, min_df=3, ngram_range=(1, 2),\n",
       "                stop_words=[&#x27;both&#x27;, &#x27;been&#x27;, &#x27;few&#x27;, &#x27;doesn&#x27;, &#x27;your&#x27;, &#x27;amp&#x27;, &#x27;m&#x27;,\n",
       "                            &#x27;because&#x27;, &#x27;didn&#x27;, &#x27;but&#x27;, &#x27;there&#x27;, &quot;shan&#x27;t&quot;, &#x27;more&#x27;,\n",
       "                            &#x27;she&#x27;, &#x27;couldn&#x27;, &#x27;ourselves&#x27;, &#x27;then&#x27;, &quot;needn&#x27;t&quot;,\n",
       "                            &#x27;than&#x27;, &quot;doesn&#x27;t&quot;, &#x27;its&#x27;, &#x27;ma&#x27;, &#x27;their&#x27;, &#x27;these&#x27;,\n",
       "                            &#x27;nor&#x27;, &quot;it&#x27;s&quot;, &quot;that&#x27;ll&quot;, &#x27;below&#x27;, &quot;isn&#x27;t&quot;,\n",
       "                            &quot;mustn&#x27;t&quot;, ...])</pre></div></div></div><div class=\"sk-item\"><div class=\"sk-estimator sk-toggleable\"><input class=\"sk-toggleable__control sk-hidden--visually\" id=\"sk-estimator-id-65\" type=\"checkbox\" ><label for=\"sk-estimator-id-65\" class=\"sk-toggleable__label sk-toggleable__label-arrow\">MultinomialNB</label><div class=\"sk-toggleable__content\"><pre>MultinomialNB(alpha=0.1)</pre></div></div></div></div></div></div></div>"
      ],
      "text/plain": [
       "Pipeline(steps=[('cvec',\n",
       "                 CountVectorizer(max_df=0.9, max_features=2000, min_df=3,\n",
       "                                 ngram_range=(1, 2),\n",
       "                                 stop_words=['both', 'been', 'few', 'doesn',\n",
       "                                             'your', 'amp', 'm', 'because',\n",
       "                                             'didn', 'but', 'there', \"shan't\",\n",
       "                                             'more', 'she', 'couldn',\n",
       "                                             'ourselves', 'then', \"needn't\",\n",
       "                                             'than', \"doesn't\", 'its', 'ma',\n",
       "                                             'their', 'these', 'nor', \"it's\",\n",
       "                                             \"that'll\", 'below', \"isn't\",\n",
       "                                             \"mustn't\", ...])),\n",
       "                ('nb', MultinomialNB(alpha=0.1))])"
      ]
     },
     "execution_count": 214,
     "metadata": {},
     "output_type": "execute_result"
    }
   ],
   "source": [
    "best_nb_model = grid_search_nb.best_estimator_\n",
    "best_nb_model"
   ]
  },
  {
   "cell_type": "code",
   "execution_count": 215,
   "id": "ce0f4934-2b55-44cd-8369-9600c8e8e903",
   "metadata": {
    "tags": []
   },
   "outputs": [],
   "source": [
    "#get predictions on the testing set\n",
    "nb_preds = best_nb_model.predict(X_test_preprocessed)"
   ]
  },
  {
   "cell_type": "code",
   "execution_count": 216,
   "id": "5b464aa9-4a73-4c3b-9ea4-74fc04a5886f",
   "metadata": {
    "tags": []
   },
   "outputs": [
    {
     "data": {
      "image/png": "[encoded data removed]",
      "text/plain": [
       "<Figure size 800x600 with 2 Axes>"
      ]
     },
     "metadata": {},
     "output_type": "display_data"
    }
   ],
   "source": [
    "#confusion matrix\n",
    "conf_matrix_nb = confusion_matrix(y_test, nb_preds)\n",
    "#Extract confusion matrix values\n",
    "tn, fp, fn, tp = conf_matrix_nb.ravel()\n",
    "#Confusion Matrix Visualization\n",
    "plt.figure(figsize=(8, 6))\n",
    "sns.heatmap([[tn, fp], [fn, tp]], annot=True, fmt=\"d\", cmap=\"Blues\", annot_kws={\"size\": 16},\n",
    "            xticklabels=[\"Predicted 0\", \"Predicted 1\"], yticklabels=[\"Actual 0\", \"Actual 1\"])\n",
    "plt.title(\"Confusion Matrix - Multinomial Naive Bayes\")\n",
    "plt.savefig('../images/confusionmatrixnb.png', bbox_inches='tight')\n",
    "plt.show()"
   ]
  },
  {
   "cell_type": "code",
   "execution_count": 94,
   "id": "6d6209ae-10fd-4a78-ac88-32522b23dfbe",
   "metadata": {
    "tags": []
   },
   "outputs": [
    {
     "name": "stdout",
     "output_type": "stream",
     "text": [
      "Classification Report - Multinomial Naive Bayes:\n",
      "              precision    recall  f1-score   support\n",
      "\n",
      "           0       0.92      0.89      0.91       161\n",
      "           1       0.90      0.93      0.91       167\n",
      "\n",
      "    accuracy                           0.91       328\n",
      "   macro avg       0.91      0.91      0.91       328\n",
      "weighted avg       0.91      0.91      0.91       328\n",
      "\n"
     ]
    }
   ],
   "source": [
    "# Classification Report\n",
    "classification_report_nb = classification_report(y_test, nb_preds)\n",
    "print(\"Classification Report - Multinomial Naive Bayes:\")\n",
    "print(classification_report_nb)"
   ]
  },
  {
   "cell_type": "markdown",
   "id": "5842bea8-5e4a-4c1c-8356-66f4e1994d32",
   "metadata": {},
   "source": [
    "**classification report:**\n",
    "\n",
    "- r/datascience (Class 0): Precision of 0.92 means that out of all instances predicted as r/datascience, 92% are correct. It indicates a low false positive rate.Recall of 0.89 means that out of all actual r/datascience instances, 89% were correctly predicted by the model.\n",
    "\n",
    "- r/jobs (Class 1): Precision of 0.90 means that out of all instances predicted as r/jobs, 90% are correct. It indicates a low false positive rate. Recall of 0.93 means that out of all actual r/jobs instances, 93% were correctly predicted by the model.\n",
    "\n",
    "**Confusion matrix**\n",
    "\n",
    "- True Positives (155): Model correctly predicted post from r/jobs\n",
    "- True Negative (143): Model correctly predicted post from r/datascience\n",
    "- False Positives (18): Model incorrectly predicted posts from r/jobs when the actual subreddit was r/datascience\n",
    "- False Negatives (12): Model incorrectly predicted posts from r/datascience when the actual subreddit was r/jobs\n",
    "\n",
    "The model correctly identifies both r/datascience and r/jobs posts, demonstrating high accuracy, as evidenced by the high counts in the diagonal elements.\n",
    "\n",
    "\n",
    "**Interpretation:**\n",
    "\n",
    "- Overall, the Multinomial Naive Bayes Model with the specified hyperparameters performs well on both the training and testing. The best cross-validation accuracy achieved during the grid search was 91.91% (This is a good performance, suggesting that the model can effectively distinguish between the two subreddits). The accuracy on the training set was 93.58%, while the testing set was 91.16%. These scores suggest that the model is not overfitting. The model exhibits high precision and recall for both classes, indicating that it performs well in correctly classifying posts for both subreddits. The classification report supports the notion that the model is robust and effective in distinguishing between the two subreddits, meeting the project's objectives effectively.\n"
   ]
  },
  {
   "cell_type": "markdown",
   "id": "d90bb515-3d34-4991-9fe8-2fb7dd6738f4",
   "metadata": {
    "tags": []
   },
   "source": [
    "---\n",
    "\n",
    "#### Model Training Logistic Regression"
   ]
  },
  {
   "cell_type": "code",
   "execution_count": 95,
   "id": "819d8ca6-3fd7-4cc6-b5ca-c4a17340d319",
   "metadata": {},
   "outputs": [],
   "source": [
    "#pipeline up with two stages: \n",
    "#cvec = transformer, logistic = estimator\n",
    "lr_pipe = Pipeline([\n",
    "    ('cvec', CountVectorizer(stop_words=list(stop_words))),\n",
    "    ('lr', LogisticRegression())\n",
    "])"
   ]
  },
  {
   "cell_type": "code",
   "execution_count": 96,
   "id": "3cb4b8d2-4f37-4faa-8cd4-a56b006d1610",
   "metadata": {},
   "outputs": [],
   "source": [
    "#Define Parameter grids for GridSearchCV\n",
    "param_grid_lr = {\n",
    "    'cvec__max_features': [5500, 6000, 6500, 7000, 8000],\n",
    "    'cvec__min_df': [2, 3, 4],\n",
    "    'cvec__max_df': [0.85, 0.9, 0.95],\n",
    "    'cvec__ngram_range': [(1, 1), (1, 2), (1, 3)],\n",
    "    'lr__penalty': ['l2'],  \n",
    "    'lr__C': [1.0, 10.0, 100.0],   \n",
    "    'lr__solver': ['liblinear', 'lbfgs']  \n",
    "}"
   ]
  },
  {
   "cell_type": "code",
   "execution_count": 97,
   "id": "e6d84f7d-bc26-433d-a96c-302ce6d137df",
   "metadata": {},
   "outputs": [],
   "source": [
    "#explore different combination of the parameters to find which one works best\n",
    "grid_search_lr = GridSearchCV(lr_pipe, param_grid=param_grid_lr, \n",
    "                             cv=5, n_jobs=-1)"
   ]
  },
  {
   "cell_type": "code",
   "execution_count": 98,
   "id": "c5799af2-3337-4447-bdec-78e4fb4c402d",
   "metadata": {
    "tags": []
   },
   "outputs": [
    {
     "data": {
      "text/html": [
       "<style>#sk-container-id-12 {color: black;}#sk-container-id-12 pre{padding: 0;}#sk-container-id-12 div.sk-toggleable {background-color: white;}#sk-container-id-12 label.sk-toggleable__label {cursor: pointer;display: block;width: 100%;margin-bottom: 0;padding: 0.3em;box-sizing: border-box;text-align: center;}#sk-container-id-12 label.sk-toggleable__label-arrow:before {content: \"▸\";float: left;margin-right: 0.25em;color: #696969;}#sk-container-id-12 label.sk-toggleable__label-arrow:hover:before {color: black;}#sk-container-id-12 div.sk-estimator:hover label.sk-toggleable__label-arrow:before {color: black;}#sk-container-id-12 div.sk-toggleable__content {max-height: 0;max-width: 0;overflow: hidden;text-align: left;background-color: #f0f8ff;}#sk-container-id-12 div.sk-toggleable__content pre {margin: 0.2em;color: black;border-radius: 0.25em;background-color: #f0f8ff;}#sk-container-id-12 input.sk-toggleable__control:checked~div.sk-toggleable__content {max-height: 200px;max-width: 100%;overflow: auto;}#sk-container-id-12 input.sk-toggleable__control:checked~label.sk-toggleable__label-arrow:before {content: \"▾\";}#sk-container-id-12 div.sk-estimator input.sk-toggleable__control:checked~label.sk-toggleable__label {background-color: #d4ebff;}#sk-container-id-12 div.sk-label input.sk-toggleable__control:checked~label.sk-toggleable__label {background-color: #d4ebff;}#sk-container-id-12 input.sk-hidden--visually {border: 0;clip: rect(1px 1px 1px 1px);clip: rect(1px, 1px, 1px, 1px);height: 1px;margin: -1px;overflow: hidden;padding: 0;position: absolute;width: 1px;}#sk-container-id-12 div.sk-estimator {font-family: monospace;background-color: #f0f8ff;border: 1px dotted black;border-radius: 0.25em;box-sizing: border-box;margin-bottom: 0.5em;}#sk-container-id-12 div.sk-estimator:hover {background-color: #d4ebff;}#sk-container-id-12 div.sk-parallel-item::after {content: \"\";width: 100%;border-bottom: 1px solid gray;flex-grow: 1;}#sk-container-id-12 div.sk-label:hover label.sk-toggleable__label {background-color: #d4ebff;}#sk-container-id-12 div.sk-serial::before {content: \"\";position: absolute;border-left: 1px solid gray;box-sizing: border-box;top: 0;bottom: 0;left: 50%;z-index: 0;}#sk-container-id-12 div.sk-serial {display: flex;flex-direction: column;align-items: center;background-color: white;padding-right: 0.2em;padding-left: 0.2em;position: relative;}#sk-container-id-12 div.sk-item {position: relative;z-index: 1;}#sk-container-id-12 div.sk-parallel {display: flex;align-items: stretch;justify-content: center;background-color: white;position: relative;}#sk-container-id-12 div.sk-item::before, #sk-container-id-12 div.sk-parallel-item::before {content: \"\";position: absolute;border-left: 1px solid gray;box-sizing: border-box;top: 0;bottom: 0;left: 50%;z-index: -1;}#sk-container-id-12 div.sk-parallel-item {display: flex;flex-direction: column;z-index: 1;position: relative;background-color: white;}#sk-container-id-12 div.sk-parallel-item:first-child::after {align-self: flex-end;width: 50%;}#sk-container-id-12 div.sk-parallel-item:last-child::after {align-self: flex-start;width: 50%;}#sk-container-id-12 div.sk-parallel-item:only-child::after {width: 0;}#sk-container-id-12 div.sk-dashed-wrapped {border: 1px dashed gray;margin: 0 0.4em 0.5em 0.4em;box-sizing: border-box;padding-bottom: 0.4em;background-color: white;}#sk-container-id-12 div.sk-label label {font-family: monospace;font-weight: bold;display: inline-block;line-height: 1.2em;}#sk-container-id-12 div.sk-label-container {text-align: center;}#sk-container-id-12 div.sk-container {/* jupyter's `normalize.less` sets `[hidden] { display: none; }` but bootstrap.min.css set `[hidden] { display: none !important; }` so we also need the `!important` here to be able to override the default hidden behavior on the sphinx rendered scikit-learn.org. See: https://github.com/scikit-learn/scikit-learn/issues/21755 */display: inline-block !important;position: relative;}#sk-container-id-12 div.sk-text-repr-fallback {display: none;}</style><div id=\"sk-container-id-12\" class=\"sk-top-container\"><div class=\"sk-text-repr-fallback\"><pre>GridSearchCV(cv=5,\n",
       "             estimator=Pipeline(steps=[(&#x27;cvec&#x27;,\n",
       "                                        CountVectorizer(stop_words=[&#x27;both&#x27;,\n",
       "                                                                    &#x27;been&#x27;,\n",
       "                                                                    &#x27;few&#x27;,\n",
       "                                                                    &#x27;doesn&#x27;,\n",
       "                                                                    &#x27;your&#x27;,\n",
       "                                                                    &#x27;amp&#x27;, &#x27;m&#x27;,\n",
       "                                                                    &#x27;because&#x27;,\n",
       "                                                                    &#x27;didn&#x27;,\n",
       "                                                                    &#x27;but&#x27;,\n",
       "                                                                    &#x27;there&#x27;,\n",
       "                                                                    &quot;shan&#x27;t&quot;,\n",
       "                                                                    &#x27;more&#x27;,\n",
       "                                                                    &#x27;she&#x27;,\n",
       "                                                                    &#x27;couldn&#x27;,\n",
       "                                                                    &#x27;ourselves&#x27;,\n",
       "                                                                    &#x27;then&#x27;,\n",
       "                                                                    &quot;needn&#x27;t&quot;,\n",
       "                                                                    &#x27;than&#x27;,\n",
       "                                                                    &quot;doesn&#x27;t&quot;,\n",
       "                                                                    &#x27;its&#x27;, &#x27;ma&#x27;,\n",
       "                                                                    &#x27;their&#x27;,\n",
       "                                                                    &#x27;these&#x27;,\n",
       "                                                                    &#x27;nor&#x27;,\n",
       "                                                                    &quot;it&#x27;s&quot;,\n",
       "                                                                    &quot;that&#x27;ll&quot;,\n",
       "                                                                    &#x27;below&#x27;,\n",
       "                                                                    &quot;isn&#x27;t&quot;,\n",
       "                                                                    &quot;mustn&#x27;t&quot;, ...])),\n",
       "                                       (&#x27;lr&#x27;, LogisticRegression())]),\n",
       "             n_jobs=-1,\n",
       "             param_grid={&#x27;cvec__max_df&#x27;: [0.85, 0.9, 0.95],\n",
       "                         &#x27;cvec__max_features&#x27;: [5500, 6000, 6500, 7000, 8000],\n",
       "                         &#x27;cvec__min_df&#x27;: [2, 3, 4],\n",
       "                         &#x27;cvec__ngram_range&#x27;: [(1, 1), (1, 2), (1, 3)],\n",
       "                         &#x27;lr__C&#x27;: [1.0, 10.0, 100.0], &#x27;lr__penalty&#x27;: [&#x27;l2&#x27;],\n",
       "                         &#x27;lr__solver&#x27;: [&#x27;liblinear&#x27;, &#x27;lbfgs&#x27;]})</pre><b>In a Jupyter environment, please rerun this cell to show the HTML representation or trust the notebook. <br />On GitHub, the HTML representation is unable to render, please try loading this page with nbviewer.org.</b></div><div class=\"sk-container\" hidden><div class=\"sk-item sk-dashed-wrapped\"><div class=\"sk-label-container\"><div class=\"sk-label sk-toggleable\"><input class=\"sk-toggleable__control sk-hidden--visually\" id=\"sk-estimator-id-43\" type=\"checkbox\" ><label for=\"sk-estimator-id-43\" class=\"sk-toggleable__label sk-toggleable__label-arrow\">GridSearchCV</label><div class=\"sk-toggleable__content\"><pre>GridSearchCV(cv=5,\n",
       "             estimator=Pipeline(steps=[(&#x27;cvec&#x27;,\n",
       "                                        CountVectorizer(stop_words=[&#x27;both&#x27;,\n",
       "                                                                    &#x27;been&#x27;,\n",
       "                                                                    &#x27;few&#x27;,\n",
       "                                                                    &#x27;doesn&#x27;,\n",
       "                                                                    &#x27;your&#x27;,\n",
       "                                                                    &#x27;amp&#x27;, &#x27;m&#x27;,\n",
       "                                                                    &#x27;because&#x27;,\n",
       "                                                                    &#x27;didn&#x27;,\n",
       "                                                                    &#x27;but&#x27;,\n",
       "                                                                    &#x27;there&#x27;,\n",
       "                                                                    &quot;shan&#x27;t&quot;,\n",
       "                                                                    &#x27;more&#x27;,\n",
       "                                                                    &#x27;she&#x27;,\n",
       "                                                                    &#x27;couldn&#x27;,\n",
       "                                                                    &#x27;ourselves&#x27;,\n",
       "                                                                    &#x27;then&#x27;,\n",
       "                                                                    &quot;needn&#x27;t&quot;,\n",
       "                                                                    &#x27;than&#x27;,\n",
       "                                                                    &quot;doesn&#x27;t&quot;,\n",
       "                                                                    &#x27;its&#x27;, &#x27;ma&#x27;,\n",
       "                                                                    &#x27;their&#x27;,\n",
       "                                                                    &#x27;these&#x27;,\n",
       "                                                                    &#x27;nor&#x27;,\n",
       "                                                                    &quot;it&#x27;s&quot;,\n",
       "                                                                    &quot;that&#x27;ll&quot;,\n",
       "                                                                    &#x27;below&#x27;,\n",
       "                                                                    &quot;isn&#x27;t&quot;,\n",
       "                                                                    &quot;mustn&#x27;t&quot;, ...])),\n",
       "                                       (&#x27;lr&#x27;, LogisticRegression())]),\n",
       "             n_jobs=-1,\n",
       "             param_grid={&#x27;cvec__max_df&#x27;: [0.85, 0.9, 0.95],\n",
       "                         &#x27;cvec__max_features&#x27;: [5500, 6000, 6500, 7000, 8000],\n",
       "                         &#x27;cvec__min_df&#x27;: [2, 3, 4],\n",
       "                         &#x27;cvec__ngram_range&#x27;: [(1, 1), (1, 2), (1, 3)],\n",
       "                         &#x27;lr__C&#x27;: [1.0, 10.0, 100.0], &#x27;lr__penalty&#x27;: [&#x27;l2&#x27;],\n",
       "                         &#x27;lr__solver&#x27;: [&#x27;liblinear&#x27;, &#x27;lbfgs&#x27;]})</pre></div></div></div><div class=\"sk-parallel\"><div class=\"sk-parallel-item\"><div class=\"sk-item\"><div class=\"sk-label-container\"><div class=\"sk-label sk-toggleable\"><input class=\"sk-toggleable__control sk-hidden--visually\" id=\"sk-estimator-id-44\" type=\"checkbox\" ><label for=\"sk-estimator-id-44\" class=\"sk-toggleable__label sk-toggleable__label-arrow\">estimator: Pipeline</label><div class=\"sk-toggleable__content\"><pre>Pipeline(steps=[(&#x27;cvec&#x27;,\n",
       "                 CountVectorizer(stop_words=[&#x27;both&#x27;, &#x27;been&#x27;, &#x27;few&#x27;, &#x27;doesn&#x27;,\n",
       "                                             &#x27;your&#x27;, &#x27;amp&#x27;, &#x27;m&#x27;, &#x27;because&#x27;,\n",
       "                                             &#x27;didn&#x27;, &#x27;but&#x27;, &#x27;there&#x27;, &quot;shan&#x27;t&quot;,\n",
       "                                             &#x27;more&#x27;, &#x27;she&#x27;, &#x27;couldn&#x27;,\n",
       "                                             &#x27;ourselves&#x27;, &#x27;then&#x27;, &quot;needn&#x27;t&quot;,\n",
       "                                             &#x27;than&#x27;, &quot;doesn&#x27;t&quot;, &#x27;its&#x27;, &#x27;ma&#x27;,\n",
       "                                             &#x27;their&#x27;, &#x27;these&#x27;, &#x27;nor&#x27;, &quot;it&#x27;s&quot;,\n",
       "                                             &quot;that&#x27;ll&quot;, &#x27;below&#x27;, &quot;isn&#x27;t&quot;,\n",
       "                                             &quot;mustn&#x27;t&quot;, ...])),\n",
       "                (&#x27;lr&#x27;, LogisticRegression())])</pre></div></div></div><div class=\"sk-serial\"><div class=\"sk-item\"><div class=\"sk-serial\"><div class=\"sk-item\"><div class=\"sk-estimator sk-toggleable\"><input class=\"sk-toggleable__control sk-hidden--visually\" id=\"sk-estimator-id-45\" type=\"checkbox\" ><label for=\"sk-estimator-id-45\" class=\"sk-toggleable__label sk-toggleable__label-arrow\">CountVectorizer</label><div class=\"sk-toggleable__content\"><pre>CountVectorizer(stop_words=[&#x27;both&#x27;, &#x27;been&#x27;, &#x27;few&#x27;, &#x27;doesn&#x27;, &#x27;your&#x27;, &#x27;amp&#x27;, &#x27;m&#x27;,\n",
       "                            &#x27;because&#x27;, &#x27;didn&#x27;, &#x27;but&#x27;, &#x27;there&#x27;, &quot;shan&#x27;t&quot;, &#x27;more&#x27;,\n",
       "                            &#x27;she&#x27;, &#x27;couldn&#x27;, &#x27;ourselves&#x27;, &#x27;then&#x27;, &quot;needn&#x27;t&quot;,\n",
       "                            &#x27;than&#x27;, &quot;doesn&#x27;t&quot;, &#x27;its&#x27;, &#x27;ma&#x27;, &#x27;their&#x27;, &#x27;these&#x27;,\n",
       "                            &#x27;nor&#x27;, &quot;it&#x27;s&quot;, &quot;that&#x27;ll&quot;, &#x27;below&#x27;, &quot;isn&#x27;t&quot;,\n",
       "                            &quot;mustn&#x27;t&quot;, ...])</pre></div></div></div><div class=\"sk-item\"><div class=\"sk-estimator sk-toggleable\"><input class=\"sk-toggleable__control sk-hidden--visually\" id=\"sk-estimator-id-46\" type=\"checkbox\" ><label for=\"sk-estimator-id-46\" class=\"sk-toggleable__label sk-toggleable__label-arrow\">LogisticRegression</label><div class=\"sk-toggleable__content\"><pre>LogisticRegression()</pre></div></div></div></div></div></div></div></div></div></div></div></div>"
      ],
      "text/plain": [
       "GridSearchCV(cv=5,\n",
       "             estimator=Pipeline(steps=[('cvec',\n",
       "                                        CountVectorizer(stop_words=['both',\n",
       "                                                                    'been',\n",
       "                                                                    'few',\n",
       "                                                                    'doesn',\n",
       "                                                                    'your',\n",
       "                                                                    'amp', 'm',\n",
       "                                                                    'because',\n",
       "                                                                    'didn',\n",
       "                                                                    'but',\n",
       "                                                                    'there',\n",
       "                                                                    \"shan't\",\n",
       "                                                                    'more',\n",
       "                                                                    'she',\n",
       "                                                                    'couldn',\n",
       "                                                                    'ourselves',\n",
       "                                                                    'then',\n",
       "                                                                    \"needn't\",\n",
       "                                                                    'than',\n",
       "                                                                    \"doesn't\",\n",
       "                                                                    'its', 'ma',\n",
       "                                                                    'their',\n",
       "                                                                    'these',\n",
       "                                                                    'nor',\n",
       "                                                                    \"it's\",\n",
       "                                                                    \"that'll\",\n",
       "                                                                    'below',\n",
       "                                                                    \"isn't\",\n",
       "                                                                    \"mustn't\", ...])),\n",
       "                                       ('lr', LogisticRegression())]),\n",
       "             n_jobs=-1,\n",
       "             param_grid={'cvec__max_df': [0.85, 0.9, 0.95],\n",
       "                         'cvec__max_features': [5500, 6000, 6500, 7000, 8000],\n",
       "                         'cvec__min_df': [2, 3, 4],\n",
       "                         'cvec__ngram_range': [(1, 1), (1, 2), (1, 3)],\n",
       "                         'lr__C': [1.0, 10.0, 100.0], 'lr__penalty': ['l2'],\n",
       "                         'lr__solver': ['liblinear', 'lbfgs']})"
      ]
     },
     "execution_count": 98,
     "metadata": {},
     "output_type": "execute_result"
    }
   ],
   "source": [
    "#fit the model with GridSearchCV\n",
    "grid_search_lr.fit(X_train_preprocessed, y_train)"
   ]
  },
  {
   "cell_type": "code",
   "execution_count": null,
   "id": "2a8968ba-1fa0-4f06-8c55-c004984c76da",
   "metadata": {},
   "outputs": [],
   "source": []
  },
  {
   "cell_type": "markdown",
   "id": "60dab180-478b-47a6-a278-141c27db1f00",
   "metadata": {},
   "source": [
    "#### Model Evaluation LR"
   ]
  },
  {
   "cell_type": "code",
   "execution_count": 99,
   "id": "0766f0af-fd7d-4c7f-9ed3-6ae8b7b3c29b",
   "metadata": {},
   "outputs": [
    {
     "name": "stdout",
     "output_type": "stream",
     "text": [
      "Best parameters for Logistic Regression: {'cvec__max_df': 0.85, 'cvec__max_features': 6500, 'cvec__min_df': 2, 'cvec__ngram_range': (1, 3), 'lr__C': 1.0, 'lr__penalty': 'l2', 'lr__solver': 'lbfgs'}\n"
     ]
    }
   ],
   "source": [
    "#Print best parameters\n",
    "print(\"Best parameters for Logistic Regression:\", grid_search_lr.best_params_)"
   ]
  },
  {
   "cell_type": "code",
   "execution_count": 100,
   "id": "7a34145f-726f-4c44-8b92-3ecd3aa20f47",
   "metadata": {},
   "outputs": [
    {
     "name": "stdout",
     "output_type": "stream",
     "text": [
      "Best Cross-Validation Score: 91.75%\n"
     ]
    }
   ],
   "source": [
    "#Print best scores\n",
    "best_cv_score_lr = grid_search_lr.best_score_\n",
    "print(f\"Best Cross-Validation Score: {best_cv_score_lr:.2%}\")"
   ]
  },
  {
   "cell_type": "code",
   "execution_count": 101,
   "id": "b85d30a0-8192-4aa1-87aa-45a2bf438bee",
   "metadata": {},
   "outputs": [
    {
     "name": "stdout",
     "output_type": "stream",
     "text": [
      "Training Accuracy: 99.77%\n"
     ]
    }
   ],
   "source": [
    "# Score model on training set.\n",
    "train_accuracy_lr = grid_search_lr.score(X_train_preprocessed, y_train)\n",
    "print(f\"Training Accuracy: {train_accuracy_lr:.2%}\")"
   ]
  },
  {
   "cell_type": "code",
   "execution_count": 102,
   "id": "5a4eb32d-44a8-4395-99e0-6562b47b56b1",
   "metadata": {
    "tags": []
   },
   "outputs": [
    {
     "name": "stdout",
     "output_type": "stream",
     "text": [
      "Testing Accuracy: 89.63%\n"
     ]
    }
   ],
   "source": [
    "# Score model on testing set.\n",
    "test_accuracy_lr = grid_search_lr.score(X_test_preprocessed, y_test)\n",
    "print(f\"Testing Accuracy: {test_accuracy_lr:.2%}\")"
   ]
  },
  {
   "cell_type": "code",
   "execution_count": 103,
   "id": "f275479d-7df4-495b-ad2e-b52cd5f55e71",
   "metadata": {
    "tags": []
   },
   "outputs": [
    {
     "data": {
      "text/html": [
       "<style>#sk-container-id-13 {color: black;}#sk-container-id-13 pre{padding: 0;}#sk-container-id-13 div.sk-toggleable {background-color: white;}#sk-container-id-13 label.sk-toggleable__label {cursor: pointer;display: block;width: 100%;margin-bottom: 0;padding: 0.3em;box-sizing: border-box;text-align: center;}#sk-container-id-13 label.sk-toggleable__label-arrow:before {content: \"▸\";float: left;margin-right: 0.25em;color: #696969;}#sk-container-id-13 label.sk-toggleable__label-arrow:hover:before {color: black;}#sk-container-id-13 div.sk-estimator:hover label.sk-toggleable__label-arrow:before {color: black;}#sk-container-id-13 div.sk-toggleable__content {max-height: 0;max-width: 0;overflow: hidden;text-align: left;background-color: #f0f8ff;}#sk-container-id-13 div.sk-toggleable__content pre {margin: 0.2em;color: black;border-radius: 0.25em;background-color: #f0f8ff;}#sk-container-id-13 input.sk-toggleable__control:checked~div.sk-toggleable__content {max-height: 200px;max-width: 100%;overflow: auto;}#sk-container-id-13 input.sk-toggleable__control:checked~label.sk-toggleable__label-arrow:before {content: \"▾\";}#sk-container-id-13 div.sk-estimator input.sk-toggleable__control:checked~label.sk-toggleable__label {background-color: #d4ebff;}#sk-container-id-13 div.sk-label input.sk-toggleable__control:checked~label.sk-toggleable__label {background-color: #d4ebff;}#sk-container-id-13 input.sk-hidden--visually {border: 0;clip: rect(1px 1px 1px 1px);clip: rect(1px, 1px, 1px, 1px);height: 1px;margin: -1px;overflow: hidden;padding: 0;position: absolute;width: 1px;}#sk-container-id-13 div.sk-estimator {font-family: monospace;background-color: #f0f8ff;border: 1px dotted black;border-radius: 0.25em;box-sizing: border-box;margin-bottom: 0.5em;}#sk-container-id-13 div.sk-estimator:hover {background-color: #d4ebff;}#sk-container-id-13 div.sk-parallel-item::after {content: \"\";width: 100%;border-bottom: 1px solid gray;flex-grow: 1;}#sk-container-id-13 div.sk-label:hover label.sk-toggleable__label {background-color: #d4ebff;}#sk-container-id-13 div.sk-serial::before {content: \"\";position: absolute;border-left: 1px solid gray;box-sizing: border-box;top: 0;bottom: 0;left: 50%;z-index: 0;}#sk-container-id-13 div.sk-serial {display: flex;flex-direction: column;align-items: center;background-color: white;padding-right: 0.2em;padding-left: 0.2em;position: relative;}#sk-container-id-13 div.sk-item {position: relative;z-index: 1;}#sk-container-id-13 div.sk-parallel {display: flex;align-items: stretch;justify-content: center;background-color: white;position: relative;}#sk-container-id-13 div.sk-item::before, #sk-container-id-13 div.sk-parallel-item::before {content: \"\";position: absolute;border-left: 1px solid gray;box-sizing: border-box;top: 0;bottom: 0;left: 50%;z-index: -1;}#sk-container-id-13 div.sk-parallel-item {display: flex;flex-direction: column;z-index: 1;position: relative;background-color: white;}#sk-container-id-13 div.sk-parallel-item:first-child::after {align-self: flex-end;width: 50%;}#sk-container-id-13 div.sk-parallel-item:last-child::after {align-self: flex-start;width: 50%;}#sk-container-id-13 div.sk-parallel-item:only-child::after {width: 0;}#sk-container-id-13 div.sk-dashed-wrapped {border: 1px dashed gray;margin: 0 0.4em 0.5em 0.4em;box-sizing: border-box;padding-bottom: 0.4em;background-color: white;}#sk-container-id-13 div.sk-label label {font-family: monospace;font-weight: bold;display: inline-block;line-height: 1.2em;}#sk-container-id-13 div.sk-label-container {text-align: center;}#sk-container-id-13 div.sk-container {/* jupyter's `normalize.less` sets `[hidden] { display: none; }` but bootstrap.min.css set `[hidden] { display: none !important; }` so we also need the `!important` here to be able to override the default hidden behavior on the sphinx rendered scikit-learn.org. See: https://github.com/scikit-learn/scikit-learn/issues/21755 */display: inline-block !important;position: relative;}#sk-container-id-13 div.sk-text-repr-fallback {display: none;}</style><div id=\"sk-container-id-13\" class=\"sk-top-container\"><div class=\"sk-text-repr-fallback\"><pre>Pipeline(steps=[(&#x27;cvec&#x27;,\n",
       "                 CountVectorizer(max_df=0.85, max_features=6500, min_df=2,\n",
       "                                 ngram_range=(1, 3),\n",
       "                                 stop_words=[&#x27;both&#x27;, &#x27;been&#x27;, &#x27;few&#x27;, &#x27;doesn&#x27;,\n",
       "                                             &#x27;your&#x27;, &#x27;amp&#x27;, &#x27;m&#x27;, &#x27;because&#x27;,\n",
       "                                             &#x27;didn&#x27;, &#x27;but&#x27;, &#x27;there&#x27;, &quot;shan&#x27;t&quot;,\n",
       "                                             &#x27;more&#x27;, &#x27;she&#x27;, &#x27;couldn&#x27;,\n",
       "                                             &#x27;ourselves&#x27;, &#x27;then&#x27;, &quot;needn&#x27;t&quot;,\n",
       "                                             &#x27;than&#x27;, &quot;doesn&#x27;t&quot;, &#x27;its&#x27;, &#x27;ma&#x27;,\n",
       "                                             &#x27;their&#x27;, &#x27;these&#x27;, &#x27;nor&#x27;, &quot;it&#x27;s&quot;,\n",
       "                                             &quot;that&#x27;ll&quot;, &#x27;below&#x27;, &quot;isn&#x27;t&quot;,\n",
       "                                             &quot;mustn&#x27;t&quot;, ...])),\n",
       "                (&#x27;lr&#x27;, LogisticRegression())])</pre><b>In a Jupyter environment, please rerun this cell to show the HTML representation or trust the notebook. <br />On GitHub, the HTML representation is unable to render, please try loading this page with nbviewer.org.</b></div><div class=\"sk-container\" hidden><div class=\"sk-item sk-dashed-wrapped\"><div class=\"sk-label-container\"><div class=\"sk-label sk-toggleable\"><input class=\"sk-toggleable__control sk-hidden--visually\" id=\"sk-estimator-id-47\" type=\"checkbox\" ><label for=\"sk-estimator-id-47\" class=\"sk-toggleable__label sk-toggleable__label-arrow\">Pipeline</label><div class=\"sk-toggleable__content\"><pre>Pipeline(steps=[(&#x27;cvec&#x27;,\n",
       "                 CountVectorizer(max_df=0.85, max_features=6500, min_df=2,\n",
       "                                 ngram_range=(1, 3),\n",
       "                                 stop_words=[&#x27;both&#x27;, &#x27;been&#x27;, &#x27;few&#x27;, &#x27;doesn&#x27;,\n",
       "                                             &#x27;your&#x27;, &#x27;amp&#x27;, &#x27;m&#x27;, &#x27;because&#x27;,\n",
       "                                             &#x27;didn&#x27;, &#x27;but&#x27;, &#x27;there&#x27;, &quot;shan&#x27;t&quot;,\n",
       "                                             &#x27;more&#x27;, &#x27;she&#x27;, &#x27;couldn&#x27;,\n",
       "                                             &#x27;ourselves&#x27;, &#x27;then&#x27;, &quot;needn&#x27;t&quot;,\n",
       "                                             &#x27;than&#x27;, &quot;doesn&#x27;t&quot;, &#x27;its&#x27;, &#x27;ma&#x27;,\n",
       "                                             &#x27;their&#x27;, &#x27;these&#x27;, &#x27;nor&#x27;, &quot;it&#x27;s&quot;,\n",
       "                                             &quot;that&#x27;ll&quot;, &#x27;below&#x27;, &quot;isn&#x27;t&quot;,\n",
       "                                             &quot;mustn&#x27;t&quot;, ...])),\n",
       "                (&#x27;lr&#x27;, LogisticRegression())])</pre></div></div></div><div class=\"sk-serial\"><div class=\"sk-item\"><div class=\"sk-estimator sk-toggleable\"><input class=\"sk-toggleable__control sk-hidden--visually\" id=\"sk-estimator-id-48\" type=\"checkbox\" ><label for=\"sk-estimator-id-48\" class=\"sk-toggleable__label sk-toggleable__label-arrow\">CountVectorizer</label><div class=\"sk-toggleable__content\"><pre>CountVectorizer(max_df=0.85, max_features=6500, min_df=2, ngram_range=(1, 3),\n",
       "                stop_words=[&#x27;both&#x27;, &#x27;been&#x27;, &#x27;few&#x27;, &#x27;doesn&#x27;, &#x27;your&#x27;, &#x27;amp&#x27;, &#x27;m&#x27;,\n",
       "                            &#x27;because&#x27;, &#x27;didn&#x27;, &#x27;but&#x27;, &#x27;there&#x27;, &quot;shan&#x27;t&quot;, &#x27;more&#x27;,\n",
       "                            &#x27;she&#x27;, &#x27;couldn&#x27;, &#x27;ourselves&#x27;, &#x27;then&#x27;, &quot;needn&#x27;t&quot;,\n",
       "                            &#x27;than&#x27;, &quot;doesn&#x27;t&quot;, &#x27;its&#x27;, &#x27;ma&#x27;, &#x27;their&#x27;, &#x27;these&#x27;,\n",
       "                            &#x27;nor&#x27;, &quot;it&#x27;s&quot;, &quot;that&#x27;ll&quot;, &#x27;below&#x27;, &quot;isn&#x27;t&quot;,\n",
       "                            &quot;mustn&#x27;t&quot;, ...])</pre></div></div></div><div class=\"sk-item\"><div class=\"sk-estimator sk-toggleable\"><input class=\"sk-toggleable__control sk-hidden--visually\" id=\"sk-estimator-id-49\" type=\"checkbox\" ><label for=\"sk-estimator-id-49\" class=\"sk-toggleable__label sk-toggleable__label-arrow\">LogisticRegression</label><div class=\"sk-toggleable__content\"><pre>LogisticRegression()</pre></div></div></div></div></div></div></div>"
      ],
      "text/plain": [
       "Pipeline(steps=[('cvec',\n",
       "                 CountVectorizer(max_df=0.85, max_features=6500, min_df=2,\n",
       "                                 ngram_range=(1, 3),\n",
       "                                 stop_words=['both', 'been', 'few', 'doesn',\n",
       "                                             'your', 'amp', 'm', 'because',\n",
       "                                             'didn', 'but', 'there', \"shan't\",\n",
       "                                             'more', 'she', 'couldn',\n",
       "                                             'ourselves', 'then', \"needn't\",\n",
       "                                             'than', \"doesn't\", 'its', 'ma',\n",
       "                                             'their', 'these', 'nor', \"it's\",\n",
       "                                             \"that'll\", 'below', \"isn't\",\n",
       "                                             \"mustn't\", ...])),\n",
       "                ('lr', LogisticRegression())])"
      ]
     },
     "execution_count": 103,
     "metadata": {},
     "output_type": "execute_result"
    }
   ],
   "source": [
    "best_lr_model = grid_search_lr.best_estimator_\n",
    "best_lr_model"
   ]
  },
  {
   "cell_type": "code",
   "execution_count": 104,
   "id": "a1596c83-0ca2-4144-adca-3a66b2c54e08",
   "metadata": {
    "tags": []
   },
   "outputs": [],
   "source": [
    "#get predictions on the testing set\n",
    "lr_preds = best_lr_model.predict(X_test_preprocessed)"
   ]
  },
  {
   "cell_type": "code",
   "execution_count": 105,
   "id": "61732e65-cfda-478d-bb8a-450d8011c012",
   "metadata": {
    "tags": []
   },
   "outputs": [
    {
     "data": {
      "image/png": "[encoded data removed]",
      "text/plain": [
       "<Figure size 800x600 with 2 Axes>"
      ]
     },
     "metadata": {},
     "output_type": "display_data"
    }
   ],
   "source": [
    "#confusion matrix\n",
    "conf_matrix_lr = confusion_matrix(y_test, lr_preds)\n",
    "#Extract confusion matrix values\n",
    "tn_lr, fp_lr, fn_lr, tp_lr = conf_matrix_lr.ravel()\n",
    "#Confusion Matrix Visualization\n",
    "plt.figure(figsize=(8, 6))\n",
    "sns.heatmap([[tn_lr, fp_lr], [fn_lr, tp_lr]], annot=True, fmt=\"d\", cmap=\"viridis\", annot_kws={\"size\": 16},\n",
    "            xticklabels=[\"Predicted 0\", \"Predicted 1\"], yticklabels=[\"Actual 0\", \"Actual 1\"])\n",
    "plt.title(\"Confusion Matrix - Logistic Regression\")\n",
    "plt.show()"
   ]
  },
  {
   "cell_type": "code",
   "execution_count": 106,
   "id": "b761bd9e-6e8f-4e40-83bd-d9df2352d7f8",
   "metadata": {
    "tags": []
   },
   "outputs": [
    {
     "name": "stdout",
     "output_type": "stream",
     "text": [
      "Classification Report - Logistic Regression:\n",
      "              precision    recall  f1-score   support\n",
      "\n",
      "           0       0.96      0.83      0.89       161\n",
      "           1       0.85      0.96      0.90       167\n",
      "\n",
      "    accuracy                           0.90       328\n",
      "   macro avg       0.90      0.90      0.90       328\n",
      "weighted avg       0.90      0.90      0.90       328\n",
      "\n"
     ]
    }
   ],
   "source": [
    "# Classification Report\n",
    "classification_report_lr = classification_report(y_test, lr_preds)\n",
    "print(\"Classification Report - Logistic Regression:\")\n",
    "print(classification_report_lr)"
   ]
  },
  {
   "cell_type": "markdown",
   "id": "b48437c7-5793-4a2e-af80-e7b2682769df",
   "metadata": {},
   "source": [
    "**Classification report:**\n",
    "\n",
    "- r/datascience (Class 0): Precision of 0.96 means that out of all instances predicted as r/datascience, 96% are correct. It indicates a low false positive rate.Recall of 0.83 means that out of all actual r/datascience instances, 83% were correctly predicted by the model.\n",
    "\n",
    "- r/jobs (Class 1): Precision of 0.85 means that out of all instances predicted as r/jobs, 85% are correct. It indicates a low false positive rate. Recall of 0.96 means that out of all actual r/jobs instances, 96% were correctly predicted by the model.\n",
    "\n",
    "**Confusion matrix**\n",
    "\n",
    "- True Positives (161): Model correctly predicted post from r/jobs\n",
    "- True Negative (133): Model correctly predicted post from r/datascience\n",
    "- False Positives (28): Model incorrectly predicted posts from r/jobs when the actual subreddit was r/datascience\n",
    "- False Negatives (6): Model incorrectly predicted posts from r/datascience when the actual subreddit was r/jobs\n",
    "\n",
    "The model correctly identifies both r/datascience and r/jobs posts, demonstrating high accuracy, as evidenced by the high counts in the diagonal elements.\n",
    "\n",
    "\n",
    "**Interpretation:**\n",
    "\n",
    "- Overall, the logistic regression model with the specified hyperparameters performs well on both the training and testing and demonstrate strong performance with high accuracy, precision, and recall. The best cross-validation accuracy achieved during the grid search was 91.75% (This is a good performance, suggesting that the model can effectively distinguish between the two subreddits). The accuracy on the training set was 99.77%, while the testing set was 89.63%. These scores suggest that the model might be overfitting to some extent. The model exhibits high precision and recall for both classes, indicating that it performs well in correctly classifying posts for both subreddits. The classification report supports the notion that the model is robust and effective in distinguishing between the two subreddits, meeting the project's objectives effectively.\n"
   ]
  },
  {
   "cell_type": "markdown",
   "id": "551a7005-9b81-4996-8b89-02393bbe0a03",
   "metadata": {},
   "source": [
    "---\n",
    "\n",
    "#### Model Training K-Nearest Neighbors"
   ]
  },
  {
   "cell_type": "code",
   "execution_count": 107,
   "id": "7c832690-a316-46ec-9e55-086eb3fee5a3",
   "metadata": {},
   "outputs": [],
   "source": [
    "#pipeline up with two stages: \n",
    "#cvec = transformer, knn = estimator\n",
    "knn_pipe = Pipeline([\n",
    "    ('cvec', CountVectorizer(stop_words=list(stop_words))),\n",
    "    ('ss', StandardScaler(with_mean=False)),\n",
    "    ('knn', KNeighborsClassifier())\n",
    "])"
   ]
  },
  {
   "cell_type": "code",
   "execution_count": 108,
   "id": "7584497b-1d30-48a7-9840-b21a744457fd",
   "metadata": {},
   "outputs": [],
   "source": [
    "#Define Parameter grids for GridSearchCV\n",
    "param_grid_knn = {\n",
    "    'cvec__max_features': [50, 100, 200, 300, 400, 500],\n",
    "    'cvec__min_df': [1, 2, 3],\n",
    "    'cvec__max_df': [0.9, 0.95],\n",
    "    'cvec__ngram_range': [(1, 1), (1, 2)],\n",
    "    'knn__n_neighbors': [3, 5, 7]  \n",
    "}"
   ]
  },
  {
   "cell_type": "code",
   "execution_count": 109,
   "id": "33a26413-305a-450a-8a56-0932bac4960e",
   "metadata": {},
   "outputs": [],
   "source": [
    "#explore different combination of the parameters to find which one works best\n",
    "grid_search_knn = GridSearchCV(knn_pipe, param_grid=param_grid_knn, \n",
    "                             cv=5, n_jobs=-1)"
   ]
  },
  {
   "cell_type": "code",
   "execution_count": 110,
   "id": "473518a2-90d1-440f-968d-bc6b2cc0e80b",
   "metadata": {
    "tags": []
   },
   "outputs": [
    {
     "data": {
      "text/html": [
       "<style>#sk-container-id-14 {color: black;}#sk-container-id-14 pre{padding: 0;}#sk-container-id-14 div.sk-toggleable {background-color: white;}#sk-container-id-14 label.sk-toggleable__label {cursor: pointer;display: block;width: 100%;margin-bottom: 0;padding: 0.3em;box-sizing: border-box;text-align: center;}#sk-container-id-14 label.sk-toggleable__label-arrow:before {content: \"▸\";float: left;margin-right: 0.25em;color: #696969;}#sk-container-id-14 label.sk-toggleable__label-arrow:hover:before {color: black;}#sk-container-id-14 div.sk-estimator:hover label.sk-toggleable__label-arrow:before {color: black;}#sk-container-id-14 div.sk-toggleable__content {max-height: 0;max-width: 0;overflow: hidden;text-align: left;background-color: #f0f8ff;}#sk-container-id-14 div.sk-toggleable__content pre {margin: 0.2em;color: black;border-radius: 0.25em;background-color: #f0f8ff;}#sk-container-id-14 input.sk-toggleable__control:checked~div.sk-toggleable__content {max-height: 200px;max-width: 100%;overflow: auto;}#sk-container-id-14 input.sk-toggleable__control:checked~label.sk-toggleable__label-arrow:before {content: \"▾\";}#sk-container-id-14 div.sk-estimator input.sk-toggleable__control:checked~label.sk-toggleable__label {background-color: #d4ebff;}#sk-container-id-14 div.sk-label input.sk-toggleable__control:checked~label.sk-toggleable__label {background-color: #d4ebff;}#sk-container-id-14 input.sk-hidden--visually {border: 0;clip: rect(1px 1px 1px 1px);clip: rect(1px, 1px, 1px, 1px);height: 1px;margin: -1px;overflow: hidden;padding: 0;position: absolute;width: 1px;}#sk-container-id-14 div.sk-estimator {font-family: monospace;background-color: #f0f8ff;border: 1px dotted black;border-radius: 0.25em;box-sizing: border-box;margin-bottom: 0.5em;}#sk-container-id-14 div.sk-estimator:hover {background-color: #d4ebff;}#sk-container-id-14 div.sk-parallel-item::after {content: \"\";width: 100%;border-bottom: 1px solid gray;flex-grow: 1;}#sk-container-id-14 div.sk-label:hover label.sk-toggleable__label {background-color: #d4ebff;}#sk-container-id-14 div.sk-serial::before {content: \"\";position: absolute;border-left: 1px solid gray;box-sizing: border-box;top: 0;bottom: 0;left: 50%;z-index: 0;}#sk-container-id-14 div.sk-serial {display: flex;flex-direction: column;align-items: center;background-color: white;padding-right: 0.2em;padding-left: 0.2em;position: relative;}#sk-container-id-14 div.sk-item {position: relative;z-index: 1;}#sk-container-id-14 div.sk-parallel {display: flex;align-items: stretch;justify-content: center;background-color: white;position: relative;}#sk-container-id-14 div.sk-item::before, #sk-container-id-14 div.sk-parallel-item::before {content: \"\";position: absolute;border-left: 1px solid gray;box-sizing: border-box;top: 0;bottom: 0;left: 50%;z-index: -1;}#sk-container-id-14 div.sk-parallel-item {display: flex;flex-direction: column;z-index: 1;position: relative;background-color: white;}#sk-container-id-14 div.sk-parallel-item:first-child::after {align-self: flex-end;width: 50%;}#sk-container-id-14 div.sk-parallel-item:last-child::after {align-self: flex-start;width: 50%;}#sk-container-id-14 div.sk-parallel-item:only-child::after {width: 0;}#sk-container-id-14 div.sk-dashed-wrapped {border: 1px dashed gray;margin: 0 0.4em 0.5em 0.4em;box-sizing: border-box;padding-bottom: 0.4em;background-color: white;}#sk-container-id-14 div.sk-label label {font-family: monospace;font-weight: bold;display: inline-block;line-height: 1.2em;}#sk-container-id-14 div.sk-label-container {text-align: center;}#sk-container-id-14 div.sk-container {/* jupyter's `normalize.less` sets `[hidden] { display: none; }` but bootstrap.min.css set `[hidden] { display: none !important; }` so we also need the `!important` here to be able to override the default hidden behavior on the sphinx rendered scikit-learn.org. See: https://github.com/scikit-learn/scikit-learn/issues/21755 */display: inline-block !important;position: relative;}#sk-container-id-14 div.sk-text-repr-fallback {display: none;}</style><div id=\"sk-container-id-14\" class=\"sk-top-container\"><div class=\"sk-text-repr-fallback\"><pre>GridSearchCV(cv=5,\n",
       "             estimator=Pipeline(steps=[(&#x27;cvec&#x27;,\n",
       "                                        CountVectorizer(stop_words=[&#x27;both&#x27;,\n",
       "                                                                    &#x27;been&#x27;,\n",
       "                                                                    &#x27;few&#x27;,\n",
       "                                                                    &#x27;doesn&#x27;,\n",
       "                                                                    &#x27;your&#x27;,\n",
       "                                                                    &#x27;amp&#x27;, &#x27;m&#x27;,\n",
       "                                                                    &#x27;because&#x27;,\n",
       "                                                                    &#x27;didn&#x27;,\n",
       "                                                                    &#x27;but&#x27;,\n",
       "                                                                    &#x27;there&#x27;,\n",
       "                                                                    &quot;shan&#x27;t&quot;,\n",
       "                                                                    &#x27;more&#x27;,\n",
       "                                                                    &#x27;she&#x27;,\n",
       "                                                                    &#x27;couldn&#x27;,\n",
       "                                                                    &#x27;ourselves&#x27;,\n",
       "                                                                    &#x27;then&#x27;,\n",
       "                                                                    &quot;needn&#x27;t&quot;,\n",
       "                                                                    &#x27;than&#x27;,\n",
       "                                                                    &quot;doesn&#x27;t&quot;,\n",
       "                                                                    &#x27;its&#x27;, &#x27;ma&#x27;,\n",
       "                                                                    &#x27;their&#x27;,\n",
       "                                                                    &#x27;these&#x27;,\n",
       "                                                                    &#x27;nor&#x27;,\n",
       "                                                                    &quot;it&#x27;s&quot;,\n",
       "                                                                    &quot;that&#x27;ll&quot;,\n",
       "                                                                    &#x27;below&#x27;,\n",
       "                                                                    &quot;isn&#x27;t&quot;,\n",
       "                                                                    &quot;mustn&#x27;t&quot;, ...])),\n",
       "                                       (&#x27;ss&#x27;, StandardScaler(with_mean=False)),\n",
       "                                       (&#x27;knn&#x27;, KNeighborsClassifier())]),\n",
       "             n_jobs=-1,\n",
       "             param_grid={&#x27;cvec__max_df&#x27;: [0.9, 0.95],\n",
       "                         &#x27;cvec__max_features&#x27;: [50, 100, 200, 300, 400, 500],\n",
       "                         &#x27;cvec__min_df&#x27;: [1, 2, 3],\n",
       "                         &#x27;cvec__ngram_range&#x27;: [(1, 1), (1, 2)],\n",
       "                         &#x27;knn__n_neighbors&#x27;: [3, 5, 7]})</pre><b>In a Jupyter environment, please rerun this cell to show the HTML representation or trust the notebook. <br />On GitHub, the HTML representation is unable to render, please try loading this page with nbviewer.org.</b></div><div class=\"sk-container\" hidden><div class=\"sk-item sk-dashed-wrapped\"><div class=\"sk-label-container\"><div class=\"sk-label sk-toggleable\"><input class=\"sk-toggleable__control sk-hidden--visually\" id=\"sk-estimator-id-50\" type=\"checkbox\" ><label for=\"sk-estimator-id-50\" class=\"sk-toggleable__label sk-toggleable__label-arrow\">GridSearchCV</label><div class=\"sk-toggleable__content\"><pre>GridSearchCV(cv=5,\n",
       "             estimator=Pipeline(steps=[(&#x27;cvec&#x27;,\n",
       "                                        CountVectorizer(stop_words=[&#x27;both&#x27;,\n",
       "                                                                    &#x27;been&#x27;,\n",
       "                                                                    &#x27;few&#x27;,\n",
       "                                                                    &#x27;doesn&#x27;,\n",
       "                                                                    &#x27;your&#x27;,\n",
       "                                                                    &#x27;amp&#x27;, &#x27;m&#x27;,\n",
       "                                                                    &#x27;because&#x27;,\n",
       "                                                                    &#x27;didn&#x27;,\n",
       "                                                                    &#x27;but&#x27;,\n",
       "                                                                    &#x27;there&#x27;,\n",
       "                                                                    &quot;shan&#x27;t&quot;,\n",
       "                                                                    &#x27;more&#x27;,\n",
       "                                                                    &#x27;she&#x27;,\n",
       "                                                                    &#x27;couldn&#x27;,\n",
       "                                                                    &#x27;ourselves&#x27;,\n",
       "                                                                    &#x27;then&#x27;,\n",
       "                                                                    &quot;needn&#x27;t&quot;,\n",
       "                                                                    &#x27;than&#x27;,\n",
       "                                                                    &quot;doesn&#x27;t&quot;,\n",
       "                                                                    &#x27;its&#x27;, &#x27;ma&#x27;,\n",
       "                                                                    &#x27;their&#x27;,\n",
       "                                                                    &#x27;these&#x27;,\n",
       "                                                                    &#x27;nor&#x27;,\n",
       "                                                                    &quot;it&#x27;s&quot;,\n",
       "                                                                    &quot;that&#x27;ll&quot;,\n",
       "                                                                    &#x27;below&#x27;,\n",
       "                                                                    &quot;isn&#x27;t&quot;,\n",
       "                                                                    &quot;mustn&#x27;t&quot;, ...])),\n",
       "                                       (&#x27;ss&#x27;, StandardScaler(with_mean=False)),\n",
       "                                       (&#x27;knn&#x27;, KNeighborsClassifier())]),\n",
       "             n_jobs=-1,\n",
       "             param_grid={&#x27;cvec__max_df&#x27;: [0.9, 0.95],\n",
       "                         &#x27;cvec__max_features&#x27;: [50, 100, 200, 300, 400, 500],\n",
       "                         &#x27;cvec__min_df&#x27;: [1, 2, 3],\n",
       "                         &#x27;cvec__ngram_range&#x27;: [(1, 1), (1, 2)],\n",
       "                         &#x27;knn__n_neighbors&#x27;: [3, 5, 7]})</pre></div></div></div><div class=\"sk-parallel\"><div class=\"sk-parallel-item\"><div class=\"sk-item\"><div class=\"sk-label-container\"><div class=\"sk-label sk-toggleable\"><input class=\"sk-toggleable__control sk-hidden--visually\" id=\"sk-estimator-id-51\" type=\"checkbox\" ><label for=\"sk-estimator-id-51\" class=\"sk-toggleable__label sk-toggleable__label-arrow\">estimator: Pipeline</label><div class=\"sk-toggleable__content\"><pre>Pipeline(steps=[(&#x27;cvec&#x27;,\n",
       "                 CountVectorizer(stop_words=[&#x27;both&#x27;, &#x27;been&#x27;, &#x27;few&#x27;, &#x27;doesn&#x27;,\n",
       "                                             &#x27;your&#x27;, &#x27;amp&#x27;, &#x27;m&#x27;, &#x27;because&#x27;,\n",
       "                                             &#x27;didn&#x27;, &#x27;but&#x27;, &#x27;there&#x27;, &quot;shan&#x27;t&quot;,\n",
       "                                             &#x27;more&#x27;, &#x27;she&#x27;, &#x27;couldn&#x27;,\n",
       "                                             &#x27;ourselves&#x27;, &#x27;then&#x27;, &quot;needn&#x27;t&quot;,\n",
       "                                             &#x27;than&#x27;, &quot;doesn&#x27;t&quot;, &#x27;its&#x27;, &#x27;ma&#x27;,\n",
       "                                             &#x27;their&#x27;, &#x27;these&#x27;, &#x27;nor&#x27;, &quot;it&#x27;s&quot;,\n",
       "                                             &quot;that&#x27;ll&quot;, &#x27;below&#x27;, &quot;isn&#x27;t&quot;,\n",
       "                                             &quot;mustn&#x27;t&quot;, ...])),\n",
       "                (&#x27;ss&#x27;, StandardScaler(with_mean=False)),\n",
       "                (&#x27;knn&#x27;, KNeighborsClassifier())])</pre></div></div></div><div class=\"sk-serial\"><div class=\"sk-item\"><div class=\"sk-serial\"><div class=\"sk-item\"><div class=\"sk-estimator sk-toggleable\"><input class=\"sk-toggleable__control sk-hidden--visually\" id=\"sk-estimator-id-52\" type=\"checkbox\" ><label for=\"sk-estimator-id-52\" class=\"sk-toggleable__label sk-toggleable__label-arrow\">CountVectorizer</label><div class=\"sk-toggleable__content\"><pre>CountVectorizer(stop_words=[&#x27;both&#x27;, &#x27;been&#x27;, &#x27;few&#x27;, &#x27;doesn&#x27;, &#x27;your&#x27;, &#x27;amp&#x27;, &#x27;m&#x27;,\n",
       "                            &#x27;because&#x27;, &#x27;didn&#x27;, &#x27;but&#x27;, &#x27;there&#x27;, &quot;shan&#x27;t&quot;, &#x27;more&#x27;,\n",
       "                            &#x27;she&#x27;, &#x27;couldn&#x27;, &#x27;ourselves&#x27;, &#x27;then&#x27;, &quot;needn&#x27;t&quot;,\n",
       "                            &#x27;than&#x27;, &quot;doesn&#x27;t&quot;, &#x27;its&#x27;, &#x27;ma&#x27;, &#x27;their&#x27;, &#x27;these&#x27;,\n",
       "                            &#x27;nor&#x27;, &quot;it&#x27;s&quot;, &quot;that&#x27;ll&quot;, &#x27;below&#x27;, &quot;isn&#x27;t&quot;,\n",
       "                            &quot;mustn&#x27;t&quot;, ...])</pre></div></div></div><div class=\"sk-item\"><div class=\"sk-estimator sk-toggleable\"><input class=\"sk-toggleable__control sk-hidden--visually\" id=\"sk-estimator-id-53\" type=\"checkbox\" ><label for=\"sk-estimator-id-53\" class=\"sk-toggleable__label sk-toggleable__label-arrow\">StandardScaler</label><div class=\"sk-toggleable__content\"><pre>StandardScaler(with_mean=False)</pre></div></div></div><div class=\"sk-item\"><div class=\"sk-estimator sk-toggleable\"><input class=\"sk-toggleable__control sk-hidden--visually\" id=\"sk-estimator-id-54\" type=\"checkbox\" ><label for=\"sk-estimator-id-54\" class=\"sk-toggleable__label sk-toggleable__label-arrow\">KNeighborsClassifier</label><div class=\"sk-toggleable__content\"><pre>KNeighborsClassifier()</pre></div></div></div></div></div></div></div></div></div></div></div></div>"
      ],
      "text/plain": [
       "GridSearchCV(cv=5,\n",
       "             estimator=Pipeline(steps=[('cvec',\n",
       "                                        CountVectorizer(stop_words=['both',\n",
       "                                                                    'been',\n",
       "                                                                    'few',\n",
       "                                                                    'doesn',\n",
       "                                                                    'your',\n",
       "                                                                    'amp', 'm',\n",
       "                                                                    'because',\n",
       "                                                                    'didn',\n",
       "                                                                    'but',\n",
       "                                                                    'there',\n",
       "                                                                    \"shan't\",\n",
       "                                                                    'more',\n",
       "                                                                    'she',\n",
       "                                                                    'couldn',\n",
       "                                                                    'ourselves',\n",
       "                                                                    'then',\n",
       "                                                                    \"needn't\",\n",
       "                                                                    'than',\n",
       "                                                                    \"doesn't\",\n",
       "                                                                    'its', 'ma',\n",
       "                                                                    'their',\n",
       "                                                                    'these',\n",
       "                                                                    'nor',\n",
       "                                                                    \"it's\",\n",
       "                                                                    \"that'll\",\n",
       "                                                                    'below',\n",
       "                                                                    \"isn't\",\n",
       "                                                                    \"mustn't\", ...])),\n",
       "                                       ('ss', StandardScaler(with_mean=False)),\n",
       "                                       ('knn', KNeighborsClassifier())]),\n",
       "             n_jobs=-1,\n",
       "             param_grid={'cvec__max_df': [0.9, 0.95],\n",
       "                         'cvec__max_features': [50, 100, 200, 300, 400, 500],\n",
       "                         'cvec__min_df': [1, 2, 3],\n",
       "                         'cvec__ngram_range': [(1, 1), (1, 2)],\n",
       "                         'knn__n_neighbors': [3, 5, 7]})"
      ]
     },
     "execution_count": 110,
     "metadata": {},
     "output_type": "execute_result"
    }
   ],
   "source": [
    "#fit the model with GridSearchCV\n",
    "grid_search_knn.fit(X_train_preprocessed, y_train)"
   ]
  },
  {
   "cell_type": "markdown",
   "id": "d9e4200f-d170-4c64-958f-99477df65a39",
   "metadata": {},
   "source": [
    "#### Model Evaluation KNN"
   ]
  },
  {
   "cell_type": "code",
   "execution_count": 111,
   "id": "2289bf3a-ef9a-45bc-b06f-d2970dd02965",
   "metadata": {
    "tags": []
   },
   "outputs": [
    {
     "name": "stdout",
     "output_type": "stream",
     "text": [
      "Best parameters for K-Nearest Neighbors (KNN): {'cvec__max_df': 0.9, 'cvec__max_features': 200, 'cvec__min_df': 3, 'cvec__ngram_range': (1, 2), 'knn__n_neighbors': 5}\n"
     ]
    }
   ],
   "source": [
    "#Print best parameters\n",
    "print(\"Best parameters for K-Nearest Neighbors (KNN):\", grid_search_knn.best_params_)"
   ]
  },
  {
   "cell_type": "code",
   "execution_count": 112,
   "id": "cc051188-8012-44a1-bdaf-f6a8876b110b",
   "metadata": {},
   "outputs": [
    {
     "name": "stdout",
     "output_type": "stream",
     "text": [
      "Best Cross-Validation Score: 74.56%\n"
     ]
    }
   ],
   "source": [
    "#Print best scores\n",
    "best_cv_score_knn = grid_search_knn.best_score_\n",
    "print(f\"Best Cross-Validation Score: {best_cv_score_knn:.2%}\")"
   ]
  },
  {
   "cell_type": "code",
   "execution_count": 113,
   "id": "e1918b0d-7ea2-45d4-ac24-24036d8cb74b",
   "metadata": {},
   "outputs": [
    {
     "name": "stdout",
     "output_type": "stream",
     "text": [
      "Training Accuracy: 85.64%\n"
     ]
    }
   ],
   "source": [
    "# Score model on training set.\n",
    "train_accuracy_knn = grid_search_knn.score(X_train_preprocessed, y_train)\n",
    "print(f\"Training Accuracy: {train_accuracy_knn:.2%}\")"
   ]
  },
  {
   "cell_type": "code",
   "execution_count": 114,
   "id": "66016ad8-5e73-478e-a347-22e40b666f10",
   "metadata": {},
   "outputs": [
    {
     "name": "stdout",
     "output_type": "stream",
     "text": [
      "Testing Accuracy: 71.34%\n"
     ]
    }
   ],
   "source": [
    "# Score model on testing set.\n",
    "test_accuracy_knn = grid_search_knn.score(X_test_preprocessed, y_test)\n",
    "print(f\"Testing Accuracy: {test_accuracy_knn:.2%}\")"
   ]
  },
  {
   "cell_type": "code",
   "execution_count": 115,
   "id": "4be79658-b636-4343-b62d-cc01c4f53000",
   "metadata": {},
   "outputs": [
    {
     "data": {
      "text/html": [
       "<style>#sk-container-id-15 {color: black;}#sk-container-id-15 pre{padding: 0;}#sk-container-id-15 div.sk-toggleable {background-color: white;}#sk-container-id-15 label.sk-toggleable__label {cursor: pointer;display: block;width: 100%;margin-bottom: 0;padding: 0.3em;box-sizing: border-box;text-align: center;}#sk-container-id-15 label.sk-toggleable__label-arrow:before {content: \"▸\";float: left;margin-right: 0.25em;color: #696969;}#sk-container-id-15 label.sk-toggleable__label-arrow:hover:before {color: black;}#sk-container-id-15 div.sk-estimator:hover label.sk-toggleable__label-arrow:before {color: black;}#sk-container-id-15 div.sk-toggleable__content {max-height: 0;max-width: 0;overflow: hidden;text-align: left;background-color: #f0f8ff;}#sk-container-id-15 div.sk-toggleable__content pre {margin: 0.2em;color: black;border-radius: 0.25em;background-color: #f0f8ff;}#sk-container-id-15 input.sk-toggleable__control:checked~div.sk-toggleable__content {max-height: 200px;max-width: 100%;overflow: auto;}#sk-container-id-15 input.sk-toggleable__control:checked~label.sk-toggleable__label-arrow:before {content: \"▾\";}#sk-container-id-15 div.sk-estimator input.sk-toggleable__control:checked~label.sk-toggleable__label {background-color: #d4ebff;}#sk-container-id-15 div.sk-label input.sk-toggleable__control:checked~label.sk-toggleable__label {background-color: #d4ebff;}#sk-container-id-15 input.sk-hidden--visually {border: 0;clip: rect(1px 1px 1px 1px);clip: rect(1px, 1px, 1px, 1px);height: 1px;margin: -1px;overflow: hidden;padding: 0;position: absolute;width: 1px;}#sk-container-id-15 div.sk-estimator {font-family: monospace;background-color: #f0f8ff;border: 1px dotted black;border-radius: 0.25em;box-sizing: border-box;margin-bottom: 0.5em;}#sk-container-id-15 div.sk-estimator:hover {background-color: #d4ebff;}#sk-container-id-15 div.sk-parallel-item::after {content: \"\";width: 100%;border-bottom: 1px solid gray;flex-grow: 1;}#sk-container-id-15 div.sk-label:hover label.sk-toggleable__label {background-color: #d4ebff;}#sk-container-id-15 div.sk-serial::before {content: \"\";position: absolute;border-left: 1px solid gray;box-sizing: border-box;top: 0;bottom: 0;left: 50%;z-index: 0;}#sk-container-id-15 div.sk-serial {display: flex;flex-direction: column;align-items: center;background-color: white;padding-right: 0.2em;padding-left: 0.2em;position: relative;}#sk-container-id-15 div.sk-item {position: relative;z-index: 1;}#sk-container-id-15 div.sk-parallel {display: flex;align-items: stretch;justify-content: center;background-color: white;position: relative;}#sk-container-id-15 div.sk-item::before, #sk-container-id-15 div.sk-parallel-item::before {content: \"\";position: absolute;border-left: 1px solid gray;box-sizing: border-box;top: 0;bottom: 0;left: 50%;z-index: -1;}#sk-container-id-15 div.sk-parallel-item {display: flex;flex-direction: column;z-index: 1;position: relative;background-color: white;}#sk-container-id-15 div.sk-parallel-item:first-child::after {align-self: flex-end;width: 50%;}#sk-container-id-15 div.sk-parallel-item:last-child::after {align-self: flex-start;width: 50%;}#sk-container-id-15 div.sk-parallel-item:only-child::after {width: 0;}#sk-container-id-15 div.sk-dashed-wrapped {border: 1px dashed gray;margin: 0 0.4em 0.5em 0.4em;box-sizing: border-box;padding-bottom: 0.4em;background-color: white;}#sk-container-id-15 div.sk-label label {font-family: monospace;font-weight: bold;display: inline-block;line-height: 1.2em;}#sk-container-id-15 div.sk-label-container {text-align: center;}#sk-container-id-15 div.sk-container {/* jupyter's `normalize.less` sets `[hidden] { display: none; }` but bootstrap.min.css set `[hidden] { display: none !important; }` so we also need the `!important` here to be able to override the default hidden behavior on the sphinx rendered scikit-learn.org. See: https://github.com/scikit-learn/scikit-learn/issues/21755 */display: inline-block !important;position: relative;}#sk-container-id-15 div.sk-text-repr-fallback {display: none;}</style><div id=\"sk-container-id-15\" class=\"sk-top-container\"><div class=\"sk-text-repr-fallback\"><pre>Pipeline(steps=[(&#x27;cvec&#x27;,\n",
       "                 CountVectorizer(max_df=0.9, max_features=200, min_df=3,\n",
       "                                 ngram_range=(1, 2),\n",
       "                                 stop_words=[&#x27;both&#x27;, &#x27;been&#x27;, &#x27;few&#x27;, &#x27;doesn&#x27;,\n",
       "                                             &#x27;your&#x27;, &#x27;amp&#x27;, &#x27;m&#x27;, &#x27;because&#x27;,\n",
       "                                             &#x27;didn&#x27;, &#x27;but&#x27;, &#x27;there&#x27;, &quot;shan&#x27;t&quot;,\n",
       "                                             &#x27;more&#x27;, &#x27;she&#x27;, &#x27;couldn&#x27;,\n",
       "                                             &#x27;ourselves&#x27;, &#x27;then&#x27;, &quot;needn&#x27;t&quot;,\n",
       "                                             &#x27;than&#x27;, &quot;doesn&#x27;t&quot;, &#x27;its&#x27;, &#x27;ma&#x27;,\n",
       "                                             &#x27;their&#x27;, &#x27;these&#x27;, &#x27;nor&#x27;, &quot;it&#x27;s&quot;,\n",
       "                                             &quot;that&#x27;ll&quot;, &#x27;below&#x27;, &quot;isn&#x27;t&quot;,\n",
       "                                             &quot;mustn&#x27;t&quot;, ...])),\n",
       "                (&#x27;ss&#x27;, StandardScaler(with_mean=False)),\n",
       "                (&#x27;knn&#x27;, KNeighborsClassifier())])</pre><b>In a Jupyter environment, please rerun this cell to show the HTML representation or trust the notebook. <br />On GitHub, the HTML representation is unable to render, please try loading this page with nbviewer.org.</b></div><div class=\"sk-container\" hidden><div class=\"sk-item sk-dashed-wrapped\"><div class=\"sk-label-container\"><div class=\"sk-label sk-toggleable\"><input class=\"sk-toggleable__control sk-hidden--visually\" id=\"sk-estimator-id-55\" type=\"checkbox\" ><label for=\"sk-estimator-id-55\" class=\"sk-toggleable__label sk-toggleable__label-arrow\">Pipeline</label><div class=\"sk-toggleable__content\"><pre>Pipeline(steps=[(&#x27;cvec&#x27;,\n",
       "                 CountVectorizer(max_df=0.9, max_features=200, min_df=3,\n",
       "                                 ngram_range=(1, 2),\n",
       "                                 stop_words=[&#x27;both&#x27;, &#x27;been&#x27;, &#x27;few&#x27;, &#x27;doesn&#x27;,\n",
       "                                             &#x27;your&#x27;, &#x27;amp&#x27;, &#x27;m&#x27;, &#x27;because&#x27;,\n",
       "                                             &#x27;didn&#x27;, &#x27;but&#x27;, &#x27;there&#x27;, &quot;shan&#x27;t&quot;,\n",
       "                                             &#x27;more&#x27;, &#x27;she&#x27;, &#x27;couldn&#x27;,\n",
       "                                             &#x27;ourselves&#x27;, &#x27;then&#x27;, &quot;needn&#x27;t&quot;,\n",
       "                                             &#x27;than&#x27;, &quot;doesn&#x27;t&quot;, &#x27;its&#x27;, &#x27;ma&#x27;,\n",
       "                                             &#x27;their&#x27;, &#x27;these&#x27;, &#x27;nor&#x27;, &quot;it&#x27;s&quot;,\n",
       "                                             &quot;that&#x27;ll&quot;, &#x27;below&#x27;, &quot;isn&#x27;t&quot;,\n",
       "                                             &quot;mustn&#x27;t&quot;, ...])),\n",
       "                (&#x27;ss&#x27;, StandardScaler(with_mean=False)),\n",
       "                (&#x27;knn&#x27;, KNeighborsClassifier())])</pre></div></div></div><div class=\"sk-serial\"><div class=\"sk-item\"><div class=\"sk-estimator sk-toggleable\"><input class=\"sk-toggleable__control sk-hidden--visually\" id=\"sk-estimator-id-56\" type=\"checkbox\" ><label for=\"sk-estimator-id-56\" class=\"sk-toggleable__label sk-toggleable__label-arrow\">CountVectorizer</label><div class=\"sk-toggleable__content\"><pre>CountVectorizer(max_df=0.9, max_features=200, min_df=3, ngram_range=(1, 2),\n",
       "                stop_words=[&#x27;both&#x27;, &#x27;been&#x27;, &#x27;few&#x27;, &#x27;doesn&#x27;, &#x27;your&#x27;, &#x27;amp&#x27;, &#x27;m&#x27;,\n",
       "                            &#x27;because&#x27;, &#x27;didn&#x27;, &#x27;but&#x27;, &#x27;there&#x27;, &quot;shan&#x27;t&quot;, &#x27;more&#x27;,\n",
       "                            &#x27;she&#x27;, &#x27;couldn&#x27;, &#x27;ourselves&#x27;, &#x27;then&#x27;, &quot;needn&#x27;t&quot;,\n",
       "                            &#x27;than&#x27;, &quot;doesn&#x27;t&quot;, &#x27;its&#x27;, &#x27;ma&#x27;, &#x27;their&#x27;, &#x27;these&#x27;,\n",
       "                            &#x27;nor&#x27;, &quot;it&#x27;s&quot;, &quot;that&#x27;ll&quot;, &#x27;below&#x27;, &quot;isn&#x27;t&quot;,\n",
       "                            &quot;mustn&#x27;t&quot;, ...])</pre></div></div></div><div class=\"sk-item\"><div class=\"sk-estimator sk-toggleable\"><input class=\"sk-toggleable__control sk-hidden--visually\" id=\"sk-estimator-id-57\" type=\"checkbox\" ><label for=\"sk-estimator-id-57\" class=\"sk-toggleable__label sk-toggleable__label-arrow\">StandardScaler</label><div class=\"sk-toggleable__content\"><pre>StandardScaler(with_mean=False)</pre></div></div></div><div class=\"sk-item\"><div class=\"sk-estimator sk-toggleable\"><input class=\"sk-toggleable__control sk-hidden--visually\" id=\"sk-estimator-id-58\" type=\"checkbox\" ><label for=\"sk-estimator-id-58\" class=\"sk-toggleable__label sk-toggleable__label-arrow\">KNeighborsClassifier</label><div class=\"sk-toggleable__content\"><pre>KNeighborsClassifier()</pre></div></div></div></div></div></div></div>"
      ],
      "text/plain": [
       "Pipeline(steps=[('cvec',\n",
       "                 CountVectorizer(max_df=0.9, max_features=200, min_df=3,\n",
       "                                 ngram_range=(1, 2),\n",
       "                                 stop_words=['both', 'been', 'few', 'doesn',\n",
       "                                             'your', 'amp', 'm', 'because',\n",
       "                                             'didn', 'but', 'there', \"shan't\",\n",
       "                                             'more', 'she', 'couldn',\n",
       "                                             'ourselves', 'then', \"needn't\",\n",
       "                                             'than', \"doesn't\", 'its', 'ma',\n",
       "                                             'their', 'these', 'nor', \"it's\",\n",
       "                                             \"that'll\", 'below', \"isn't\",\n",
       "                                             \"mustn't\", ...])),\n",
       "                ('ss', StandardScaler(with_mean=False)),\n",
       "                ('knn', KNeighborsClassifier())])"
      ]
     },
     "execution_count": 115,
     "metadata": {},
     "output_type": "execute_result"
    }
   ],
   "source": [
    "best_knn_model = grid_search_knn.best_estimator_\n",
    "best_knn_model"
   ]
  },
  {
   "cell_type": "code",
   "execution_count": 116,
   "id": "9b543152-7df5-4f50-9e6b-ed7cf898b9ad",
   "metadata": {},
   "outputs": [],
   "source": [
    "# Get predictions for the test set\n",
    "knn_preds = grid_search_knn.predict(X_test_preprocessed)\n"
   ]
  },
  {
   "cell_type": "code",
   "execution_count": 117,
   "id": "a05d28ae-fcc5-4d8e-b29e-c6ace832a551",
   "metadata": {
    "tags": []
   },
   "outputs": [
    {
     "data": {
      "image/png": "[encoded data removed]",
      "text/plain": [
       "<Figure size 800x600 with 2 Axes>"
      ]
     },
     "metadata": {},
     "output_type": "display_data"
    }
   ],
   "source": [
    "# Extract confusion matrix values\n",
    "tn_knn, fp_knn, fn_knn, tp_knn = conf_matrix_knn.ravel()\n",
    "\n",
    "# Confusion Matrix Visualization for KNN\n",
    "plt.figure(figsize=(8, 6))\n",
    "sns.heatmap([[tn_knn, fp_knn], [fn_knn, tp_knn]], annot=True, fmt=\"d\", cmap=\"ocean\", annot_kws={\"size\": 16},\n",
    "            xticklabels=[\"Predicted 0\", \"Predicted 1\"], yticklabels=[\"Actual 0\", \"Actual 1\"])\n",
    "plt.title(\"Confusion Matrix - K-Nearest Neighbors (KNN)\")\n",
    "plt.show()"
   ]
  },
  {
   "cell_type": "code",
   "execution_count": 118,
   "id": "8902ec84-b4ea-4b12-a4fb-da559013397b",
   "metadata": {},
   "outputs": [
    {
     "name": "stdout",
     "output_type": "stream",
     "text": [
      "Classification Report for K-Nearest Neighbors (KNN):\n",
      "              precision    recall  f1-score   support\n",
      "\n",
      "           0       0.77      0.59      0.67       161\n",
      "           1       0.68      0.83      0.75       167\n",
      "\n",
      "    accuracy                           0.71       328\n",
      "   macro avg       0.73      0.71      0.71       328\n",
      "weighted avg       0.72      0.71      0.71       328\n",
      "\n"
     ]
    }
   ],
   "source": [
    "# Classification Report for KNN\n",
    "class_report_knn = classification_report(y_test, knn_preds)\n",
    "print(\"Classification Report for K-Nearest Neighbors (KNN):\")\n",
    "print(class_report_knn)"
   ]
  },
  {
   "cell_type": "markdown",
   "id": "393567c7-f855-493e-8d94-652e1ecfec83",
   "metadata": {},
   "source": [
    "**Classification report:**\n",
    "\n",
    "- r/datascience (Class 0): Precision of 0.77 means that out of all instances predicted as r/datascience, 77% are correct. It indicates a low false positive rate.Recall of 0.59 means that out of all actual r/datascience instances, 59% were correctly predicted by the model.\n",
    "\n",
    "- r/jobs (Class 1): Precision of 0.68 means that out of all instances predicted as r/jobs, 68% are correct. It indicates a low false positive rate. Recall of 0.83 means that out of all actual r/jobs instances, 83% were correctly predicted by the model.\n",
    "\n",
    "**Confusion matrix**\n",
    "\n",
    "- True Positives (139): Model correctly predicted post from r/jobs\n",
    "- True Negative (95): Model correctly predicted post from r/datascience\n",
    "- False Positives (66): Model incorrectly predicted posts from r/jobs when the actual subreddit was r/datascience\n",
    "- False Negatives (28): Model incorrectly predicted posts from r/datascience when the actual subreddit was r/jobs\n",
    "\n",
    "The model correctly identifies both r/datascience and r/jobs posts, demonstrating high accuracy, as evidenced by the high counts in the diagonal elements.\n",
    "\n",
    "\n",
    "**Interpretation:**\n",
    "\n",
    "- Overall, the K-Nearest Neighbors (KNN) model with the specified hyperparameters performs better than the baseline model. Both the training and testing and demonstrate decent performance with high accuracy, precision, and recall. The best cross-validation accuracy achieved during the grid search was 74.56% (This is a decent performance, suggesting that the model can effectively distinguish between the two subreddits). The accuracy on the training set was 85.64%, while the testing set was 71.34%. These scores suggest that the model might be overfitting to some extent. The model exhibits high precision and recall for both classes, indicating that it performs well in correctly classifying posts for both subreddits. The classification report supports the notion that the model is robust and effective in distinguishing between the two subreddits, meeting the project's objectives effectively.\n"
   ]
  },
  {
   "cell_type": "markdown",
   "id": "520a885a-f12f-42c9-a5c8-669911c099c7",
   "metadata": {},
   "source": [
    "**Distinctive characteristics, that define an ideal data scientist for our startup, as perceived by the hiring team**"
   ]
  },
  {
   "cell_type": "code",
   "execution_count": 121,
   "id": "35a69151-702b-43a5-bf0e-edcb9f781356",
   "metadata": {
    "tags": []
   },
   "outputs": [],
   "source": [
    "cvec = CountVectorizer(stop_words=list(stop_words), \n",
    "                       max_features=5000, ngram_range=(1, 2))"
   ]
  },
  {
   "cell_type": "code",
   "execution_count": 122,
   "id": "ba5aa9bc-a786-418e-aff2-56ab07876130",
   "metadata": {
    "tags": []
   },
   "outputs": [],
   "source": [
    "X_train_cvec = pd.DataFrame(cvec.fit_transform(X_train_preprocessed).todense(), \n",
    "                            columns=cvec.get_feature_names_out())"
   ]
  },
  {
   "cell_type": "code",
   "execution_count": 126,
   "id": "a8d1356d-a942-4c39-bb44-4e9ba1c5609a",
   "metadata": {
    "tags": []
   },
   "outputs": [
    {
     "data": {
      "image/png": "[encoded data removed]",
      "text/plain": [
       "<Figure size 1000x600 with 1 Axes>"
      ]
     },
     "metadata": {},
     "output_type": "display_data"
    }
   ],
   "source": [
    "#combined plot of occurence words for both r/jobs and r/datascience\n",
    "plt.figure(figsize=(10, 6))\n",
    "X_train_cvec.sum().sort_values(ascending=False).head(20).plot(kind='barh', color='skyblue')\n",
    "plt.title('Top 20 Occurring Words - CountVectorizer')\n",
    "plt.xlabel('Frequency')\n",
    "plt.ylabel('Words')\n",
    "plt.show()"
   ]
  },
  {
   "cell_type": "code",
   "execution_count": 186,
   "id": "b99c5ef0-05e1-4d63-97b3-06d4894d0d3f",
   "metadata": {
    "tags": []
   },
   "outputs": [],
   "source": [
    "# List of words hiring team wants to ommit to find Distinctive characteristics\n",
    "#can be updated with more words\n",
    "new_custom_stop_words = ['really', 'also', 'new', 'people', 'jobs', 'one', 'know', 'working', 'work', 'would', \n",
    "                     'like', 'get', 'could', 'go', 'something', 'back', 'role', 'even', 'looking', 'first', \n",
    "                     'make', 'think', 'use', 'feel', 'told',\n",
    "                         'since', 'got', 'want', 'years', 'time', 'need',\n",
    "                         'day', 'told', 'going', 'months', \n",
    "                         'position', 'pay', 'week', 'year', 'job',\n",
    "                        'find', 'two', 'never', 'much', 'well', 'help', 'days', 'hours',\n",
    "                         'said', 'take', 'advice', 'still', 'offer', \n",
    "                         'good', 'manager', 'interview', 'company', 'experience',\n",
    "                        'anyone', 'getting', 'money', 'last', 'boss', 'things', 'school', 'start', 'lot', 'worked', \n",
    "                         'way', 'current', 'long', 'ask', 'someone', 'career', 'applied', 'next', 'degree', 'salary', \n",
    "                         'currently', 'life', 'sure', 'weeks', 'resume', 'everyone', 'home', 'right', 'another', 'interviews', \n",
    "                         'anything', 'around', 'give', 'today', 'started', 'every', 'recently', 'say', 'ago', 'better', 'using',\n",
    "                         'com', 'see', 'etc', 'model', 'data', 'team', 'learning', 'science', 'great'\n",
    "                        ]"
   ]
  },
  {
   "cell_type": "code",
   "execution_count": 187,
   "id": "0f0d0eeb-f972-4f91-bc31-328d60dc099e",
   "metadata": {
    "tags": []
   },
   "outputs": [],
   "source": [
    "# Separate data by subreddit\n",
    "X_train_datascience = X_train_preprocessed[y_train == 0]\n",
    "X_train_jobs = X_train_preprocessed[y_train == 1]"
   ]
  },
  {
   "cell_type": "code",
   "execution_count": 188,
   "id": "a2b25347-0d5f-4342-8acd-8e3cef2ebab6",
   "metadata": {
    "tags": []
   },
   "outputs": [],
   "source": [
    "#CountVectorizer for r/jobs\n",
    "cvec_jobs = CountVectorizer(stop_words=list(stop_words) + new_custom_stop_words, max_features=5000, ngram_range=(1, 2))\n",
    "X_train_cvec_jobs = pd.DataFrame(cvec_jobs.fit_transform(X_train_jobs).todense(), \n",
    "                                        columns=cvec_jobs.get_feature_names_out())"
   ]
  },
  {
   "cell_type": "code",
   "execution_count": 178,
   "id": "2f8e67af-f8df-493a-a824-b926c0e6f4ff",
   "metadata": {
    "tags": []
   },
   "outputs": [],
   "source": [
    "# CountVectorizer for r/datascience\n",
    "cvec_datascience = CountVectorizer(stop_words=list(stop_words) + new_custom_stop_words, max_features=5000, ngram_range=(1, 2))\n",
    "X_train_cvec_datascience = pd.DataFrame(cvec_datascience.fit_transform(X_train_datascience).todense(), \n",
    "                                  columns=cvec_datascience.get_feature_names_out())\n"
   ]
  },
  {
   "cell_type": "code",
   "execution_count": 190,
   "id": "6b7897ca-e130-4874-bff9-ade7a28f397e",
   "metadata": {
    "tags": []
   },
   "outputs": [
    {
     "data": {
      "image/png": "[encoded data removed]",
      "text/plain": [
       "<Figure size 1000x600 with 1 Axes>"
      ]
     },
     "metadata": {},
     "output_type": "display_data"
    }
   ],
   "source": [
    "# top occurring words for r/jobs\n",
    "plt.figure(figsize=(10, 6))\n",
    "X_train_cvec_jobs.sum().sort_values(ascending=False).head(20).plot(kind='barh', color='skyblue')\n",
    "plt.title('Top 20 Occurring Words - r/jobs')\n",
    "plt.xlabel('Frequency')\n",
    "plt.ylabel('Words')\n",
    "plt.show()"
   ]
  },
  {
   "cell_type": "code",
   "execution_count": 192,
   "id": "0c78ac60-afac-4121-8120-3028a58b100c",
   "metadata": {
    "tags": []
   },
   "outputs": [
    {
     "data": {
      "image/png": "[encoded data removed]",
      "text/plain": [
       "<Figure size 1000x600 with 1 Axes>"
      ]
     },
     "metadata": {},
     "output_type": "display_data"
    }
   ],
   "source": [
    "# top occurring words for r/datascience\n",
    "plt.figure(figsize=(10, 6))\n",
    "X_train_cvec_datascience.sum().sort_values(ascending=False).head(20).plot(kind='barh', color='salmon')\n",
    "plt.title('Top 20 Occurring Words - r/datasceince')\n",
    "plt.xlabel('Frequency')\n",
    "plt.ylabel('Words')\n",
    "plt.show()"
   ]
  },
  {
   "cell_type": "markdown",
   "id": "139d4bc9-5356-4f88-97e1-5afdc42f661e",
   "metadata": {},
   "source": [
    "\n",
    "\n"
   ]
  },
  {
   "cell_type": "code",
   "execution_count": null,
   "id": "e0007945-0f52-4df0-b79f-d77e51d650c1",
   "metadata": {},
   "outputs": [],
   "source": []
  }
 ],
 "metadata": {
  "kernelspec": {
   "display_name": "Python 3 (ipykernel)",
   "language": "python",
   "name": "python3"
  },
  "language_info": {
   "codemirror_mode": {
    "name": "ipython",
    "version": 3
   },
   "file_extension": ".py",
   "mimetype": "text/x-python",
   "name": "python",
   "nbconvert_exporter": "python",
   "pygments_lexer": "ipython3",
   "version": "3.11.5"
  }
 },
 "nbformat": 4,
 "nbformat_minor": 5
}
